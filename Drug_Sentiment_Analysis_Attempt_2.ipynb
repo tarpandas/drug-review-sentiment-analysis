{
 "cells": [
  {
   "cell_type": "markdown",
   "metadata": {
    "id": "6FXkKERRhANT"
   },
   "source": [
    "### **1. Importing dataset and libraries** ###"
   ]
  },
  {
   "cell_type": "code",
   "execution_count": 1,
   "metadata": {
    "colab": {
     "base_uri": "https://localhost:8080/"
    },
    "id": "bxC1IgunYAGc",
    "outputId": "b26b7f6b-956d-46a3-eeb6-68e0b8b2da2e"
   },
   "outputs": [],
   "source": [
    "# from google.colab import drive\n",
    "# drive.mount ('/content/drive')"
   ]
  },
  {
   "cell_type": "code",
   "execution_count": 2,
   "metadata": {
    "colab": {
     "base_uri": "https://localhost:8080/",
     "height": 0
    },
    "id": "fdEz-MA2YZwj",
    "outputId": "424229e8-5b2f-409a-b925-0207dec539c0"
   },
   "outputs": [
    {
     "data": {
      "text/html": [
       "<div>\n",
       "<style scoped>\n",
       "    .dataframe tbody tr th:only-of-type {\n",
       "        vertical-align: middle;\n",
       "    }\n",
       "\n",
       "    .dataframe tbody tr th {\n",
       "        vertical-align: top;\n",
       "    }\n",
       "\n",
       "    .dataframe thead th {\n",
       "        text-align: right;\n",
       "    }\n",
       "</style>\n",
       "<table border=\"1\" class=\"dataframe\">\n",
       "  <thead>\n",
       "    <tr style=\"text-align: right;\">\n",
       "      <th></th>\n",
       "      <th>uniqueID</th>\n",
       "      <th>drugName</th>\n",
       "      <th>condition</th>\n",
       "      <th>review</th>\n",
       "      <th>rating</th>\n",
       "      <th>date</th>\n",
       "      <th>usefulCount</th>\n",
       "    </tr>\n",
       "  </thead>\n",
       "  <tbody>\n",
       "    <tr>\n",
       "      <th>0</th>\n",
       "      <td>102654</td>\n",
       "      <td>Aripiprazole</td>\n",
       "      <td>Bipolar Disorde</td>\n",
       "      <td>\"Abilify changed my life. There is hope. I was...</td>\n",
       "      <td>3</td>\n",
       "      <td>2015-03-14</td>\n",
       "      <td>32</td>\n",
       "    </tr>\n",
       "    <tr>\n",
       "      <th>1</th>\n",
       "      <td>75612</td>\n",
       "      <td>L-methylfolate</td>\n",
       "      <td>Depression</td>\n",
       "      <td>\"I have taken anti-depressants for years, with...</td>\n",
       "      <td>3</td>\n",
       "      <td>2017-03-09</td>\n",
       "      <td>54</td>\n",
       "    </tr>\n",
       "    <tr>\n",
       "      <th>2</th>\n",
       "      <td>212077</td>\n",
       "      <td>Lamotrigine</td>\n",
       "      <td>Bipolar Disorde</td>\n",
       "      <td>\"I&amp;#039;ve been on every medicine under the su...</td>\n",
       "      <td>3</td>\n",
       "      <td>2014-11-09</td>\n",
       "      <td>18</td>\n",
       "    </tr>\n",
       "    <tr>\n",
       "      <th>3</th>\n",
       "      <td>119705</td>\n",
       "      <td>Nilotinib</td>\n",
       "      <td>Chronic Myelogenous Leukemia</td>\n",
       "      <td>\"I have been on Tasigna for just over 3 years ...</td>\n",
       "      <td>3</td>\n",
       "      <td>2015-09-01</td>\n",
       "      <td>11</td>\n",
       "    </tr>\n",
       "    <tr>\n",
       "      <th>4</th>\n",
       "      <td>231466</td>\n",
       "      <td>Trazodone</td>\n",
       "      <td>Insomnia</td>\n",
       "      <td>\"I have insomnia, it&amp;#039;s horrible. My story...</td>\n",
       "      <td>3</td>\n",
       "      <td>2016-04-03</td>\n",
       "      <td>43</td>\n",
       "    </tr>\n",
       "    <tr>\n",
       "      <th>5</th>\n",
       "      <td>41928</td>\n",
       "      <td>Etanercept</td>\n",
       "      <td>Rheumatoid Arthritis</td>\n",
       "      <td>\"I live in Western Australia and disturbed by ...</td>\n",
       "      <td>3</td>\n",
       "      <td>2017-09-16</td>\n",
       "      <td>4</td>\n",
       "    </tr>\n",
       "    <tr>\n",
       "      <th>6</th>\n",
       "      <td>206180</td>\n",
       "      <td>Eflornithine</td>\n",
       "      <td>Hirsutism</td>\n",
       "      <td>\"I&amp;#039;m writing a second review on Vaniqa.  ...</td>\n",
       "      <td>3</td>\n",
       "      <td>2014-05-11</td>\n",
       "      <td>99</td>\n",
       "    </tr>\n",
       "    <tr>\n",
       "      <th>7</th>\n",
       "      <td>78563</td>\n",
       "      <td>Daytrana</td>\n",
       "      <td>ADHD</td>\n",
       "      <td>\"Hi all, My son who is 12 was diagnosed when h...</td>\n",
       "      <td>3</td>\n",
       "      <td>2017-01-12</td>\n",
       "      <td>11</td>\n",
       "    </tr>\n",
       "    <tr>\n",
       "      <th>8</th>\n",
       "      <td>51452</td>\n",
       "      <td>Azithromycin</td>\n",
       "      <td>NaN</td>\n",
       "      <td>\"Very good response. It is so useful for me. \"</td>\n",
       "      <td>3</td>\n",
       "      <td>2010-08-18</td>\n",
       "      <td>1</td>\n",
       "    </tr>\n",
       "    <tr>\n",
       "      <th>9</th>\n",
       "      <td>204999</td>\n",
       "      <td>Toradol</td>\n",
       "      <td>Pain</td>\n",
       "      <td>\"I am 30 years old. I had a multiple composite...</td>\n",
       "      <td>3</td>\n",
       "      <td>2013-02-11</td>\n",
       "      <td>16</td>\n",
       "    </tr>\n",
       "  </tbody>\n",
       "</table>\n",
       "</div>"
      ],
      "text/plain": [
       "   uniqueID        drugName                     condition  \\\n",
       "0    102654    Aripiprazole               Bipolar Disorde   \n",
       "1     75612  L-methylfolate                    Depression   \n",
       "2    212077     Lamotrigine               Bipolar Disorde   \n",
       "3    119705       Nilotinib  Chronic Myelogenous Leukemia   \n",
       "4    231466       Trazodone                      Insomnia   \n",
       "5     41928      Etanercept          Rheumatoid Arthritis   \n",
       "6    206180    Eflornithine                     Hirsutism   \n",
       "7     78563        Daytrana                          ADHD   \n",
       "8     51452    Azithromycin                           NaN   \n",
       "9    204999         Toradol                          Pain   \n",
       "\n",
       "                                              review  rating       date  \\\n",
       "0  \"Abilify changed my life. There is hope. I was...       3 2015-03-14   \n",
       "1  \"I have taken anti-depressants for years, with...       3 2017-03-09   \n",
       "2  \"I&#039;ve been on every medicine under the su...       3 2014-11-09   \n",
       "3  \"I have been on Tasigna for just over 3 years ...       3 2015-09-01   \n",
       "4  \"I have insomnia, it&#039;s horrible. My story...       3 2016-04-03   \n",
       "5  \"I live in Western Australia and disturbed by ...       3 2017-09-16   \n",
       "6  \"I&#039;m writing a second review on Vaniqa.  ...       3 2014-05-11   \n",
       "7  \"Hi all, My son who is 12 was diagnosed when h...       3 2017-01-12   \n",
       "8     \"Very good response. It is so useful for me. \"       3 2010-08-18   \n",
       "9  \"I am 30 years old. I had a multiple composite...       3 2013-02-11   \n",
       "\n",
       "   usefulCount  \n",
       "0           32  \n",
       "1           54  \n",
       "2           18  \n",
       "3           11  \n",
       "4           43  \n",
       "5            4  \n",
       "6           99  \n",
       "7           11  \n",
       "8            1  \n",
       "9           16  "
      ]
     },
     "execution_count": 2,
     "metadata": {},
     "output_type": "execute_result"
    }
   ],
   "source": [
    "import pandas as pd\n",
    "# path = \"/content/drive/MyDrive/Drug Test - Deep Learning/drug-train new 2-8.xlsx\"\n",
    "path = \"drug-train new 2-8.xlsx\"\n",
    "df_train = pd.read_excel(path)\n",
    "df_train.head(10)"
   ]
  },
  {
   "cell_type": "code",
   "execution_count": 3,
   "metadata": {
    "colab": {
     "base_uri": "https://localhost:8080/",
     "height": 0
    },
    "id": "0C_C8Ljd1zQh",
    "outputId": "f02b29cf-657b-415b-f1e0-a4bfab9a6007"
   },
   "outputs": [
    {
     "data": {
      "text/html": [
       "<div>\n",
       "<style scoped>\n",
       "    .dataframe tbody tr th:only-of-type {\n",
       "        vertical-align: middle;\n",
       "    }\n",
       "\n",
       "    .dataframe tbody tr th {\n",
       "        vertical-align: top;\n",
       "    }\n",
       "\n",
       "    .dataframe thead th {\n",
       "        text-align: right;\n",
       "    }\n",
       "</style>\n",
       "<table border=\"1\" class=\"dataframe\">\n",
       "  <thead>\n",
       "    <tr style=\"text-align: right;\">\n",
       "      <th></th>\n",
       "      <th>uniqueID</th>\n",
       "      <th>drugName</th>\n",
       "      <th>condition</th>\n",
       "      <th>review</th>\n",
       "      <th>rating</th>\n",
       "      <th>date</th>\n",
       "      <th>usefulCount</th>\n",
       "    </tr>\n",
       "  </thead>\n",
       "  <tbody>\n",
       "    <tr>\n",
       "      <th>0</th>\n",
       "      <td>163740</td>\n",
       "      <td>Mirtazapine</td>\n",
       "      <td>Depression</td>\n",
       "      <td>\"I&amp;#039;ve tried a few antidepressants over th...</td>\n",
       "      <td>3</td>\n",
       "      <td>2012-02-28</td>\n",
       "      <td>22</td>\n",
       "    </tr>\n",
       "    <tr>\n",
       "      <th>1</th>\n",
       "      <td>206473</td>\n",
       "      <td>Mesalamine</td>\n",
       "      <td>Crohn's Disease, Maintenance</td>\n",
       "      <td>\"My son has Crohn&amp;#039;s disease and has done ...</td>\n",
       "      <td>3</td>\n",
       "      <td>2009-05-17</td>\n",
       "      <td>17</td>\n",
       "    </tr>\n",
       "    <tr>\n",
       "      <th>2</th>\n",
       "      <td>159672</td>\n",
       "      <td>Bactrim</td>\n",
       "      <td>Urinary Tract Infection</td>\n",
       "      <td>\"Quick reduction of symptoms\"</td>\n",
       "      <td>3</td>\n",
       "      <td>2017-09-29</td>\n",
       "      <td>3</td>\n",
       "    </tr>\n",
       "    <tr>\n",
       "      <th>3</th>\n",
       "      <td>39293</td>\n",
       "      <td>Contrave</td>\n",
       "      <td>Weight Loss</td>\n",
       "      <td>\"Contrave combines drugs that were used for al...</td>\n",
       "      <td>3</td>\n",
       "      <td>2017-03-05</td>\n",
       "      <td>35</td>\n",
       "    </tr>\n",
       "    <tr>\n",
       "      <th>4</th>\n",
       "      <td>97768</td>\n",
       "      <td>Cyclafem 1 / 35</td>\n",
       "      <td>Birth Control</td>\n",
       "      <td>\"I have been on this birth control for one cyc...</td>\n",
       "      <td>3</td>\n",
       "      <td>2015-10-22</td>\n",
       "      <td>4</td>\n",
       "    </tr>\n",
       "    <tr>\n",
       "      <th>5</th>\n",
       "      <td>208087</td>\n",
       "      <td>Zyclara</td>\n",
       "      <td>Keratosis</td>\n",
       "      <td>\"4 days in on first 2 weeks.  Using on arms an...</td>\n",
       "      <td>2</td>\n",
       "      <td>2014-07-03</td>\n",
       "      <td>13</td>\n",
       "    </tr>\n",
       "    <tr>\n",
       "      <th>6</th>\n",
       "      <td>215892</td>\n",
       "      <td>Copper</td>\n",
       "      <td>Birth Control</td>\n",
       "      <td>\"I&amp;#039;ve had the copper coil for about 3 mon...</td>\n",
       "      <td>2</td>\n",
       "      <td>2016-06-06</td>\n",
       "      <td>1</td>\n",
       "    </tr>\n",
       "    <tr>\n",
       "      <th>7</th>\n",
       "      <td>169852</td>\n",
       "      <td>Amitriptyline</td>\n",
       "      <td>Migraine Prevention</td>\n",
       "      <td>\"This has been great for me. I&amp;#039;ve been on...</td>\n",
       "      <td>3</td>\n",
       "      <td>2009-04-21</td>\n",
       "      <td>32</td>\n",
       "    </tr>\n",
       "    <tr>\n",
       "      <th>8</th>\n",
       "      <td>23295</td>\n",
       "      <td>Methadone</td>\n",
       "      <td>Opiate Withdrawal</td>\n",
       "      <td>\"Ive been on Methadone for over ten years and ...</td>\n",
       "      <td>2</td>\n",
       "      <td>2016-10-18</td>\n",
       "      <td>21</td>\n",
       "    </tr>\n",
       "    <tr>\n",
       "      <th>9</th>\n",
       "      <td>71428</td>\n",
       "      <td>Levora</td>\n",
       "      <td>Birth Control</td>\n",
       "      <td>\"I was on this pill for almost two years. It d...</td>\n",
       "      <td>1</td>\n",
       "      <td>2011-04-16</td>\n",
       "      <td>3</td>\n",
       "    </tr>\n",
       "  </tbody>\n",
       "</table>\n",
       "</div>"
      ],
      "text/plain": [
       "   uniqueID         drugName                     condition  \\\n",
       "0    163740      Mirtazapine                    Depression   \n",
       "1    206473       Mesalamine  Crohn's Disease, Maintenance   \n",
       "2    159672          Bactrim       Urinary Tract Infection   \n",
       "3     39293         Contrave                   Weight Loss   \n",
       "4     97768  Cyclafem 1 / 35                 Birth Control   \n",
       "5    208087          Zyclara                     Keratosis   \n",
       "6    215892           Copper                 Birth Control   \n",
       "7    169852    Amitriptyline           Migraine Prevention   \n",
       "8     23295        Methadone             Opiate Withdrawal   \n",
       "9     71428           Levora                 Birth Control   \n",
       "\n",
       "                                              review  rating       date  \\\n",
       "0  \"I&#039;ve tried a few antidepressants over th...       3 2012-02-28   \n",
       "1  \"My son has Crohn&#039;s disease and has done ...       3 2009-05-17   \n",
       "2                      \"Quick reduction of symptoms\"       3 2017-09-29   \n",
       "3  \"Contrave combines drugs that were used for al...       3 2017-03-05   \n",
       "4  \"I have been on this birth control for one cyc...       3 2015-10-22   \n",
       "5  \"4 days in on first 2 weeks.  Using on arms an...       2 2014-07-03   \n",
       "6  \"I&#039;ve had the copper coil for about 3 mon...       2 2016-06-06   \n",
       "7  \"This has been great for me. I&#039;ve been on...       3 2009-04-21   \n",
       "8  \"Ive been on Methadone for over ten years and ...       2 2016-10-18   \n",
       "9  \"I was on this pill for almost two years. It d...       1 2011-04-16   \n",
       "\n",
       "   usefulCount  \n",
       "0           22  \n",
       "1           17  \n",
       "2            3  \n",
       "3           35  \n",
       "4            4  \n",
       "5           13  \n",
       "6            1  \n",
       "7           32  \n",
       "8           21  \n",
       "9            3  "
      ]
     },
     "execution_count": 3,
     "metadata": {},
     "output_type": "execute_result"
    }
   ],
   "source": [
    "# path = \"/content/drive/MyDrive/Drug Test - Deep Learning/drug-test new 2-8.xlsx\"\n",
    "path = \"drug-test new 2-8.xlsx\"\n",
    "df_test = pd.read_excel(path)\n",
    "df_test.head(10)"
   ]
  },
  {
   "cell_type": "code",
   "execution_count": 4,
   "metadata": {
    "colab": {
     "base_uri": "https://localhost:8080/"
    },
    "id": "7sh-Y2IiY90Z",
    "outputId": "8a6fc343-9103-4ee4-c678-a7a1535e1ab2"
   },
   "outputs": [
    {
     "name": "stderr",
     "output_type": "stream",
     "text": [
      "[nltk_data] Downloading package punkt to\n",
      "[nltk_data]     C:\\Users\\tarpa\\AppData\\Roaming\\nltk_data...\n",
      "[nltk_data]   Package punkt is already up-to-date!\n",
      "[nltk_data] Downloading package stopwords to\n",
      "[nltk_data]     C:\\Users\\tarpa\\AppData\\Roaming\\nltk_data...\n",
      "[nltk_data]   Package stopwords is already up-to-date!\n",
      "[nltk_data] Downloading package wordnet to\n",
      "[nltk_data]     C:\\Users\\tarpa\\AppData\\Roaming\\nltk_data...\n",
      "[nltk_data]   Package wordnet is already up-to-date!\n"
     ]
    }
   ],
   "source": [
    "# Preprocessing packages\n",
    "import re\n",
    "import string\n",
    "import nltk\n",
    "from nltk.corpus import stopwords\n",
    "from nltk.tokenize import word_tokenize\n",
    "from nltk.stem import PorterStemmer\n",
    "from nltk.stem import WordNetLemmatizer\n",
    "import matplotlib.pyplot as plt\n",
    "import seaborn as sns\n",
    "nltk.download('punkt')\n",
    "nltk.download('stopwords')\n",
    "nltk.download('wordnet')\n",
    "from nltk.corpus import stopwords\n",
    "stopwords = stopwords.words('english')"
   ]
  },
  {
   "cell_type": "markdown",
   "metadata": {
    "id": "TWgyb5z8hR9R"
   },
   "source": [
    "### **2. Understanding the data** ###"
   ]
  },
  {
   "cell_type": "markdown",
   "metadata": {
    "id": "EOHUq5Zc27d1"
   },
   "source": [
    "#### **2.1. Training data** ####"
   ]
  },
  {
   "cell_type": "code",
   "execution_count": 5,
   "metadata": {
    "colab": {
     "base_uri": "https://localhost:8080/",
     "height": 0
    },
    "id": "r2-_84U7ZjLy",
    "outputId": "41bc11db-2514-43a1-f8d7-66f6217122c4"
   },
   "outputs": [
    {
     "data": {
      "text/html": [
       "<div>\n",
       "<style scoped>\n",
       "    .dataframe tbody tr th:only-of-type {\n",
       "        vertical-align: middle;\n",
       "    }\n",
       "\n",
       "    .dataframe tbody tr th {\n",
       "        vertical-align: top;\n",
       "    }\n",
       "\n",
       "    .dataframe thead th {\n",
       "        text-align: right;\n",
       "    }\n",
       "</style>\n",
       "<table border=\"1\" class=\"dataframe\">\n",
       "  <thead>\n",
       "    <tr style=\"text-align: right;\">\n",
       "      <th></th>\n",
       "      <th>uniqueID</th>\n",
       "      <th>drugName</th>\n",
       "      <th>condition</th>\n",
       "      <th>review</th>\n",
       "      <th>rating</th>\n",
       "      <th>date</th>\n",
       "      <th>usefulCount</th>\n",
       "    </tr>\n",
       "  </thead>\n",
       "  <tbody>\n",
       "    <tr>\n",
       "      <th>0</th>\n",
       "      <td>102654</td>\n",
       "      <td>Aripiprazole</td>\n",
       "      <td>Bipolar Disorde</td>\n",
       "      <td>\"Abilify changed my life. There is hope. I was...</td>\n",
       "      <td>3</td>\n",
       "      <td>2015-03-14</td>\n",
       "      <td>32</td>\n",
       "    </tr>\n",
       "    <tr>\n",
       "      <th>1</th>\n",
       "      <td>75612</td>\n",
       "      <td>L-methylfolate</td>\n",
       "      <td>Depression</td>\n",
       "      <td>\"I have taken anti-depressants for years, with...</td>\n",
       "      <td>3</td>\n",
       "      <td>2017-03-09</td>\n",
       "      <td>54</td>\n",
       "    </tr>\n",
       "    <tr>\n",
       "      <th>2</th>\n",
       "      <td>212077</td>\n",
       "      <td>Lamotrigine</td>\n",
       "      <td>Bipolar Disorde</td>\n",
       "      <td>\"I&amp;#039;ve been on every medicine under the su...</td>\n",
       "      <td>3</td>\n",
       "      <td>2014-11-09</td>\n",
       "      <td>18</td>\n",
       "    </tr>\n",
       "    <tr>\n",
       "      <th>3</th>\n",
       "      <td>119705</td>\n",
       "      <td>Nilotinib</td>\n",
       "      <td>Chronic Myelogenous Leukemia</td>\n",
       "      <td>\"I have been on Tasigna for just over 3 years ...</td>\n",
       "      <td>3</td>\n",
       "      <td>2015-09-01</td>\n",
       "      <td>11</td>\n",
       "    </tr>\n",
       "    <tr>\n",
       "      <th>4</th>\n",
       "      <td>231466</td>\n",
       "      <td>Trazodone</td>\n",
       "      <td>Insomnia</td>\n",
       "      <td>\"I have insomnia, it&amp;#039;s horrible. My story...</td>\n",
       "      <td>3</td>\n",
       "      <td>2016-04-03</td>\n",
       "      <td>43</td>\n",
       "    </tr>\n",
       "  </tbody>\n",
       "</table>\n",
       "</div>"
      ],
      "text/plain": [
       "   uniqueID        drugName                     condition  \\\n",
       "0    102654    Aripiprazole               Bipolar Disorde   \n",
       "1     75612  L-methylfolate                    Depression   \n",
       "2    212077     Lamotrigine               Bipolar Disorde   \n",
       "3    119705       Nilotinib  Chronic Myelogenous Leukemia   \n",
       "4    231466       Trazodone                      Insomnia   \n",
       "\n",
       "                                              review  rating       date  \\\n",
       "0  \"Abilify changed my life. There is hope. I was...       3 2015-03-14   \n",
       "1  \"I have taken anti-depressants for years, with...       3 2017-03-09   \n",
       "2  \"I&#039;ve been on every medicine under the su...       3 2014-11-09   \n",
       "3  \"I have been on Tasigna for just over 3 years ...       3 2015-09-01   \n",
       "4  \"I have insomnia, it&#039;s horrible. My story...       3 2016-04-03   \n",
       "\n",
       "   usefulCount  \n",
       "0           32  \n",
       "1           54  \n",
       "2           18  \n",
       "3           11  \n",
       "4           43  "
      ]
     },
     "execution_count": 5,
     "metadata": {},
     "output_type": "execute_result"
    }
   ],
   "source": [
    "df_train.head()"
   ]
  },
  {
   "cell_type": "code",
   "execution_count": 6,
   "metadata": {
    "colab": {
     "base_uri": "https://localhost:8080/",
     "height": 0
    },
    "id": "cQhQREmnZmqj",
    "outputId": "8f692081-e220-4521-b756-ceeece533065"
   },
   "outputs": [
    {
     "data": {
      "text/html": [
       "<div>\n",
       "<style scoped>\n",
       "    .dataframe tbody tr th:only-of-type {\n",
       "        vertical-align: middle;\n",
       "    }\n",
       "\n",
       "    .dataframe tbody tr th {\n",
       "        vertical-align: top;\n",
       "    }\n",
       "\n",
       "    .dataframe thead th {\n",
       "        text-align: right;\n",
       "    }\n",
       "</style>\n",
       "<table border=\"1\" class=\"dataframe\">\n",
       "  <thead>\n",
       "    <tr style=\"text-align: right;\">\n",
       "      <th></th>\n",
       "      <th>review</th>\n",
       "      <th>rating</th>\n",
       "    </tr>\n",
       "  </thead>\n",
       "  <tbody>\n",
       "    <tr>\n",
       "      <th>0</th>\n",
       "      <td>\"Abilify changed my life. There is hope. I was...</td>\n",
       "      <td>3</td>\n",
       "    </tr>\n",
       "  </tbody>\n",
       "</table>\n",
       "</div>"
      ],
      "text/plain": [
       "                                              review  rating\n",
       "0  \"Abilify changed my life. There is hope. I was...       3"
      ]
     },
     "execution_count": 6,
     "metadata": {},
     "output_type": "execute_result"
    }
   ],
   "source": [
    "df_train = df_train[['review','rating']]\n",
    "df_train.head(1)"
   ]
  },
  {
   "cell_type": "code",
   "execution_count": 7,
   "metadata": {
    "colab": {
     "base_uri": "https://localhost:8080/",
     "height": 0
    },
    "id": "lP6zWVWpZ55i",
    "outputId": "5db2329e-91b0-4894-ac6d-8851c8443bd1"
   },
   "outputs": [
    {
     "data": {
      "text/html": [
       "<div>\n",
       "<style scoped>\n",
       "    .dataframe tbody tr th:only-of-type {\n",
       "        vertical-align: middle;\n",
       "    }\n",
       "\n",
       "    .dataframe tbody tr th {\n",
       "        vertical-align: top;\n",
       "    }\n",
       "\n",
       "    .dataframe thead th {\n",
       "        text-align: right;\n",
       "    }\n",
       "</style>\n",
       "<table border=\"1\" class=\"dataframe\">\n",
       "  <thead>\n",
       "    <tr style=\"text-align: right;\">\n",
       "      <th></th>\n",
       "      <th>rating</th>\n",
       "    </tr>\n",
       "  </thead>\n",
       "  <tbody>\n",
       "    <tr>\n",
       "      <th>count</th>\n",
       "      <td>161297.000000</td>\n",
       "    </tr>\n",
       "    <tr>\n",
       "      <th>mean</th>\n",
       "      <td>2.386535</td>\n",
       "    </tr>\n",
       "    <tr>\n",
       "      <th>std</th>\n",
       "      <td>0.819691</td>\n",
       "    </tr>\n",
       "    <tr>\n",
       "      <th>min</th>\n",
       "      <td>1.000000</td>\n",
       "    </tr>\n",
       "    <tr>\n",
       "      <th>25%</th>\n",
       "      <td>2.000000</td>\n",
       "    </tr>\n",
       "    <tr>\n",
       "      <th>50%</th>\n",
       "      <td>3.000000</td>\n",
       "    </tr>\n",
       "    <tr>\n",
       "      <th>75%</th>\n",
       "      <td>3.000000</td>\n",
       "    </tr>\n",
       "    <tr>\n",
       "      <th>max</th>\n",
       "      <td>3.000000</td>\n",
       "    </tr>\n",
       "  </tbody>\n",
       "</table>\n",
       "</div>"
      ],
      "text/plain": [
       "              rating\n",
       "count  161297.000000\n",
       "mean        2.386535\n",
       "std         0.819691\n",
       "min         1.000000\n",
       "25%         2.000000\n",
       "50%         3.000000\n",
       "75%         3.000000\n",
       "max         3.000000"
      ]
     },
     "execution_count": 7,
     "metadata": {},
     "output_type": "execute_result"
    }
   ],
   "source": [
    "df_train.describe()"
   ]
  },
  {
   "cell_type": "code",
   "execution_count": 8,
   "metadata": {
    "colab": {
     "base_uri": "https://localhost:8080/"
    },
    "id": "J6ivClvAaLNE",
    "outputId": "75bced24-93aa-404e-e995-d65fc1463a05"
   },
   "outputs": [
    {
     "data": {
      "text/plain": [
       "array([3, 2, 1], dtype=int64)"
      ]
     },
     "execution_count": 8,
     "metadata": {},
     "output_type": "execute_result"
    }
   ],
   "source": [
    "df_train['rating'].unique()"
   ]
  },
  {
   "cell_type": "code",
   "execution_count": 9,
   "metadata": {
    "colab": {
     "base_uri": "https://localhost:8080/"
    },
    "id": "6GIPkCJyvjRs",
    "outputId": "10fb7ee1-0613-41f3-9835-aa024cd01d8d"
   },
   "outputs": [
    {
     "name": "stdout",
     "output_type": "stream",
     "text": [
      "review    97410\n",
      "rating    97410\n",
      "dtype: int64\n",
      "review    28824\n",
      "rating    28824\n",
      "dtype: int64\n",
      "review    35063\n",
      "rating    35063\n",
      "dtype: int64\n"
     ]
    }
   ],
   "source": [
    "print(df_train[df_train['rating'] == 3].count())\n",
    "print(df_train[df_train['rating'] == 2].count())\n",
    "print(df_train[df_train['rating'] == 1].count())"
   ]
  },
  {
   "cell_type": "code",
   "execution_count": 10,
   "metadata": {
    "colab": {
     "base_uri": "https://localhost:8080/",
     "height": 0
    },
    "id": "9hAk9hDHaWBp",
    "outputId": "ed37a107-22ea-4001-e9db-c3e42a9e838d"
   },
   "outputs": [
    {
     "data": {
      "text/plain": [
       "([<matplotlib.axis.XTick at 0x1883326ceb0>,\n",
       "  <matplotlib.axis.XTick at 0x1883326ce80>,\n",
       "  <matplotlib.axis.XTick at 0x1883326c520>],\n",
       " [Text(0, 0, '1'), Text(1, 0, '2'), Text(2, 0, '3')])"
      ]
     },
     "execution_count": 10,
     "metadata": {},
     "output_type": "execute_result"
    },
    {
     "data": {
      "image/png": "[encoded data removed]",
      "text/plain": [
       "<Figure size 640x480 with 1 Axes>"
      ]
     },
     "metadata": {},
     "output_type": "display_data"
    }
   ],
   "source": [
    "sns.countplot(data=df_train,x='rating')\n",
    "plt.xticks(ticks=[0,1,2],labels=['1','2','3'])"
   ]
  },
  {
   "cell_type": "markdown",
   "metadata": {
    "id": "GTwfeI3FheJI"
   },
   "source": [
    "*NOTE: The data is highly imbalanced. We need to convert the texts into vectors and balance it accordingly.*"
   ]
  },
  {
   "cell_type": "code",
   "execution_count": 11,
   "metadata": {},
   "outputs": [
    {
     "data": {
      "text/plain": [
       "pandas.core.frame.DataFrame"
      ]
     },
     "execution_count": 11,
     "metadata": {},
     "output_type": "execute_result"
    }
   ],
   "source": [
    "type(df_train)"
   ]
  },
  {
   "cell_type": "code",
   "execution_count": 12,
   "metadata": {},
   "outputs": [
    {
     "data": {
      "text/html": [
       "<div>\n",
       "<style scoped>\n",
       "    .dataframe tbody tr th:only-of-type {\n",
       "        vertical-align: middle;\n",
       "    }\n",
       "\n",
       "    .dataframe tbody tr th {\n",
       "        vertical-align: top;\n",
       "    }\n",
       "\n",
       "    .dataframe thead th {\n",
       "        text-align: right;\n",
       "    }\n",
       "</style>\n",
       "<table border=\"1\" class=\"dataframe\">\n",
       "  <thead>\n",
       "    <tr style=\"text-align: right;\">\n",
       "      <th></th>\n",
       "      <th>review</th>\n",
       "      <th>rating</th>\n",
       "    </tr>\n",
       "  </thead>\n",
       "  <tbody>\n",
       "    <tr>\n",
       "      <th>97410</th>\n",
       "      <td>\"Was prescribed one dose over the course of on...</td>\n",
       "      <td>2</td>\n",
       "    </tr>\n",
       "    <tr>\n",
       "      <th>97411</th>\n",
       "      <td>\"I battled a nasty UTI for over a month &amp;amp; ...</td>\n",
       "      <td>2</td>\n",
       "    </tr>\n",
       "    <tr>\n",
       "      <th>97412</th>\n",
       "      <td>\"66 YO caucasian, male. Developed MS @22-23, d...</td>\n",
       "      <td>2</td>\n",
       "    </tr>\n",
       "    <tr>\n",
       "      <th>97413</th>\n",
       "      <td>\"I have been on pills for years, and in 2012 I...</td>\n",
       "      <td>2</td>\n",
       "    </tr>\n",
       "    <tr>\n",
       "      <th>97414</th>\n",
       "      <td>\"I just started this medication on April 1st a...</td>\n",
       "      <td>2</td>\n",
       "    </tr>\n",
       "    <tr>\n",
       "      <th>...</th>\n",
       "      <td>...</td>\n",
       "      <td>...</td>\n",
       "    </tr>\n",
       "    <tr>\n",
       "      <th>126229</th>\n",
       "      <td>\"I have been on this pill for a little over on...</td>\n",
       "      <td>2</td>\n",
       "    </tr>\n",
       "    <tr>\n",
       "      <th>126230</th>\n",
       "      <td>\"I&amp;#039;ve been on these pills for 3 weeks now...</td>\n",
       "      <td>2</td>\n",
       "    </tr>\n",
       "    <tr>\n",
       "      <th>126231</th>\n",
       "      <td>\"Period wasn&amp;#039;t as heavy as per usual but ...</td>\n",
       "      <td>2</td>\n",
       "    </tr>\n",
       "    <tr>\n",
       "      <th>126232</th>\n",
       "      <td>\"I read all the great comments here and talked...</td>\n",
       "      <td>2</td>\n",
       "    </tr>\n",
       "    <tr>\n",
       "      <th>126233</th>\n",
       "      <td>\"It is fourth blood pressure pill for me. It f...</td>\n",
       "      <td>2</td>\n",
       "    </tr>\n",
       "  </tbody>\n",
       "</table>\n",
       "<p>28824 rows × 2 columns</p>\n",
       "</div>"
      ],
      "text/plain": [
       "                                                   review  rating\n",
       "97410   \"Was prescribed one dose over the course of on...       2\n",
       "97411   \"I battled a nasty UTI for over a month &amp; ...       2\n",
       "97412   \"66 YO caucasian, male. Developed MS @22-23, d...       2\n",
       "97413   \"I have been on pills for years, and in 2012 I...       2\n",
       "97414   \"I just started this medication on April 1st a...       2\n",
       "...                                                   ...     ...\n",
       "126229  \"I have been on this pill for a little over on...       2\n",
       "126230  \"I&#039;ve been on these pills for 3 weeks now...       2\n",
       "126231  \"Period wasn&#039;t as heavy as per usual but ...       2\n",
       "126232  \"I read all the great comments here and talked...       2\n",
       "126233  \"It is fourth blood pressure pill for me. It f...       2\n",
       "\n",
       "[28824 rows x 2 columns]"
      ]
     },
     "execution_count": 12,
     "metadata": {},
     "output_type": "execute_result"
    }
   ],
   "source": [
    "is_two = df_train['rating'] == 2\n",
    "df_two = df_train[is_two]\n",
    "df_two"
   ]
  },
  {
   "cell_type": "code",
   "execution_count": 13,
   "metadata": {},
   "outputs": [
    {
     "data": {
      "text/html": [
       "<div>\n",
       "<style scoped>\n",
       "    .dataframe tbody tr th:only-of-type {\n",
       "        vertical-align: middle;\n",
       "    }\n",
       "\n",
       "    .dataframe tbody tr th {\n",
       "        vertical-align: top;\n",
       "    }\n",
       "\n",
       "    .dataframe thead th {\n",
       "        text-align: right;\n",
       "    }\n",
       "</style>\n",
       "<table border=\"1\" class=\"dataframe\">\n",
       "  <thead>\n",
       "    <tr style=\"text-align: right;\">\n",
       "      <th></th>\n",
       "      <th>review</th>\n",
       "      <th>rating</th>\n",
       "    </tr>\n",
       "  </thead>\n",
       "  <tbody>\n",
       "    <tr>\n",
       "      <th>126234</th>\n",
       "      <td>\"Started Nexplanon 2 months ago because I have...</td>\n",
       "      <td>1</td>\n",
       "    </tr>\n",
       "    <tr>\n",
       "      <th>126235</th>\n",
       "      <td>\"I was put on Yasmin for 6 months to regulate ...</td>\n",
       "      <td>1</td>\n",
       "    </tr>\n",
       "    <tr>\n",
       "      <th>126236</th>\n",
       "      <td>\"This medicine is absolutely terrible. After t...</td>\n",
       "      <td>1</td>\n",
       "    </tr>\n",
       "    <tr>\n",
       "      <th>126237</th>\n",
       "      <td>\"I&amp;#039;m 16 and  I have been on Loestrin 24 f...</td>\n",
       "      <td>1</td>\n",
       "    </tr>\n",
       "    <tr>\n",
       "      <th>126238</th>\n",
       "      <td>\"I was put on this birth control when I was 15...</td>\n",
       "      <td>1</td>\n",
       "    </tr>\n",
       "    <tr>\n",
       "      <th>...</th>\n",
       "      <td>...</td>\n",
       "      <td>...</td>\n",
       "    </tr>\n",
       "    <tr>\n",
       "      <th>161292</th>\n",
       "      <td>\"POISON....two days on this med &amp;amp; I though...</td>\n",
       "      <td>1</td>\n",
       "    </tr>\n",
       "    <tr>\n",
       "      <th>161293</th>\n",
       "      <td>\"Had taken Armour Thyroid for 20 years but sta...</td>\n",
       "      <td>1</td>\n",
       "    </tr>\n",
       "    <tr>\n",
       "      <th>161294</th>\n",
       "      <td>\"Used this a month ago for allergic conjunctiv...</td>\n",
       "      <td>1</td>\n",
       "    </tr>\n",
       "    <tr>\n",
       "      <th>161295</th>\n",
       "      <td>\"Up to 800mg seems to work about once every 2n...</td>\n",
       "      <td>1</td>\n",
       "    </tr>\n",
       "    <tr>\n",
       "      <th>161296</th>\n",
       "      <td>\"I was given this in IV before surgey. I immed...</td>\n",
       "      <td>1</td>\n",
       "    </tr>\n",
       "  </tbody>\n",
       "</table>\n",
       "<p>35063 rows × 2 columns</p>\n",
       "</div>"
      ],
      "text/plain": [
       "                                                   review  rating\n",
       "126234  \"Started Nexplanon 2 months ago because I have...       1\n",
       "126235  \"I was put on Yasmin for 6 months to regulate ...       1\n",
       "126236  \"This medicine is absolutely terrible. After t...       1\n",
       "126237  \"I&#039;m 16 and  I have been on Loestrin 24 f...       1\n",
       "126238  \"I was put on this birth control when I was 15...       1\n",
       "...                                                   ...     ...\n",
       "161292  \"POISON....two days on this med &amp; I though...       1\n",
       "161293  \"Had taken Armour Thyroid for 20 years but sta...       1\n",
       "161294  \"Used this a month ago for allergic conjunctiv...       1\n",
       "161295  \"Up to 800mg seems to work about once every 2n...       1\n",
       "161296  \"I was given this in IV before surgey. I immed...       1\n",
       "\n",
       "[35063 rows x 2 columns]"
      ]
     },
     "execution_count": 13,
     "metadata": {},
     "output_type": "execute_result"
    }
   ],
   "source": [
    "is_one = df_train['rating'] == 1\n",
    "df_one = df_train[is_one]\n",
    "df_one"
   ]
  },
  {
   "cell_type": "code",
   "execution_count": 14,
   "metadata": {},
   "outputs": [
    {
     "data": {
      "text/plain": [
       "review    161297\n",
       "rating    161297\n",
       "dtype: int64"
      ]
     },
     "execution_count": 14,
     "metadata": {},
     "output_type": "execute_result"
    }
   ],
   "source": [
    "df_train.count()"
   ]
  },
  {
   "cell_type": "code",
   "execution_count": 15,
   "metadata": {},
   "outputs": [
    {
     "name": "stderr",
     "output_type": "stream",
     "text": [
      "C:\\Users\\tarpa\\AppData\\Local\\Temp\\ipykernel_1972\\2909103487.py:1: FutureWarning: The frame.append method is deprecated and will be removed from pandas in a future version. Use pandas.concat instead.\n",
      "  df_train = df_train.append([df_two] * 3, ignore_index=True)\n",
      "C:\\Users\\tarpa\\AppData\\Local\\Temp\\ipykernel_1972\\2909103487.py:2: FutureWarning: The frame.append method is deprecated and will be removed from pandas in a future version. Use pandas.concat instead.\n",
      "  df_train = df_train.append([df_one] * 2, ignore_index=True)\n"
     ]
    }
   ],
   "source": [
    "df_train = df_train.append([df_two] * 3, ignore_index=True)\n",
    "df_train = df_train.append([df_one] * 2, ignore_index=True)"
   ]
  },
  {
   "cell_type": "code",
   "execution_count": 16,
   "metadata": {},
   "outputs": [
    {
     "data": {
      "text/plain": [
       "review    317895\n",
       "rating    317895\n",
       "dtype: int64"
      ]
     },
     "execution_count": 16,
     "metadata": {},
     "output_type": "execute_result"
    }
   ],
   "source": [
    "df_train.count()"
   ]
  },
  {
   "cell_type": "code",
   "execution_count": 17,
   "metadata": {},
   "outputs": [
    {
     "data": {
      "text/plain": [
       "([<matplotlib.axis.XTick at 0x18833ef5ac0>,\n",
       "  <matplotlib.axis.XTick at 0x18833ef5a90>,\n",
       "  <matplotlib.axis.XTick at 0x18833ef51c0>],\n",
       " [Text(0, 0, '1'), Text(1, 0, '2'), Text(2, 0, '3')])"
      ]
     },
     "execution_count": 17,
     "metadata": {},
     "output_type": "execute_result"
    },
    {
     "data": {
      "image/png": "[encoded data removed]",
      "text/plain": [
       "<Figure size 640x480 with 1 Axes>"
      ]
     },
     "metadata": {},
     "output_type": "display_data"
    }
   ],
   "source": [
    "sns.countplot(data=df_train,x='rating')\n",
    "plt.xticks(ticks=[0,1,2],labels=['1','2','3'])"
   ]
  },
  {
   "cell_type": "code",
   "execution_count": 18,
   "metadata": {
    "colab": {
     "base_uri": "https://localhost:8080/",
     "height": 0
    },
    "id": "cIfqrZ32NG_7",
    "outputId": "dffcdb2e-57b4-4588-e475-d6f86cf6cfc7"
   },
   "outputs": [
    {
     "data": {
      "text/html": [
       "<div>\n",
       "<style scoped>\n",
       "    .dataframe tbody tr th:only-of-type {\n",
       "        vertical-align: middle;\n",
       "    }\n",
       "\n",
       "    .dataframe tbody tr th {\n",
       "        vertical-align: top;\n",
       "    }\n",
       "\n",
       "    .dataframe thead th {\n",
       "        text-align: right;\n",
       "    }\n",
       "</style>\n",
       "<table border=\"1\" class=\"dataframe\">\n",
       "  <thead>\n",
       "    <tr style=\"text-align: right;\">\n",
       "      <th></th>\n",
       "      <th>rating</th>\n",
       "    </tr>\n",
       "  </thead>\n",
       "  <tbody>\n",
       "    <tr>\n",
       "      <th>count</th>\n",
       "      <td>317895.000000</td>\n",
       "    </tr>\n",
       "    <tr>\n",
       "      <th>mean</th>\n",
       "      <td>1.975530</td>\n",
       "    </tr>\n",
       "    <tr>\n",
       "      <th>std</th>\n",
       "      <td>0.797946</td>\n",
       "    </tr>\n",
       "    <tr>\n",
       "      <th>min</th>\n",
       "      <td>1.000000</td>\n",
       "    </tr>\n",
       "    <tr>\n",
       "      <th>25%</th>\n",
       "      <td>1.000000</td>\n",
       "    </tr>\n",
       "    <tr>\n",
       "      <th>50%</th>\n",
       "      <td>2.000000</td>\n",
       "    </tr>\n",
       "    <tr>\n",
       "      <th>75%</th>\n",
       "      <td>3.000000</td>\n",
       "    </tr>\n",
       "    <tr>\n",
       "      <th>max</th>\n",
       "      <td>3.000000</td>\n",
       "    </tr>\n",
       "  </tbody>\n",
       "</table>\n",
       "</div>"
      ],
      "text/plain": [
       "              rating\n",
       "count  317895.000000\n",
       "mean        1.975530\n",
       "std         0.797946\n",
       "min         1.000000\n",
       "25%         1.000000\n",
       "50%         2.000000\n",
       "75%         3.000000\n",
       "max         3.000000"
      ]
     },
     "execution_count": 18,
     "metadata": {},
     "output_type": "execute_result"
    }
   ],
   "source": [
    "df_train.describe()"
   ]
  },
  {
   "cell_type": "code",
   "execution_count": 19,
   "metadata": {
    "id": "HcVgE1DecXuL"
   },
   "outputs": [],
   "source": [
    "X_train = df_train[['review']]\n",
    "Y_train = df_train[['rating']]"
   ]
  },
  {
   "cell_type": "code",
   "execution_count": 20,
   "metadata": {},
   "outputs": [
    {
     "data": {
      "text/html": [
       "<div>\n",
       "<style scoped>\n",
       "    .dataframe tbody tr th:only-of-type {\n",
       "        vertical-align: middle;\n",
       "    }\n",
       "\n",
       "    .dataframe tbody tr th {\n",
       "        vertical-align: top;\n",
       "    }\n",
       "\n",
       "    .dataframe thead th {\n",
       "        text-align: right;\n",
       "    }\n",
       "</style>\n",
       "<table border=\"1\" class=\"dataframe\">\n",
       "  <thead>\n",
       "    <tr style=\"text-align: right;\">\n",
       "      <th></th>\n",
       "      <th>review</th>\n",
       "    </tr>\n",
       "  </thead>\n",
       "  <tbody>\n",
       "    <tr>\n",
       "      <th>count</th>\n",
       "      <td>317895</td>\n",
       "    </tr>\n",
       "    <tr>\n",
       "      <th>unique</th>\n",
       "      <td>112329</td>\n",
       "    </tr>\n",
       "    <tr>\n",
       "      <th>top</th>\n",
       "      <td>\"Good\"</td>\n",
       "    </tr>\n",
       "    <tr>\n",
       "      <th>freq</th>\n",
       "      <td>51</td>\n",
       "    </tr>\n",
       "  </tbody>\n",
       "</table>\n",
       "</div>"
      ],
      "text/plain": [
       "        review\n",
       "count   317895\n",
       "unique  112329\n",
       "top     \"Good\"\n",
       "freq        51"
      ]
     },
     "execution_count": 20,
     "metadata": {},
     "output_type": "execute_result"
    }
   ],
   "source": [
    "X_train.describe()"
   ]
  },
  {
   "cell_type": "markdown",
   "metadata": {
    "id": "mKEvbb2f2Kxg"
   },
   "source": [
    "#### **2.2. Testing data** ####"
   ]
  },
  {
   "cell_type": "code",
   "execution_count": 21,
   "metadata": {
    "colab": {
     "base_uri": "https://localhost:8080/",
     "height": 0
    },
    "id": "pxnDPleC2Kxl",
    "outputId": "52b95d13-7daf-4c8e-8072-0e20982febb3"
   },
   "outputs": [
    {
     "data": {
      "text/html": [
       "<div>\n",
       "<style scoped>\n",
       "    .dataframe tbody tr th:only-of-type {\n",
       "        vertical-align: middle;\n",
       "    }\n",
       "\n",
       "    .dataframe tbody tr th {\n",
       "        vertical-align: top;\n",
       "    }\n",
       "\n",
       "    .dataframe thead th {\n",
       "        text-align: right;\n",
       "    }\n",
       "</style>\n",
       "<table border=\"1\" class=\"dataframe\">\n",
       "  <thead>\n",
       "    <tr style=\"text-align: right;\">\n",
       "      <th></th>\n",
       "      <th>uniqueID</th>\n",
       "      <th>drugName</th>\n",
       "      <th>condition</th>\n",
       "      <th>review</th>\n",
       "      <th>rating</th>\n",
       "      <th>date</th>\n",
       "      <th>usefulCount</th>\n",
       "    </tr>\n",
       "  </thead>\n",
       "  <tbody>\n",
       "    <tr>\n",
       "      <th>0</th>\n",
       "      <td>163740</td>\n",
       "      <td>Mirtazapine</td>\n",
       "      <td>Depression</td>\n",
       "      <td>\"I&amp;#039;ve tried a few antidepressants over th...</td>\n",
       "      <td>3</td>\n",
       "      <td>2012-02-28</td>\n",
       "      <td>22</td>\n",
       "    </tr>\n",
       "    <tr>\n",
       "      <th>1</th>\n",
       "      <td>206473</td>\n",
       "      <td>Mesalamine</td>\n",
       "      <td>Crohn's Disease, Maintenance</td>\n",
       "      <td>\"My son has Crohn&amp;#039;s disease and has done ...</td>\n",
       "      <td>3</td>\n",
       "      <td>2009-05-17</td>\n",
       "      <td>17</td>\n",
       "    </tr>\n",
       "    <tr>\n",
       "      <th>2</th>\n",
       "      <td>159672</td>\n",
       "      <td>Bactrim</td>\n",
       "      <td>Urinary Tract Infection</td>\n",
       "      <td>\"Quick reduction of symptoms\"</td>\n",
       "      <td>3</td>\n",
       "      <td>2017-09-29</td>\n",
       "      <td>3</td>\n",
       "    </tr>\n",
       "    <tr>\n",
       "      <th>3</th>\n",
       "      <td>39293</td>\n",
       "      <td>Contrave</td>\n",
       "      <td>Weight Loss</td>\n",
       "      <td>\"Contrave combines drugs that were used for al...</td>\n",
       "      <td>3</td>\n",
       "      <td>2017-03-05</td>\n",
       "      <td>35</td>\n",
       "    </tr>\n",
       "    <tr>\n",
       "      <th>4</th>\n",
       "      <td>97768</td>\n",
       "      <td>Cyclafem 1 / 35</td>\n",
       "      <td>Birth Control</td>\n",
       "      <td>\"I have been on this birth control for one cyc...</td>\n",
       "      <td>3</td>\n",
       "      <td>2015-10-22</td>\n",
       "      <td>4</td>\n",
       "    </tr>\n",
       "  </tbody>\n",
       "</table>\n",
       "</div>"
      ],
      "text/plain": [
       "   uniqueID         drugName                     condition  \\\n",
       "0    163740      Mirtazapine                    Depression   \n",
       "1    206473       Mesalamine  Crohn's Disease, Maintenance   \n",
       "2    159672          Bactrim       Urinary Tract Infection   \n",
       "3     39293         Contrave                   Weight Loss   \n",
       "4     97768  Cyclafem 1 / 35                 Birth Control   \n",
       "\n",
       "                                              review  rating       date  \\\n",
       "0  \"I&#039;ve tried a few antidepressants over th...       3 2012-02-28   \n",
       "1  \"My son has Crohn&#039;s disease and has done ...       3 2009-05-17   \n",
       "2                      \"Quick reduction of symptoms\"       3 2017-09-29   \n",
       "3  \"Contrave combines drugs that were used for al...       3 2017-03-05   \n",
       "4  \"I have been on this birth control for one cyc...       3 2015-10-22   \n",
       "\n",
       "   usefulCount  \n",
       "0           22  \n",
       "1           17  \n",
       "2            3  \n",
       "3           35  \n",
       "4            4  "
      ]
     },
     "execution_count": 21,
     "metadata": {},
     "output_type": "execute_result"
    }
   ],
   "source": [
    "df_test.head()"
   ]
  },
  {
   "cell_type": "code",
   "execution_count": 22,
   "metadata": {
    "colab": {
     "base_uri": "https://localhost:8080/",
     "height": 0
    },
    "id": "unNol40k2Kxp",
    "outputId": "9eceb569-7adc-42e9-a75e-18cfd766ecc0"
   },
   "outputs": [
    {
     "data": {
      "text/html": [
       "<div>\n",
       "<style scoped>\n",
       "    .dataframe tbody tr th:only-of-type {\n",
       "        vertical-align: middle;\n",
       "    }\n",
       "\n",
       "    .dataframe tbody tr th {\n",
       "        vertical-align: top;\n",
       "    }\n",
       "\n",
       "    .dataframe thead th {\n",
       "        text-align: right;\n",
       "    }\n",
       "</style>\n",
       "<table border=\"1\" class=\"dataframe\">\n",
       "  <thead>\n",
       "    <tr style=\"text-align: right;\">\n",
       "      <th></th>\n",
       "      <th>review</th>\n",
       "      <th>rating</th>\n",
       "    </tr>\n",
       "  </thead>\n",
       "  <tbody>\n",
       "    <tr>\n",
       "      <th>0</th>\n",
       "      <td>\"I&amp;#039;ve tried a few antidepressants over th...</td>\n",
       "      <td>3</td>\n",
       "    </tr>\n",
       "  </tbody>\n",
       "</table>\n",
       "</div>"
      ],
      "text/plain": [
       "                                              review  rating\n",
       "0  \"I&#039;ve tried a few antidepressants over th...       3"
      ]
     },
     "execution_count": 22,
     "metadata": {},
     "output_type": "execute_result"
    }
   ],
   "source": [
    "df_test = df_test[['review','rating']]\n",
    "df_test.head(1)"
   ]
  },
  {
   "cell_type": "code",
   "execution_count": 23,
   "metadata": {
    "colab": {
     "base_uri": "https://localhost:8080/",
     "height": 0
    },
    "id": "kNSbRqo72Kxt",
    "outputId": "3d1553fb-680f-4577-f828-1054ab2922ec"
   },
   "outputs": [
    {
     "data": {
      "text/html": [
       "<div>\n",
       "<style scoped>\n",
       "    .dataframe tbody tr th:only-of-type {\n",
       "        vertical-align: middle;\n",
       "    }\n",
       "\n",
       "    .dataframe tbody tr th {\n",
       "        vertical-align: top;\n",
       "    }\n",
       "\n",
       "    .dataframe thead th {\n",
       "        text-align: right;\n",
       "    }\n",
       "</style>\n",
       "<table border=\"1\" class=\"dataframe\">\n",
       "  <thead>\n",
       "    <tr style=\"text-align: right;\">\n",
       "      <th></th>\n",
       "      <th>rating</th>\n",
       "    </tr>\n",
       "  </thead>\n",
       "  <tbody>\n",
       "    <tr>\n",
       "      <th>count</th>\n",
       "      <td>53766.000000</td>\n",
       "    </tr>\n",
       "    <tr>\n",
       "      <th>mean</th>\n",
       "      <td>2.381486</td>\n",
       "    </tr>\n",
       "    <tr>\n",
       "      <th>std</th>\n",
       "      <td>0.822387</td>\n",
       "    </tr>\n",
       "    <tr>\n",
       "      <th>min</th>\n",
       "      <td>1.000000</td>\n",
       "    </tr>\n",
       "    <tr>\n",
       "      <th>25%</th>\n",
       "      <td>2.000000</td>\n",
       "    </tr>\n",
       "    <tr>\n",
       "      <th>50%</th>\n",
       "      <td>3.000000</td>\n",
       "    </tr>\n",
       "    <tr>\n",
       "      <th>75%</th>\n",
       "      <td>3.000000</td>\n",
       "    </tr>\n",
       "    <tr>\n",
       "      <th>max</th>\n",
       "      <td>3.000000</td>\n",
       "    </tr>\n",
       "  </tbody>\n",
       "</table>\n",
       "</div>"
      ],
      "text/plain": [
       "             rating\n",
       "count  53766.000000\n",
       "mean       2.381486\n",
       "std        0.822387\n",
       "min        1.000000\n",
       "25%        2.000000\n",
       "50%        3.000000\n",
       "75%        3.000000\n",
       "max        3.000000"
      ]
     },
     "execution_count": 23,
     "metadata": {},
     "output_type": "execute_result"
    }
   ],
   "source": [
    "df_test.describe()"
   ]
  },
  {
   "cell_type": "code",
   "execution_count": 24,
   "metadata": {
    "colab": {
     "base_uri": "https://localhost:8080/"
    },
    "id": "J2ILHy982Kxw",
    "outputId": "b76b1a9a-2b49-4b64-ce22-e507c2c45c67"
   },
   "outputs": [
    {
     "data": {
      "text/plain": [
       "array([3, 2, 1], dtype=int64)"
      ]
     },
     "execution_count": 24,
     "metadata": {},
     "output_type": "execute_result"
    }
   ],
   "source": [
    "df_test['rating'].unique()"
   ]
  },
  {
   "cell_type": "code",
   "execution_count": 25,
   "metadata": {
    "colab": {
     "base_uri": "https://localhost:8080/"
    },
    "id": "pmsjtLyv2Kx0",
    "outputId": "5c2a03cb-3ba0-4825-edf7-d9df9b917be0"
   },
   "outputs": [
    {
     "name": "stdout",
     "output_type": "stream",
     "text": [
      "review    32349\n",
      "rating    32349\n",
      "dtype: int64\n",
      "review    9579\n",
      "rating    9579\n",
      "dtype: int64\n",
      "review    11838\n",
      "rating    11838\n",
      "dtype: int64\n"
     ]
    }
   ],
   "source": [
    "print(df_test[df_test['rating'] == 3].count())\n",
    "print(df_test[df_test['rating'] == 2].count())\n",
    "print(df_test[df_test['rating'] == 1].count())"
   ]
  },
  {
   "cell_type": "code",
   "execution_count": 26,
   "metadata": {
    "colab": {
     "base_uri": "https://localhost:8080/",
     "height": 0
    },
    "id": "CaqtMDB_2Kx2",
    "outputId": "7c9dedee-99ca-4744-ab40-62c0ac917324"
   },
   "outputs": [
    {
     "data": {
      "text/plain": [
       "([<matplotlib.axis.XTick at 0x18833f62880>,\n",
       "  <matplotlib.axis.XTick at 0x18833f62850>,\n",
       "  <matplotlib.axis.XTick at 0x18833f59e50>],\n",
       " [Text(0, 0, '1'), Text(1, 0, '2'), Text(2, 0, '3')])"
      ]
     },
     "execution_count": 26,
     "metadata": {},
     "output_type": "execute_result"
    },
    {
     "data": {
      "image/png": "[encoded data removed]",
      "text/plain": [
       "<Figure size 640x480 with 1 Axes>"
      ]
     },
     "metadata": {},
     "output_type": "display_data"
    }
   ],
   "source": [
    "sns.countplot(data=df_test,x='rating')\n",
    "plt.xticks(ticks=[0,1,2],labels=['1','2','3'])"
   ]
  },
  {
   "cell_type": "code",
   "execution_count": 27,
   "metadata": {
    "id": "X4SAFYsS2Kx6"
   },
   "outputs": [],
   "source": [
    "X_test = df_test[['review']]\n",
    "Y_test = df_test[['rating']]"
   ]
  },
  {
   "cell_type": "markdown",
   "metadata": {
    "id": "7k0mjhu52Kx7"
   },
   "source": [
    "*NOTE: The data is highly imbalanced. We need to convert the texts into vectors and balance it accordingly.*"
   ]
  },
  {
   "cell_type": "markdown",
   "metadata": {
    "id": "nffj9Z8UhvYh"
   },
   "source": [
    "### **3. Text Preprocessing** ###"
   ]
  },
  {
   "cell_type": "code",
   "execution_count": 28,
   "metadata": {
    "colab": {
     "base_uri": "https://localhost:8080/"
    },
    "id": "HLnnpKCQirQS",
    "outputId": "bb7da7c0-1f8a-406c-e879-7d9d5ca89b0b"
   },
   "outputs": [
    {
     "name": "stderr",
     "output_type": "stream",
     "text": [
      "[nltk_data] Downloading package omw-1.4 to\n",
      "[nltk_data]     C:\\Users\\tarpa\\AppData\\Roaming\\nltk_data...\n",
      "[nltk_data]   Package omw-1.4 is already up-to-date!\n"
     ]
    },
    {
     "data": {
      "text/plain": [
       "True"
      ]
     },
     "execution_count": 28,
     "metadata": {},
     "output_type": "execute_result"
    }
   ],
   "source": [
    "import nltk\n",
    "nltk.download('omw-1.4')"
   ]
  },
  {
   "cell_type": "code",
   "execution_count": 29,
   "metadata": {
    "id": "flbcQW4th4lr"
   },
   "outputs": [],
   "source": [
    "def clean_text(text):\n",
    "    \"\"\"\n",
    "    Data Preprocessing is done here.\n",
    "    \"\"\"\n",
    "\n",
    "    # Step 1 -  Lowering the cases\n",
    "    text = text.lower()\n",
    "\n",
    "    # Step 2 - remove urls and '\n",
    "    text = re.sub(r\"http\\S+|www\\S+|https\\S+\", \"URL\",text,flags = re.MULTILINE)\n",
    "    text = re.sub(r\"039\", \"\",text,flags = re.MULTILINE)\n",
    "\n",
    "    # Step 3 - remove punctuations\n",
    "    text = text.translate(str.maketrans(\"\", \"\", string.punctuation))\n",
    "\n",
    "    # Step 4 - remove @ and #\n",
    "    text = re.sub(r'\\@',\"USER\",text)\n",
    "    text = re.sub(r'\\#', \"\", text)\n",
    "\n",
    "    # Step 5 - remove extra charaters in each word (more than 2 continuous ones)\n",
    "    repeat_char = re.compile(r\"(.)\\1{1,}\", re.IGNORECASE)\n",
    "    text = repeat_char.sub(r\"\\1\\1\", text)\n",
    "    text = re.sub(\"(.)\\\\1{2,}\", \"\\\\1\", text)\n",
    "\n",
    "    # Step 6 - remove tokens\n",
    "    tokens = word_tokenize(text)\n",
    "    tokens = [t for t in tokens if t not in stopwords]\n",
    "\n",
    "    # Step 7 - Lemmatizing\n",
    "    lemmatizer = WordNetLemmatizer()\n",
    "    lemma_words = [lemmatizer.lemmatize(w, pos='a') for w in tokens]\n",
    "        \n",
    "    return \" \".join(lemma_words)\n",
    "\n",
    "df_train['review'] = [clean_text(text) for text in df_train['review']]\n",
    "df_test['review'] = [clean_text(text) for text in df_test['review']]"
   ]
  },
  {
   "cell_type": "code",
   "execution_count": 30,
   "metadata": {
    "colab": {
     "base_uri": "https://localhost:8080/",
     "height": 206
    },
    "id": "SC962JjzjpEW",
    "outputId": "3d007397-50de-4e05-ec8d-2868035b2167"
   },
   "outputs": [
    {
     "data": {
      "text/html": [
       "<div>\n",
       "<style scoped>\n",
       "    .dataframe tbody tr th:only-of-type {\n",
       "        vertical-align: middle;\n",
       "    }\n",
       "\n",
       "    .dataframe tbody tr th {\n",
       "        vertical-align: top;\n",
       "    }\n",
       "\n",
       "    .dataframe thead th {\n",
       "        text-align: right;\n",
       "    }\n",
       "</style>\n",
       "<table border=\"1\" class=\"dataframe\">\n",
       "  <thead>\n",
       "    <tr style=\"text-align: right;\">\n",
       "      <th></th>\n",
       "      <th>review</th>\n",
       "      <th>rating</th>\n",
       "    </tr>\n",
       "  </thead>\n",
       "  <tbody>\n",
       "    <tr>\n",
       "      <th>0</th>\n",
       "      <td>abilify changed life hope zoloft clonidine fir...</td>\n",
       "      <td>3</td>\n",
       "    </tr>\n",
       "    <tr>\n",
       "      <th>1</th>\n",
       "      <td>taken antidepressants years improvement mostly...</td>\n",
       "      <td>3</td>\n",
       "    </tr>\n",
       "    <tr>\n",
       "      <th>2</th>\n",
       "      <td>ive every medicine sun seems manage hypomania ...</td>\n",
       "      <td>3</td>\n",
       "    </tr>\n",
       "    <tr>\n",
       "      <th>3</th>\n",
       "      <td>tasigna 3 years 300mg x 2 times day tasigna wo...</td>\n",
       "      <td>3</td>\n",
       "    </tr>\n",
       "    <tr>\n",
       "      <th>4</th>\n",
       "      <td>insomnia horrible story begins pcp prescribing...</td>\n",
       "      <td>3</td>\n",
       "    </tr>\n",
       "  </tbody>\n",
       "</table>\n",
       "</div>"
      ],
      "text/plain": [
       "                                              review  rating\n",
       "0  abilify changed life hope zoloft clonidine fir...       3\n",
       "1  taken antidepressants years improvement mostly...       3\n",
       "2  ive every medicine sun seems manage hypomania ...       3\n",
       "3  tasigna 3 years 300mg x 2 times day tasigna wo...       3\n",
       "4  insomnia horrible story begins pcp prescribing...       3"
      ]
     },
     "execution_count": 30,
     "metadata": {},
     "output_type": "execute_result"
    }
   ],
   "source": [
    "df_train.head()"
   ]
  },
  {
   "cell_type": "code",
   "execution_count": 31,
   "metadata": {
    "colab": {
     "base_uri": "https://localhost:8080/",
     "height": 363
    },
    "id": "RHtFlLKPkTN4",
    "outputId": "43e1b63c-e5e8-4617-bebc-7248f9a60808"
   },
   "outputs": [
    {
     "data": {
      "text/html": [
       "<div>\n",
       "<style scoped>\n",
       "    .dataframe tbody tr th:only-of-type {\n",
       "        vertical-align: middle;\n",
       "    }\n",
       "\n",
       "    .dataframe tbody tr th {\n",
       "        vertical-align: top;\n",
       "    }\n",
       "\n",
       "    .dataframe thead th {\n",
       "        text-align: right;\n",
       "    }\n",
       "</style>\n",
       "<table border=\"1\" class=\"dataframe\">\n",
       "  <thead>\n",
       "    <tr style=\"text-align: right;\">\n",
       "      <th></th>\n",
       "      <th>review</th>\n",
       "      <th>rating</th>\n",
       "    </tr>\n",
       "  </thead>\n",
       "  <tbody>\n",
       "    <tr>\n",
       "      <th>317885</th>\n",
       "      <td>given spasms upper spine cervical region anaph...</td>\n",
       "      <td>1</td>\n",
       "    </tr>\n",
       "    <tr>\n",
       "      <th>317886</th>\n",
       "      <td>covered family pact california insertion painf...</td>\n",
       "      <td>1</td>\n",
       "    </tr>\n",
       "    <tr>\n",
       "      <th>317887</th>\n",
       "      <td>bystolic feet arms numb blood sugars became se...</td>\n",
       "      <td>1</td>\n",
       "    </tr>\n",
       "    <tr>\n",
       "      <th>317888</th>\n",
       "      <td>livalo two months change cholesterol levels st...</td>\n",
       "      <td>1</td>\n",
       "    </tr>\n",
       "    <tr>\n",
       "      <th>317889</th>\n",
       "      <td>switched portia 12 days ago started spotting a...</td>\n",
       "      <td>1</td>\n",
       "    </tr>\n",
       "    <tr>\n",
       "      <th>317890</th>\n",
       "      <td>poisontwo days med amp thought going die total...</td>\n",
       "      <td>1</td>\n",
       "    </tr>\n",
       "    <tr>\n",
       "      <th>317891</th>\n",
       "      <td>taken armour thyroid 20 years starting 2 years...</td>\n",
       "      <td>1</td>\n",
       "    </tr>\n",
       "    <tr>\n",
       "      <th>317892</th>\n",
       "      <td>used month ago allergic conjunctivitis thought...</td>\n",
       "      <td>1</td>\n",
       "    </tr>\n",
       "    <tr>\n",
       "      <th>317893</th>\n",
       "      <td>800mg seems work every 2nd day still excruciat...</td>\n",
       "      <td>1</td>\n",
       "    </tr>\n",
       "    <tr>\n",
       "      <th>317894</th>\n",
       "      <td>given iv surgey immediately became anxious cou...</td>\n",
       "      <td>1</td>\n",
       "    </tr>\n",
       "  </tbody>\n",
       "</table>\n",
       "</div>"
      ],
      "text/plain": [
       "                                                   review  rating\n",
       "317885  given spasms upper spine cervical region anaph...       1\n",
       "317886  covered family pact california insertion painf...       1\n",
       "317887  bystolic feet arms numb blood sugars became se...       1\n",
       "317888  livalo two months change cholesterol levels st...       1\n",
       "317889  switched portia 12 days ago started spotting a...       1\n",
       "317890  poisontwo days med amp thought going die total...       1\n",
       "317891  taken armour thyroid 20 years starting 2 years...       1\n",
       "317892  used month ago allergic conjunctivitis thought...       1\n",
       "317893  800mg seems work every 2nd day still excruciat...       1\n",
       "317894  given iv surgey immediately became anxious cou...       1"
      ]
     },
     "execution_count": 31,
     "metadata": {},
     "output_type": "execute_result"
    }
   ],
   "source": [
    "df_train.tail(10)"
   ]
  },
  {
   "cell_type": "code",
   "execution_count": 32,
   "metadata": {
    "colab": {
     "base_uri": "https://localhost:8080/",
     "height": 363
    },
    "id": "VmoktYD33q5y",
    "outputId": "11976946-23ed-4396-f75a-634a787f6c50"
   },
   "outputs": [
    {
     "data": {
      "text/html": [
       "<div>\n",
       "<style scoped>\n",
       "    .dataframe tbody tr th:only-of-type {\n",
       "        vertical-align: middle;\n",
       "    }\n",
       "\n",
       "    .dataframe tbody tr th {\n",
       "        vertical-align: top;\n",
       "    }\n",
       "\n",
       "    .dataframe thead th {\n",
       "        text-align: right;\n",
       "    }\n",
       "</style>\n",
       "<table border=\"1\" class=\"dataframe\">\n",
       "  <thead>\n",
       "    <tr style=\"text-align: right;\">\n",
       "      <th></th>\n",
       "      <th>review</th>\n",
       "      <th>rating</th>\n",
       "    </tr>\n",
       "  </thead>\n",
       "  <tbody>\n",
       "    <tr>\n",
       "      <th>53756</th>\n",
       "      <td>treatment adhd save life dont believe hype sti...</td>\n",
       "      <td>3</td>\n",
       "    </tr>\n",
       "    <tr>\n",
       "      <th>53757</th>\n",
       "      <td>3rd time taking medicine first 2 times shin bo...</td>\n",
       "      <td>3</td>\n",
       "    </tr>\n",
       "    <tr>\n",
       "      <th>53758</th>\n",
       "      <td>medicine kept sleeping whole 5 days body start...</td>\n",
       "      <td>1</td>\n",
       "    </tr>\n",
       "    <tr>\n",
       "      <th>53759</th>\n",
       "      <td>microgestin 3 years past year started get extr...</td>\n",
       "      <td>2</td>\n",
       "    </tr>\n",
       "    <tr>\n",
       "      <th>53760</th>\n",
       "      <td>started taking apri 7 months ago breats got no...</td>\n",
       "      <td>3</td>\n",
       "    </tr>\n",
       "    <tr>\n",
       "      <th>53761</th>\n",
       "      <td>taken tamoxifen 5 years side effects severe sw...</td>\n",
       "      <td>3</td>\n",
       "    </tr>\n",
       "    <tr>\n",
       "      <th>53762</th>\n",
       "      <td>ive taking lexapro escitaploprgram since febru...</td>\n",
       "      <td>3</td>\n",
       "    </tr>\n",
       "    <tr>\n",
       "      <th>53763</th>\n",
       "      <td>im married 34 years old kids taking pill hassl...</td>\n",
       "      <td>3</td>\n",
       "    </tr>\n",
       "    <tr>\n",
       "      <th>53764</th>\n",
       "      <td>prescribed nucynta severe neckshoulder pain ta...</td>\n",
       "      <td>1</td>\n",
       "    </tr>\n",
       "    <tr>\n",
       "      <th>53765</th>\n",
       "      <td>works</td>\n",
       "      <td>3</td>\n",
       "    </tr>\n",
       "  </tbody>\n",
       "</table>\n",
       "</div>"
      ],
      "text/plain": [
       "                                                  review  rating\n",
       "53756  treatment adhd save life dont believe hype sti...       3\n",
       "53757  3rd time taking medicine first 2 times shin bo...       3\n",
       "53758  medicine kept sleeping whole 5 days body start...       1\n",
       "53759  microgestin 3 years past year started get extr...       2\n",
       "53760  started taking apri 7 months ago breats got no...       3\n",
       "53761  taken tamoxifen 5 years side effects severe sw...       3\n",
       "53762  ive taking lexapro escitaploprgram since febru...       3\n",
       "53763  im married 34 years old kids taking pill hassl...       3\n",
       "53764  prescribed nucynta severe neckshoulder pain ta...       1\n",
       "53765                                              works       3"
      ]
     },
     "execution_count": 32,
     "metadata": {},
     "output_type": "execute_result"
    }
   ],
   "source": [
    "df_test.tail(10)"
   ]
  },
  {
   "cell_type": "code",
   "execution_count": 33,
   "metadata": {
    "id": "2F0a6K4PmADP"
   },
   "outputs": [],
   "source": [
    "# online (Google Colab)\n",
    "# df_train.to_csv('/content/drive/MyDrive/Drug Test - Deep Learning/train_text_preprocessed.csv')\n",
    "# df_test.to_csv('/content/drive/MyDrive/Drug Test - Deep Learning/test_text_preprocessed.csv')\n",
    "\n",
    "# offline\n",
    "df_train.to_csv('train_text_preprocessed.csv')\n",
    "df_test.to_csv('test_text_preprocessed.csv')"
   ]
  },
  {
   "cell_type": "markdown",
   "metadata": {
    "id": "9ZbqW4nFmQFm"
   },
   "source": [
    "### **4. --Checkpoint--** ###"
   ]
  },
  {
   "cell_type": "code",
   "execution_count": 34,
   "metadata": {
    "colab": {
     "base_uri": "https://localhost:8080/"
    },
    "id": "os4GOkiznGa7",
    "outputId": "74178984-eb14-4594-f4f7-a742260a1240"
   },
   "outputs": [],
   "source": [
    "# from google.colab import drive\n",
    "# drive.mount ('/content/drive')"
   ]
  },
  {
   "cell_type": "code",
   "execution_count": 35,
   "metadata": {
    "id": "ewuscQmHmPVO"
   },
   "outputs": [],
   "source": [
    "import pandas as pd\n",
    "# df_train = pd.read_csv(\"/content/drive/MyDrive/Drug Test - Deep Learning/train_text_preprocessed.csv\")\n",
    "# df_test = pd.read_csv(\"/content/drive/MyDrive/Drug Test - Deep Learning/test_text_preprocessed.csv\")\n",
    "\n",
    "df_train = pd.read_csv(\"train_text_preprocessed.csv\")\n",
    "df_test = pd.read_csv(\"test_text_preprocessed.csv\")"
   ]
  },
  {
   "cell_type": "code",
   "execution_count": 36,
   "metadata": {
    "id": "dXwl39IDnSE0"
   },
   "outputs": [],
   "source": [
    "# Model\n",
    "import tensorflow as tf\n",
    "from tensorflow.keras.preprocessing.text import Tokenizer\n",
    "from tensorflow.keras.preprocessing.sequence import pad_sequences\n",
    "import numpy as np\n",
    "from tensorflow.keras.utils import to_categorical\n",
    "from tensorflow.keras.models import Sequential, load_model\n",
    "from keras.layers import Dense, LSTM, Embedding, Dropout\n",
    "from tensorflow.keras.optimizers import Adam"
   ]
  },
  {
   "cell_type": "code",
   "execution_count": 37,
   "metadata": {
    "colab": {
     "base_uri": "https://localhost:8080/",
     "height": 206
    },
    "id": "tf2Ioxtsnbd9",
    "outputId": "41d3abf9-42bf-401f-c7de-fd1e64884c34"
   },
   "outputs": [
    {
     "data": {
      "text/html": [
       "<div>\n",
       "<style scoped>\n",
       "    .dataframe tbody tr th:only-of-type {\n",
       "        vertical-align: middle;\n",
       "    }\n",
       "\n",
       "    .dataframe tbody tr th {\n",
       "        vertical-align: top;\n",
       "    }\n",
       "\n",
       "    .dataframe thead th {\n",
       "        text-align: right;\n",
       "    }\n",
       "</style>\n",
       "<table border=\"1\" class=\"dataframe\">\n",
       "  <thead>\n",
       "    <tr style=\"text-align: right;\">\n",
       "      <th></th>\n",
       "      <th>Unnamed: 0</th>\n",
       "      <th>review</th>\n",
       "      <th>rating</th>\n",
       "    </tr>\n",
       "  </thead>\n",
       "  <tbody>\n",
       "    <tr>\n",
       "      <th>0</th>\n",
       "      <td>0</td>\n",
       "      <td>abilify changed life hope zoloft clonidine fir...</td>\n",
       "      <td>3</td>\n",
       "    </tr>\n",
       "    <tr>\n",
       "      <th>1</th>\n",
       "      <td>1</td>\n",
       "      <td>taken antidepressants years improvement mostly...</td>\n",
       "      <td>3</td>\n",
       "    </tr>\n",
       "    <tr>\n",
       "      <th>2</th>\n",
       "      <td>2</td>\n",
       "      <td>ive every medicine sun seems manage hypomania ...</td>\n",
       "      <td>3</td>\n",
       "    </tr>\n",
       "    <tr>\n",
       "      <th>3</th>\n",
       "      <td>3</td>\n",
       "      <td>tasigna 3 years 300mg x 2 times day tasigna wo...</td>\n",
       "      <td>3</td>\n",
       "    </tr>\n",
       "    <tr>\n",
       "      <th>4</th>\n",
       "      <td>4</td>\n",
       "      <td>insomnia horrible story begins pcp prescribing...</td>\n",
       "      <td>3</td>\n",
       "    </tr>\n",
       "  </tbody>\n",
       "</table>\n",
       "</div>"
      ],
      "text/plain": [
       "   Unnamed: 0                                             review  rating\n",
       "0           0  abilify changed life hope zoloft clonidine fir...       3\n",
       "1           1  taken antidepressants years improvement mostly...       3\n",
       "2           2  ive every medicine sun seems manage hypomania ...       3\n",
       "3           3  tasigna 3 years 300mg x 2 times day tasigna wo...       3\n",
       "4           4  insomnia horrible story begins pcp prescribing...       3"
      ]
     },
     "execution_count": 37,
     "metadata": {},
     "output_type": "execute_result"
    }
   ],
   "source": [
    "df_train.dropna(inplace=True)\n",
    "df_train.head()"
   ]
  },
  {
   "cell_type": "code",
   "execution_count": 38,
   "metadata": {
    "colab": {
     "base_uri": "https://localhost:8080/",
     "height": 206
    },
    "id": "1IfqTxac32Pc",
    "outputId": "b16e7f52-2542-4d51-eb88-eee0a3971bf9"
   },
   "outputs": [
    {
     "data": {
      "text/html": [
       "<div>\n",
       "<style scoped>\n",
       "    .dataframe tbody tr th:only-of-type {\n",
       "        vertical-align: middle;\n",
       "    }\n",
       "\n",
       "    .dataframe tbody tr th {\n",
       "        vertical-align: top;\n",
       "    }\n",
       "\n",
       "    .dataframe thead th {\n",
       "        text-align: right;\n",
       "    }\n",
       "</style>\n",
       "<table border=\"1\" class=\"dataframe\">\n",
       "  <thead>\n",
       "    <tr style=\"text-align: right;\">\n",
       "      <th></th>\n",
       "      <th>Unnamed: 0</th>\n",
       "      <th>review</th>\n",
       "      <th>rating</th>\n",
       "    </tr>\n",
       "  </thead>\n",
       "  <tbody>\n",
       "    <tr>\n",
       "      <th>0</th>\n",
       "      <td>0</td>\n",
       "      <td>ive tried antidepressants years citalopram flu...</td>\n",
       "      <td>3</td>\n",
       "    </tr>\n",
       "    <tr>\n",
       "      <th>1</th>\n",
       "      <td>1</td>\n",
       "      <td>son crohns disease done well asacol complaints...</td>\n",
       "      <td>3</td>\n",
       "    </tr>\n",
       "    <tr>\n",
       "      <th>2</th>\n",
       "      <td>2</td>\n",
       "      <td>quick reduction symptoms</td>\n",
       "      <td>3</td>\n",
       "    </tr>\n",
       "    <tr>\n",
       "      <th>3</th>\n",
       "      <td>3</td>\n",
       "      <td>contrave combines drugs used alcohol smoking o...</td>\n",
       "      <td>3</td>\n",
       "    </tr>\n",
       "    <tr>\n",
       "      <th>4</th>\n",
       "      <td>4</td>\n",
       "      <td>birth control one cycle reading reviews type s...</td>\n",
       "      <td>3</td>\n",
       "    </tr>\n",
       "  </tbody>\n",
       "</table>\n",
       "</div>"
      ],
      "text/plain": [
       "   Unnamed: 0                                             review  rating\n",
       "0           0  ive tried antidepressants years citalopram flu...       3\n",
       "1           1  son crohns disease done well asacol complaints...       3\n",
       "2           2                           quick reduction symptoms       3\n",
       "3           3  contrave combines drugs used alcohol smoking o...       3\n",
       "4           4  birth control one cycle reading reviews type s...       3"
      ]
     },
     "execution_count": 38,
     "metadata": {},
     "output_type": "execute_result"
    }
   ],
   "source": [
    "df_test.dropna(inplace=True)\n",
    "df_test.head()"
   ]
  },
  {
   "cell_type": "code",
   "execution_count": 39,
   "metadata": {
    "colab": {
     "base_uri": "https://localhost:8080/"
    },
    "id": "7TaLi8BWHlzx",
    "outputId": "90d09f4d-a5dd-4e44-f265-aa55aa266bbf"
   },
   "outputs": [
    {
     "name": "stdout",
     "output_type": "stream",
     "text": [
      "df_train counts:  Unnamed: 0    317889\n",
      "review        317889\n",
      "rating        317889\n",
      "dtype: int64\n",
      "df_test counts:  Unnamed: 0    53766\n",
      "review        53766\n",
      "rating        53766\n",
      "dtype: int64\n"
     ]
    }
   ],
   "source": [
    "print(\"df_train counts: \", df_train.count())\n",
    "print(\"df_test counts: \", df_test.count())"
   ]
  },
  {
   "cell_type": "code",
   "execution_count": 40,
   "metadata": {
    "colab": {
     "base_uri": "https://localhost:8080/"
    },
    "id": "yxJ7uA9QNPV_",
    "outputId": "abe315b7-9f94-473a-fd24-9b605cada6ad"
   },
   "outputs": [
    {
     "data": {
      "text/plain": [
       "2    115296\n",
       "1    105189\n",
       "3     97404\n",
       "Name: rating, dtype: int64"
      ]
     },
     "execution_count": 40,
     "metadata": {},
     "output_type": "execute_result"
    }
   ],
   "source": [
    "df_train['rating'].value_counts()"
   ]
  },
  {
   "cell_type": "code",
   "execution_count": 41,
   "metadata": {
    "colab": {
     "base_uri": "https://localhost:8080/",
     "height": 143
    },
    "id": "r8Wp12V7nqtB",
    "outputId": "01f917ca-679f-4f89-b052-d7dfcf33ac46"
   },
   "outputs": [
    {
     "data": {
      "text/html": [
       "<div>\n",
       "<style scoped>\n",
       "    .dataframe tbody tr th:only-of-type {\n",
       "        vertical-align: middle;\n",
       "    }\n",
       "\n",
       "    .dataframe tbody tr th {\n",
       "        vertical-align: top;\n",
       "    }\n",
       "\n",
       "    .dataframe thead th {\n",
       "        text-align: right;\n",
       "    }\n",
       "</style>\n",
       "<table border=\"1\" class=\"dataframe\">\n",
       "  <thead>\n",
       "    <tr style=\"text-align: right;\">\n",
       "      <th></th>\n",
       "      <th>review</th>\n",
       "      <th>rating</th>\n",
       "    </tr>\n",
       "  </thead>\n",
       "  <tbody>\n",
       "    <tr>\n",
       "      <th>0</th>\n",
       "      <td>abilify changed life hope zoloft clonidine fir...</td>\n",
       "      <td>3</td>\n",
       "    </tr>\n",
       "    <tr>\n",
       "      <th>1</th>\n",
       "      <td>taken antidepressants years improvement mostly...</td>\n",
       "      <td>3</td>\n",
       "    </tr>\n",
       "    <tr>\n",
       "      <th>2</th>\n",
       "      <td>ive every medicine sun seems manage hypomania ...</td>\n",
       "      <td>3</td>\n",
       "    </tr>\n",
       "  </tbody>\n",
       "</table>\n",
       "</div>"
      ],
      "text/plain": [
       "                                              review  rating\n",
       "0  abilify changed life hope zoloft clonidine fir...       3\n",
       "1  taken antidepressants years improvement mostly...       3\n",
       "2  ive every medicine sun seems manage hypomania ...       3"
      ]
     },
     "execution_count": 41,
     "metadata": {},
     "output_type": "execute_result"
    }
   ],
   "source": [
    "df_train = df_train[['review','rating']]\n",
    "df_train.head(3)"
   ]
  },
  {
   "cell_type": "code",
   "execution_count": 42,
   "metadata": {
    "colab": {
     "base_uri": "https://localhost:8080/",
     "height": 143
    },
    "id": "_7wlCiNE4GMg",
    "outputId": "66db8a6c-6fcb-4393-93ca-4b0a4d9056cc"
   },
   "outputs": [
    {
     "data": {
      "text/html": [
       "<div>\n",
       "<style scoped>\n",
       "    .dataframe tbody tr th:only-of-type {\n",
       "        vertical-align: middle;\n",
       "    }\n",
       "\n",
       "    .dataframe tbody tr th {\n",
       "        vertical-align: top;\n",
       "    }\n",
       "\n",
       "    .dataframe thead th {\n",
       "        text-align: right;\n",
       "    }\n",
       "</style>\n",
       "<table border=\"1\" class=\"dataframe\">\n",
       "  <thead>\n",
       "    <tr style=\"text-align: right;\">\n",
       "      <th></th>\n",
       "      <th>review</th>\n",
       "      <th>rating</th>\n",
       "    </tr>\n",
       "  </thead>\n",
       "  <tbody>\n",
       "    <tr>\n",
       "      <th>0</th>\n",
       "      <td>ive tried antidepressants years citalopram flu...</td>\n",
       "      <td>3</td>\n",
       "    </tr>\n",
       "    <tr>\n",
       "      <th>1</th>\n",
       "      <td>son crohns disease done well asacol complaints...</td>\n",
       "      <td>3</td>\n",
       "    </tr>\n",
       "    <tr>\n",
       "      <th>2</th>\n",
       "      <td>quick reduction symptoms</td>\n",
       "      <td>3</td>\n",
       "    </tr>\n",
       "  </tbody>\n",
       "</table>\n",
       "</div>"
      ],
      "text/plain": [
       "                                              review  rating\n",
       "0  ive tried antidepressants years citalopram flu...       3\n",
       "1  son crohns disease done well asacol complaints...       3\n",
       "2                           quick reduction symptoms       3"
      ]
     },
     "execution_count": 42,
     "metadata": {},
     "output_type": "execute_result"
    }
   ],
   "source": [
    "df_test = df_test[['review','rating']]\n",
    "df_test.head(3)"
   ]
  },
  {
   "cell_type": "code",
   "execution_count": 43,
   "metadata": {
    "colab": {
     "base_uri": "https://localhost:8080/"
    },
    "id": "mBEKxItCpPbi",
    "outputId": "4e05d19f-8743-4073-f207-755a0a968db3"
   },
   "outputs": [
    {
     "data": {
      "text/plain": [
       "0         False\n",
       "1         False\n",
       "2         False\n",
       "3         False\n",
       "4         False\n",
       "          ...  \n",
       "317890     True\n",
       "317891     True\n",
       "317892     True\n",
       "317893     True\n",
       "317894     True\n",
       "Length: 317889, dtype: bool"
      ]
     },
     "execution_count": 43,
     "metadata": {},
     "output_type": "execute_result"
    }
   ],
   "source": [
    "df_train.duplicated()"
   ]
  },
  {
   "cell_type": "code",
   "execution_count": 44,
   "metadata": {
    "id": "GFe_ab0wp2H8"
   },
   "outputs": [],
   "source": [
    "x_temp = df_train['review']\n",
    "y_temp = df_train['rating']"
   ]
  },
  {
   "cell_type": "code",
   "execution_count": 45,
   "metadata": {
    "id": "9CQSiXQVGMI6"
   },
   "outputs": [],
   "source": [
    "x_temp1 = df_test['review']\n",
    "y_temp1 = df_test['rating']"
   ]
  },
  {
   "cell_type": "markdown",
   "metadata": {
    "id": "1AH8egmnGXej"
   },
   "source": [
    "x_temp - train data texts<br>\n",
    "y_temp - train data values\n",
    "<br><br>\n",
    "x_temp1 - test data texts<br>\n",
    "y_temp1 - test data values"
   ]
  },
  {
   "cell_type": "code",
   "execution_count": 46,
   "metadata": {
    "colab": {
     "base_uri": "https://localhost:8080/"
    },
    "id": "Cht-otXgqPYQ",
    "outputId": "e844f3d8-16cc-4a4b-c2b2-9b69d31588cf"
   },
   "outputs": [
    {
     "data": {
      "text/plain": [
       "0         abilify changed life hope zoloft clonidine fir...\n",
       "1         taken antidepressants years improvement mostly...\n",
       "2         ive every medicine sun seems manage hypomania ...\n",
       "3         tasigna 3 years 300mg x 2 times day tasigna wo...\n",
       "4         insomnia horrible story begins pcp prescribing...\n",
       "                                ...                        \n",
       "317890    poisontwo days med amp thought going die total...\n",
       "317891    taken armour thyroid 20 years starting 2 years...\n",
       "317892    used month ago allergic conjunctivitis thought...\n",
       "317893    800mg seems work every 2nd day still excruciat...\n",
       "317894    given iv surgey immediately became anxious cou...\n",
       "Name: review, Length: 317889, dtype: object"
      ]
     },
     "execution_count": 46,
     "metadata": {},
     "output_type": "execute_result"
    }
   ],
   "source": [
    "x_temp"
   ]
  },
  {
   "cell_type": "code",
   "execution_count": 47,
   "metadata": {
    "colab": {
     "base_uri": "https://localhost:8080/"
    },
    "id": "BH5rtLcaqT8m",
    "outputId": "c5108a63-2699-420d-d34c-6dba236be5de"
   },
   "outputs": [
    {
     "data": {
      "text/plain": [
       "0         3\n",
       "1         3\n",
       "2         3\n",
       "3         3\n",
       "4         3\n",
       "         ..\n",
       "317890    1\n",
       "317891    1\n",
       "317892    1\n",
       "317893    1\n",
       "317894    1\n",
       "Name: rating, Length: 317889, dtype: int64"
      ]
     },
     "execution_count": 47,
     "metadata": {},
     "output_type": "execute_result"
    }
   ],
   "source": [
    "y_temp"
   ]
  },
  {
   "cell_type": "code",
   "execution_count": 48,
   "metadata": {
    "colab": {
     "base_uri": "https://localhost:8080/"
    },
    "id": "D6EMcTajGv39",
    "outputId": "e5a70ca4-824f-414b-b5cd-a2ef6b82df57"
   },
   "outputs": [
    {
     "data": {
      "text/plain": [
       "0        ive tried antidepressants years citalopram flu...\n",
       "1        son crohns disease done well asacol complaints...\n",
       "2                                 quick reduction symptoms\n",
       "3        contrave combines drugs used alcohol smoking o...\n",
       "4        birth control one cycle reading reviews type s...\n",
       "                               ...                        \n",
       "53761    taken tamoxifen 5 years side effects severe sw...\n",
       "53762    ive taking lexapro escitaploprgram since febru...\n",
       "53763    im married 34 years old kids taking pill hassl...\n",
       "53764    prescribed nucynta severe neckshoulder pain ta...\n",
       "53765                                                works\n",
       "Name: review, Length: 53766, dtype: object"
      ]
     },
     "execution_count": 48,
     "metadata": {},
     "output_type": "execute_result"
    }
   ],
   "source": [
    "x_temp1"
   ]
  },
  {
   "cell_type": "code",
   "execution_count": 49,
   "metadata": {
    "colab": {
     "base_uri": "https://localhost:8080/"
    },
    "id": "a121M6NIG1_m",
    "outputId": "1930b029-b2e9-4246-9be7-29070b1b398f"
   },
   "outputs": [
    {
     "data": {
      "text/plain": [
       "0        3\n",
       "1        3\n",
       "2        3\n",
       "3        3\n",
       "4        3\n",
       "        ..\n",
       "53761    3\n",
       "53762    3\n",
       "53763    3\n",
       "53764    1\n",
       "53765    3\n",
       "Name: rating, Length: 53766, dtype: int64"
      ]
     },
     "execution_count": 49,
     "metadata": {},
     "output_type": "execute_result"
    }
   ],
   "source": [
    "y_temp1"
   ]
  },
  {
   "cell_type": "markdown",
   "metadata": {
    "id": "pJFQOWl91h4V"
   },
   "source": [
    "### **5. Texts to numbers** ###"
   ]
  },
  {
   "cell_type": "markdown",
   "metadata": {
    "id": "HuGpM1V-JVo1"
   },
   "source": [
    "#### **5.1 Converting y_temp to y_train and y_temp1 to y_test**####"
   ]
  },
  {
   "cell_type": "code",
   "execution_count": 50,
   "metadata": {
    "id": "36wLzGtTrHZb"
   },
   "outputs": [],
   "source": [
    "y_temp = np.asarray(y_temp)\n",
    "\n",
    "y_temp1 = np.asarray(y_temp1)"
   ]
  },
  {
   "cell_type": "code",
   "execution_count": 51,
   "metadata": {
    "colab": {
     "base_uri": "https://localhost:8080/"
    },
    "id": "BQh8ZrHsqrlx",
    "outputId": "ed76571b-0abf-47e1-ea82-6761ac1c183a"
   },
   "outputs": [
    {
     "data": {
      "text/plain": [
       "array([0, 0, 0, ..., 1, 1, 1], dtype=int64)"
      ]
     },
     "execution_count": 51,
     "metadata": {},
     "output_type": "execute_result"
    }
   ],
   "source": [
    "import numpy as np\n",
    "y_temp = np.where(y_temp==3,0,y_temp)\n",
    "y_temp = np.asarray(y_temp)\n",
    "y_temp #After changing values"
   ]
  },
  {
   "cell_type": "code",
   "execution_count": 52,
   "metadata": {
    "colab": {
     "base_uri": "https://localhost:8080/"
    },
    "id": "vEG_g1JIIU7f",
    "outputId": "684fe943-4f8b-4de2-c4b8-7375b3a008ac"
   },
   "outputs": [
    {
     "data": {
      "text/plain": [
       "array([0, 0, 0, ..., 0, 1, 0], dtype=int64)"
      ]
     },
     "execution_count": 52,
     "metadata": {},
     "output_type": "execute_result"
    }
   ],
   "source": [
    "y_temp1 = np.where(y_temp1==3,0,y_temp1)\n",
    "y_temp1 = np.asarray(y_temp1)\n",
    "y_temp1 #After changing values"
   ]
  },
  {
   "cell_type": "markdown",
   "metadata": {
    "id": "rDVNo1_riv_R"
   },
   "source": [
    "<strong><h3>So, values 1, 2 and 3 in ratings have been changed to 1, 2 and 0 respectively, for simplicity.<h3></strong>"
   ]
  },
  {
   "cell_type": "code",
   "execution_count": 53,
   "metadata": {
    "colab": {
     "base_uri": "https://localhost:8080/"
    },
    "id": "VuXd5Rm3qY7h",
    "outputId": "200ede81-2072-4fb2-96dc-db35c9ad8bdf"
   },
   "outputs": [
    {
     "data": {
      "text/plain": [
       "array([[1., 0., 0.],\n",
       "       [1., 0., 0.],\n",
       "       [1., 0., 0.],\n",
       "       ...,\n",
       "       [0., 1., 0.],\n",
       "       [0., 1., 0.],\n",
       "       [0., 1., 0.]], dtype=float32)"
      ]
     },
     "execution_count": 53,
     "metadata": {},
     "output_type": "execute_result"
    }
   ],
   "source": [
    "num_classes = 3\n",
    "y_train = to_categorical(y_temp, num_classes)\n",
    "y_train"
   ]
  },
  {
   "cell_type": "code",
   "execution_count": 54,
   "metadata": {
    "colab": {
     "base_uri": "https://localhost:8080/"
    },
    "id": "KEnMyfH-Ii3i",
    "outputId": "ec5e6e4a-41b2-47f8-fa0d-87040341af7e"
   },
   "outputs": [
    {
     "data": {
      "text/plain": [
       "array([[1., 0., 0.],\n",
       "       [1., 0., 0.],\n",
       "       [1., 0., 0.],\n",
       "       ...,\n",
       "       [1., 0., 0.],\n",
       "       [0., 1., 0.],\n",
       "       [1., 0., 0.]], dtype=float32)"
      ]
     },
     "execution_count": 54,
     "metadata": {},
     "output_type": "execute_result"
    }
   ],
   "source": [
    "y_test = to_categorical(y_temp1, num_classes)\n",
    "y_test"
   ]
  },
  {
   "cell_type": "markdown",
   "metadata": {
    "id": "G4JE_qL8J9hQ"
   },
   "source": [
    "#### **6.2 Converting x_temp to x_train and x_temp1 to x_test**####"
   ]
  },
  {
   "cell_type": "code",
   "execution_count": 55,
   "metadata": {
    "id": "UgQqhLYXuYtE"
   },
   "outputs": [],
   "source": [
    "tk_review = Tokenizer(num_words=200000) #num_words says the number of top frequent words\n",
    "tk_review.fit_on_texts(x_temp)\n",
    "sequences_train = tk_review.texts_to_sequences(x_temp)\n",
    "word_index = tk_review.word_index"
   ]
  },
  {
   "cell_type": "code",
   "execution_count": 56,
   "metadata": {
    "colab": {
     "base_uri": "https://localhost:8080/"
    },
    "id": "bGUYZSuXl9uT",
    "outputId": "d01725de-eca5-43d3-aabd-fba06ecc0406"
   },
   "outputs": [
    {
     "data": {
      "text/plain": [
       "84317"
      ]
     },
     "execution_count": 56,
     "metadata": {},
     "output_type": "execute_result"
    }
   ],
   "source": [
    "V = len(word_index)\n",
    "V"
   ]
  },
  {
   "cell_type": "code",
   "execution_count": 57,
   "metadata": {
    "colab": {
     "base_uri": "https://localhost:8080/"
    },
    "id": "2dWukeqvyNGB",
    "outputId": "bad5d9e6-d4e8-4148-93a3-284a84e60217"
   },
   "outputs": [
    {
     "data": {
      "text/plain": [
       "[852,\n",
       " 279,\n",
       " 53,\n",
       " 218,\n",
       " 397,\n",
       " 2309,\n",
       " 8,\n",
       " 10,\n",
       " 852,\n",
       " 550,\n",
       " 250,\n",
       " 397,\n",
       " 71,\n",
       " 13840,\n",
       " 1444,\n",
       " 780,\n",
       " 1836,\n",
       " 854,\n",
       " 44,\n",
       " 213,\n",
       " 2429,\n",
       " 27,\n",
       " 156,\n",
       " 819,\n",
       " 3066,\n",
       " 255,\n",
       " 1836,\n",
       " 124,\n",
       " 212,\n",
       " 80,\n",
       " 1681,\n",
       " 852,\n",
       " 265,\n",
       " 19,\n",
       " 11,\n",
       " 1683,\n",
       " 157,\n",
       " 102,\n",
       " 1,\n",
       " 537,\n",
       " 394,\n",
       " 293,\n",
       " 3188,\n",
       " 102,\n",
       " 852,\n",
       " 91,\n",
       " 81,\n",
       " 13,\n",
       " 120,\n",
       " 780,\n",
       " 44,\n",
       " 823,\n",
       " 43,\n",
       " 23,\n",
       " 9810,\n",
       " 661,\n",
       " 1151,\n",
       " 194,\n",
       " 821,\n",
       " 17,\n",
       " 93,\n",
       " 216,\n",
       " 4,\n",
       " 129,\n",
       " 11,\n",
       " 175,\n",
       " 106]"
      ]
     },
     "execution_count": 57,
     "metadata": {},
     "output_type": "execute_result"
    }
   ],
   "source": [
    "sequences_train[0]"
   ]
  },
  {
   "cell_type": "code",
   "execution_count": 58,
   "metadata": {
    "colab": {
     "base_uri": "https://localhost:8080/"
    },
    "id": "2wvDuVeWypQp",
    "outputId": "4dae04e0-2f14-41b0-840d-b54abeeae5a0"
   },
   "outputs": [
    {
     "name": "stdout",
     "output_type": "stream",
     "text": [
      "963\n"
     ]
    }
   ],
   "source": [
    "#Check input length...should be in same size\n",
    "max = 0\n",
    "for i in range(len(sequences_train)):\n",
    "  word_number = len(sequences_train[i])\n",
    "  if (word_number) > (max):\n",
    "    max = word_number\n",
    "print(max)"
   ]
  },
  {
   "cell_type": "code",
   "execution_count": 59,
   "metadata": {
    "id": "i58gczxgkuIW"
   },
   "outputs": [],
   "source": [
    "T=max"
   ]
  },
  {
   "cell_type": "code",
   "execution_count": 60,
   "metadata": {
    "colab": {
     "base_uri": "https://localhost:8080/"
    },
    "id": "snKtTC9VzNah",
    "outputId": "eb485212-4a5f-47be-d6a5-787742755aa0"
   },
   "outputs": [
    {
     "data": {
      "text/plain": [
       "array([  852,   279,    53,   218,   397,  2309,     8,    10,   852,\n",
       "         550,   250,   397,    71, 13840,  1444,   780,  1836,   854,\n",
       "          44,   213,  2429,    27,   156,   819,  3066,   255,  1836,\n",
       "         124,   212,    80,  1681,   852,   265,    19,    11,  1683,\n",
       "         157,   102,     1,   537,   394,   293,  3188,   102,   852,\n",
       "          91,    81,    13,   120,   780,    44,   823,    43,    23,\n",
       "        9810,   661,  1151,   194,   821,    17,    93,   216,     4,\n",
       "         129,    11,   175,   106,     0,     0,     0,     0,     0,\n",
       "           0,     0,     0,     0,     0,     0,     0,     0,     0,\n",
       "           0,     0,     0,     0,     0,     0,     0,     0,     0,\n",
       "           0,     0,     0,     0,     0,     0,     0,     0,     0,\n",
       "           0,     0,     0,     0,     0,     0,     0,     0,     0,\n",
       "           0,     0,     0,     0,     0,     0,     0,     0,     0,\n",
       "           0,     0,     0,     0,     0,     0,     0,     0,     0,\n",
       "           0,     0,     0,     0,     0,     0,     0,     0,     0,\n",
       "           0,     0,     0,     0,     0,     0,     0,     0,     0,\n",
       "           0,     0,     0,     0,     0,     0,     0,     0,     0,\n",
       "           0,     0,     0,     0,     0,     0,     0,     0,     0,\n",
       "           0,     0,     0,     0,     0,     0,     0,     0,     0,\n",
       "           0,     0,     0,     0,     0,     0,     0,     0,     0,\n",
       "           0,     0,     0,     0,     0,     0,     0,     0,     0,\n",
       "           0,     0,     0,     0,     0,     0,     0,     0,     0,\n",
       "           0,     0,     0,     0,     0,     0,     0,     0,     0,\n",
       "           0,     0,     0,     0,     0,     0,     0,     0,     0,\n",
       "           0,     0,     0,     0,     0,     0,     0,     0,     0,\n",
       "           0,     0,     0,     0,     0,     0,     0,     0,     0,\n",
       "           0,     0,     0,     0,     0,     0,     0,     0,     0,\n",
       "           0,     0,     0,     0,     0,     0,     0,     0,     0,\n",
       "           0,     0,     0,     0,     0,     0,     0,     0,     0,\n",
       "           0,     0,     0,     0,     0,     0,     0,     0,     0,\n",
       "           0,     0,     0,     0,     0,     0,     0,     0,     0,\n",
       "           0,     0,     0,     0,     0,     0,     0,     0,     0,\n",
       "           0,     0,     0,     0,     0,     0,     0,     0,     0,\n",
       "           0,     0,     0,     0,     0,     0,     0,     0,     0,\n",
       "           0,     0,     0,     0,     0,     0,     0,     0,     0,\n",
       "           0,     0,     0,     0,     0,     0,     0,     0,     0,\n",
       "           0,     0,     0,     0,     0,     0,     0,     0,     0,\n",
       "           0,     0,     0,     0,     0,     0,     0,     0,     0,\n",
       "           0,     0,     0,     0,     0,     0,     0,     0,     0,\n",
       "           0,     0,     0,     0,     0,     0,     0,     0,     0,\n",
       "           0,     0,     0,     0,     0,     0,     0,     0,     0,\n",
       "           0,     0,     0,     0,     0,     0,     0,     0,     0,\n",
       "           0,     0,     0,     0,     0,     0,     0,     0,     0,\n",
       "           0,     0,     0,     0,     0,     0,     0,     0,     0,\n",
       "           0,     0,     0,     0,     0,     0,     0,     0,     0,\n",
       "           0,     0,     0,     0,     0,     0,     0,     0,     0,\n",
       "           0,     0,     0,     0,     0,     0,     0,     0,     0,\n",
       "           0,     0,     0,     0,     0,     0,     0,     0,     0,\n",
       "           0,     0,     0,     0,     0,     0,     0,     0,     0,\n",
       "           0,     0,     0,     0,     0,     0,     0,     0,     0,\n",
       "           0,     0,     0,     0,     0,     0,     0,     0,     0,\n",
       "           0,     0,     0,     0,     0,     0,     0,     0,     0,\n",
       "           0,     0,     0,     0,     0,     0,     0,     0,     0,\n",
       "           0,     0,     0,     0,     0,     0,     0,     0,     0,\n",
       "           0,     0,     0,     0,     0,     0,     0,     0,     0,\n",
       "           0,     0,     0,     0,     0,     0,     0,     0,     0,\n",
       "           0,     0,     0,     0,     0,     0,     0,     0,     0,\n",
       "           0,     0,     0,     0,     0,     0,     0,     0,     0,\n",
       "           0,     0,     0,     0,     0,     0,     0,     0,     0,\n",
       "           0,     0,     0,     0,     0,     0,     0,     0,     0,\n",
       "           0,     0,     0,     0,     0,     0,     0,     0,     0,\n",
       "           0,     0,     0,     0,     0,     0,     0,     0,     0,\n",
       "           0,     0,     0,     0,     0,     0,     0,     0,     0,\n",
       "           0,     0,     0,     0,     0,     0,     0,     0,     0,\n",
       "           0,     0,     0,     0,     0,     0,     0,     0,     0,\n",
       "           0,     0,     0,     0,     0,     0,     0,     0,     0,\n",
       "           0,     0,     0,     0,     0,     0,     0,     0,     0,\n",
       "           0,     0,     0,     0,     0,     0,     0,     0,     0,\n",
       "           0,     0,     0,     0,     0,     0,     0,     0,     0,\n",
       "           0,     0,     0,     0,     0,     0,     0,     0,     0,\n",
       "           0,     0,     0,     0,     0,     0,     0,     0,     0,\n",
       "           0,     0,     0,     0,     0,     0,     0,     0,     0,\n",
       "           0,     0,     0,     0,     0,     0,     0,     0,     0,\n",
       "           0,     0,     0,     0,     0,     0,     0,     0,     0,\n",
       "           0,     0,     0,     0,     0,     0,     0,     0,     0,\n",
       "           0,     0,     0,     0,     0,     0,     0,     0,     0,\n",
       "           0,     0,     0,     0,     0,     0,     0,     0,     0,\n",
       "           0,     0,     0,     0,     0,     0,     0,     0,     0,\n",
       "           0,     0,     0,     0,     0,     0,     0,     0,     0,\n",
       "           0,     0,     0,     0,     0,     0,     0,     0,     0,\n",
       "           0,     0,     0,     0,     0,     0,     0,     0,     0,\n",
       "           0,     0,     0,     0,     0,     0,     0,     0,     0,\n",
       "           0,     0,     0,     0,     0,     0,     0,     0,     0,\n",
       "           0,     0,     0,     0,     0,     0,     0,     0,     0,\n",
       "           0,     0,     0,     0,     0,     0,     0,     0,     0,\n",
       "           0,     0,     0,     0,     0,     0,     0,     0,     0,\n",
       "           0,     0,     0,     0,     0,     0,     0,     0,     0,\n",
       "           0,     0,     0,     0,     0,     0,     0,     0,     0,\n",
       "           0,     0,     0,     0,     0,     0,     0,     0,     0,\n",
       "           0,     0,     0,     0,     0,     0,     0,     0,     0,\n",
       "           0,     0,     0,     0,     0,     0,     0,     0,     0,\n",
       "           0,     0,     0,     0,     0,     0,     0,     0,     0,\n",
       "           0,     0,     0,     0,     0,     0,     0,     0,     0,\n",
       "           0,     0,     0,     0,     0,     0,     0,     0,     0,\n",
       "           0,     0,     0,     0,     0,     0,     0,     0,     0,\n",
       "           0,     0,     0,     0,     0,     0,     0,     0,     0,\n",
       "           0,     0,     0,     0,     0,     0,     0,     0,     0,\n",
       "           0,     0,     0,     0,     0,     0,     0,     0,     0,\n",
       "           0,     0,     0,     0,     0,     0,     0,     0,     0,\n",
       "           0,     0,     0,     0,     0,     0,     0,     0,     0,\n",
       "           0,     0,     0,     0,     0,     0,     0,     0,     0,\n",
       "           0,     0,     0,     0,     0,     0,     0,     0,     0,\n",
       "           0,     0,     0,     0,     0,     0,     0,     0,     0,\n",
       "           0,     0,     0,     0,     0,     0,     0,     0,     0,\n",
       "           0,     0,     0,     0,     0,     0,     0,     0,     0,\n",
       "           0,     0,     0,     0,     0,     0,     0,     0,     0,\n",
       "           0,     0,     0,     0,     0,     0,     0,     0,     0])"
      ]
     },
     "execution_count": 60,
     "metadata": {},
     "output_type": "execute_result"
    }
   ],
   "source": [
    "x_train = pad_sequences(sequences_train, padding = 'post', maxlen = max)\n",
    "x_train[0]"
   ]
  },
  {
   "cell_type": "code",
   "execution_count": 61,
   "metadata": {
    "id": "EWORN43S1Hdi"
   },
   "outputs": [],
   "source": [
    "sequences_test = tk_review.texts_to_sequences(x_temp1)\n",
    "word_index = tk_review.word_index"
   ]
  },
  {
   "cell_type": "code",
   "execution_count": 62,
   "metadata": {
    "colab": {
     "base_uri": "https://localhost:8080/"
    },
    "id": "Lii1gx4IJMso",
    "outputId": "25f4f93c-bae5-499e-f9bb-f6bc1c74e987"
   },
   "outputs": [
    {
     "data": {
      "text/plain": [
       "array([   6,   81,  817,   16, 1634, 2568, 2202,  701,  123,   71,  299,\n",
       "         96,   45,   34,  634,  279, 1710, 5059, 2340,   49,  792,   53,\n",
       "       1586,    4,   12,  479, 1105,   33,  108,    6,  238,  120, 1314,\n",
       "         33,   36,  593,  358, 2340,  792,    0,    0,    0,    0,    0,\n",
       "          0,    0,    0,    0,    0,    0,    0,    0,    0,    0,    0,\n",
       "          0,    0,    0,    0,    0,    0,    0,    0,    0,    0,    0,\n",
       "          0,    0,    0,    0,    0,    0,    0,    0,    0,    0,    0,\n",
       "          0,    0,    0,    0,    0,    0,    0,    0,    0,    0,    0,\n",
       "          0,    0,    0,    0,    0,    0,    0,    0,    0,    0,    0,\n",
       "          0,    0,    0,    0,    0,    0,    0,    0,    0,    0,    0,\n",
       "          0,    0,    0,    0,    0,    0,    0,    0,    0,    0,    0,\n",
       "          0,    0,    0,    0,    0,    0,    0,    0,    0,    0,    0,\n",
       "          0,    0,    0,    0,    0,    0,    0,    0,    0,    0,    0,\n",
       "          0,    0,    0,    0,    0,    0,    0,    0,    0,    0,    0,\n",
       "          0,    0,    0,    0,    0,    0,    0,    0,    0,    0,    0,\n",
       "          0,    0,    0,    0,    0,    0,    0,    0,    0,    0,    0,\n",
       "          0,    0,    0,    0,    0,    0,    0,    0,    0,    0,    0,\n",
       "          0,    0,    0,    0,    0,    0,    0,    0,    0,    0,    0,\n",
       "          0,    0,    0,    0,    0,    0,    0,    0,    0,    0,    0,\n",
       "          0,    0,    0,    0,    0,    0,    0,    0,    0,    0,    0,\n",
       "          0,    0,    0,    0,    0,    0,    0,    0,    0,    0,    0,\n",
       "          0,    0,    0,    0,    0,    0,    0,    0,    0,    0,    0,\n",
       "          0,    0,    0,    0,    0,    0,    0,    0,    0,    0,    0,\n",
       "          0,    0,    0,    0,    0,    0,    0,    0,    0,    0,    0,\n",
       "          0,    0,    0,    0,    0,    0,    0,    0,    0,    0,    0,\n",
       "          0,    0,    0,    0,    0,    0,    0,    0,    0,    0,    0,\n",
       "          0,    0,    0,    0,    0,    0,    0,    0,    0,    0,    0,\n",
       "          0,    0,    0,    0,    0,    0,    0,    0,    0,    0,    0,\n",
       "          0,    0,    0,    0,    0,    0,    0,    0,    0,    0,    0,\n",
       "          0,    0,    0,    0,    0,    0,    0,    0,    0,    0,    0,\n",
       "          0,    0,    0,    0,    0,    0,    0,    0,    0,    0,    0,\n",
       "          0,    0,    0,    0,    0,    0,    0,    0,    0,    0,    0,\n",
       "          0,    0,    0,    0,    0,    0,    0,    0,    0,    0,    0,\n",
       "          0,    0,    0,    0,    0,    0,    0,    0,    0,    0,    0,\n",
       "          0,    0,    0,    0,    0,    0,    0,    0,    0,    0,    0,\n",
       "          0,    0,    0,    0,    0,    0,    0,    0,    0,    0,    0,\n",
       "          0,    0,    0,    0,    0,    0,    0,    0,    0,    0,    0,\n",
       "          0,    0,    0,    0,    0,    0,    0,    0,    0,    0,    0,\n",
       "          0,    0,    0,    0,    0,    0,    0,    0,    0,    0,    0,\n",
       "          0,    0,    0,    0,    0,    0,    0,    0,    0,    0,    0,\n",
       "          0,    0,    0,    0,    0,    0,    0,    0,    0,    0,    0,\n",
       "          0,    0,    0,    0,    0,    0,    0,    0,    0,    0,    0,\n",
       "          0,    0,    0,    0,    0,    0,    0,    0,    0,    0,    0,\n",
       "          0,    0,    0,    0,    0,    0,    0,    0,    0,    0,    0,\n",
       "          0,    0,    0,    0,    0,    0,    0,    0,    0,    0,    0,\n",
       "          0,    0,    0,    0,    0,    0,    0,    0,    0,    0,    0,\n",
       "          0,    0,    0,    0,    0,    0,    0,    0,    0,    0,    0,\n",
       "          0,    0,    0,    0,    0,    0,    0,    0,    0,    0,    0,\n",
       "          0,    0,    0,    0,    0,    0,    0,    0,    0,    0,    0,\n",
       "          0,    0,    0,    0,    0,    0,    0,    0,    0,    0,    0,\n",
       "          0,    0,    0,    0,    0,    0,    0,    0,    0,    0,    0,\n",
       "          0,    0,    0,    0,    0,    0,    0,    0,    0,    0,    0,\n",
       "          0,    0,    0,    0,    0,    0,    0,    0,    0,    0,    0,\n",
       "          0,    0,    0,    0,    0,    0,    0,    0,    0,    0,    0,\n",
       "          0,    0,    0,    0,    0,    0,    0,    0,    0,    0,    0,\n",
       "          0,    0,    0,    0,    0,    0,    0,    0,    0,    0,    0,\n",
       "          0,    0,    0,    0,    0,    0,    0,    0,    0,    0,    0,\n",
       "          0,    0,    0,    0,    0,    0,    0,    0,    0,    0,    0,\n",
       "          0,    0,    0,    0,    0,    0,    0,    0,    0,    0,    0,\n",
       "          0,    0,    0,    0,    0,    0,    0,    0,    0,    0,    0,\n",
       "          0,    0,    0,    0,    0,    0,    0,    0,    0,    0,    0,\n",
       "          0,    0,    0,    0,    0,    0,    0,    0,    0,    0,    0,\n",
       "          0,    0,    0,    0,    0,    0,    0,    0,    0,    0,    0,\n",
       "          0,    0,    0,    0,    0,    0,    0,    0,    0,    0,    0,\n",
       "          0,    0,    0,    0,    0,    0,    0,    0,    0,    0,    0,\n",
       "          0,    0,    0,    0,    0,    0,    0,    0,    0,    0,    0,\n",
       "          0,    0,    0,    0,    0,    0,    0,    0,    0,    0,    0,\n",
       "          0,    0,    0,    0,    0,    0,    0,    0,    0,    0,    0,\n",
       "          0,    0,    0,    0,    0,    0,    0,    0,    0,    0,    0,\n",
       "          0,    0,    0,    0,    0,    0,    0,    0,    0,    0,    0,\n",
       "          0,    0,    0,    0,    0,    0,    0,    0,    0,    0,    0,\n",
       "          0,    0,    0,    0,    0,    0,    0,    0,    0,    0,    0,\n",
       "          0,    0,    0,    0,    0,    0,    0,    0,    0,    0,    0,\n",
       "          0,    0,    0,    0,    0,    0,    0,    0,    0,    0,    0,\n",
       "          0,    0,    0,    0,    0,    0,    0,    0,    0,    0,    0,\n",
       "          0,    0,    0,    0,    0,    0,    0,    0,    0,    0,    0,\n",
       "          0,    0,    0,    0,    0,    0,    0,    0,    0,    0,    0,\n",
       "          0,    0,    0,    0,    0,    0,    0,    0,    0,    0,    0,\n",
       "          0,    0,    0,    0,    0,    0,    0,    0,    0,    0,    0,\n",
       "          0,    0,    0,    0,    0,    0,    0,    0,    0,    0,    0,\n",
       "          0,    0,    0,    0,    0,    0,    0,    0,    0,    0,    0,\n",
       "          0,    0,    0,    0,    0,    0,    0,    0,    0,    0,    0,\n",
       "          0,    0,    0,    0,    0,    0,    0,    0,    0,    0,    0,\n",
       "          0,    0,    0,    0,    0,    0,    0,    0,    0,    0,    0,\n",
       "          0,    0,    0,    0,    0,    0,    0,    0,    0,    0,    0,\n",
       "          0,    0,    0,    0,    0,    0,    0,    0,    0,    0,    0,\n",
       "          0,    0,    0,    0,    0,    0,    0,    0,    0,    0,    0,\n",
       "          0,    0,    0,    0,    0,    0])"
      ]
     },
     "execution_count": 62,
     "metadata": {},
     "output_type": "execute_result"
    }
   ],
   "source": [
    "x_test = pad_sequences(sequences_test, padding = 'post', maxlen = max)\n",
    "x_test[0]"
   ]
  },
  {
   "cell_type": "code",
   "execution_count": 63,
   "metadata": {
    "colab": {
     "base_uri": "https://localhost:8080/"
    },
    "id": "EPF1ki0hNFbx",
    "outputId": "c717aad7-20c5-4417-bcef-c9b4100405a5"
   },
   "outputs": [
    {
     "data": {
      "text/plain": [
       "(317889, 963)"
      ]
     },
     "execution_count": 63,
     "metadata": {},
     "output_type": "execute_result"
    }
   ],
   "source": [
    "x_train.shape"
   ]
  },
  {
   "cell_type": "code",
   "execution_count": 64,
   "metadata": {
    "colab": {
     "base_uri": "https://localhost:8080/"
    },
    "id": "B6irD_izNIuA",
    "outputId": "0f2ef00d-ce7a-4512-dadf-e3279ef7e2c6"
   },
   "outputs": [
    {
     "data": {
      "text/plain": [
       "(317889, 3)"
      ]
     },
     "execution_count": 64,
     "metadata": {},
     "output_type": "execute_result"
    }
   ],
   "source": [
    "y_train.shape"
   ]
  },
  {
   "cell_type": "code",
   "execution_count": 65,
   "metadata": {
    "colab": {
     "base_uri": "https://localhost:8080/"
    },
    "id": "9fTyemrSNLon",
    "outputId": "a8578552-9e18-4d2a-b244-3c5e75de19a7"
   },
   "outputs": [
    {
     "data": {
      "text/plain": [
       "(53766, 963)"
      ]
     },
     "execution_count": 65,
     "metadata": {},
     "output_type": "execute_result"
    }
   ],
   "source": [
    "x_test.shape"
   ]
  },
  {
   "cell_type": "code",
   "execution_count": 66,
   "metadata": {
    "colab": {
     "base_uri": "https://localhost:8080/"
    },
    "id": "e2Msmp2ZNO2L",
    "outputId": "33b0c59c-16ee-4f44-b77b-1ea125b8723e"
   },
   "outputs": [
    {
     "data": {
      "text/plain": [
       "(53766, 3)"
      ]
     },
     "execution_count": 66,
     "metadata": {},
     "output_type": "execute_result"
    }
   ],
   "source": [
    "y_test.shape"
   ]
  },
  {
   "cell_type": "markdown",
   "metadata": {
    "id": "rIelXn9x3nG5"
   },
   "source": [
    "### **6. Preparing the model** ###"
   ]
  },
  {
   "cell_type": "code",
   "execution_count": 67,
   "metadata": {
    "colab": {
     "base_uri": "https://localhost:8080/"
    },
    "id": "sc9MfwTIJeuC",
    "outputId": "0c3483a9-bdb0-4fb6-d7b5-9fd77dc7599a"
   },
   "outputs": [],
   "source": [
    "from keras.layers.pooling import GlobalMaxPooling1D\n",
    "#Creating model\n",
    "\n",
    "D = 20 # Dimension of Embedding layer\n",
    "M = 15 # Dimension of LSTM layer\n",
    "\n",
    "model = Sequential()\n",
    "model.add(Embedding(V+1, D, input_length = x_train.shape[1]))\n",
    "model.add(LSTM(M, return_sequences=True, recurrent_dropout=0.2))\n",
    "model.add(GlobalMaxPooling1D())\n",
    "model.add(Dense(32, activation='relu'))\n",
    "model.add(Dense(3, activation='sigmoid'))"
   ]
  },
  {
   "cell_type": "code",
   "execution_count": 68,
   "metadata": {
    "colab": {
     "base_uri": "https://localhost:8080/"
    },
    "id": "Y5evreRBeYSw",
    "outputId": "ffd92b34-4ee8-486c-c480-a29b77b0c41f"
   },
   "outputs": [
    {
     "name": "stdout",
     "output_type": "stream",
     "text": [
      "Model: \"sequential\"\n",
      "_________________________________________________________________\n",
      " Layer (type)                Output Shape              Param #   \n",
      "=================================================================\n",
      " embedding (Embedding)       (None, 963, 20)           1686360   \n",
      "                                                                 \n",
      " lstm (LSTM)                 (None, 963, 15)           2160      \n",
      "                                                                 \n",
      " global_max_pooling1d (Globa  (None, 15)               0         \n",
      " lMaxPooling1D)                                                  \n",
      "                                                                 \n",
      " dense (Dense)               (None, 32)                512       \n",
      "                                                                 \n",
      " dense_1 (Dense)             (None, 3)                 99        \n",
      "                                                                 \n",
      "=================================================================\n",
      "Total params: 1,689,131\n",
      "Trainable params: 1,689,131\n",
      "Non-trainable params: 0\n",
      "_________________________________________________________________\n"
     ]
    }
   ],
   "source": [
    "model.compile(loss='binary_crossentropy', optimizer=Adam(learning_rate=0.01), metrics=['accuracy'])\n",
    "model.summary()"
   ]
  },
  {
   "cell_type": "code",
   "execution_count": 69,
   "metadata": {
    "colab": {
     "base_uri": "https://localhost:8080/",
     "height": 644
    },
    "id": "DwNPo7E3bly3",
    "outputId": "0ea89c24-e274-4b0a-e714-c9971bca70ea"
   },
   "outputs": [],
   "source": [
    "# tf.keras.utils.plot_model(model, show_shapes = True)"
   ]
  },
  {
   "cell_type": "code",
   "execution_count": 70,
   "metadata": {
    "colab": {
     "base_uri": "https://localhost:8080/"
    },
    "id": "h7ghMSFmd8j-",
    "outputId": "88369766-6aab-4d80-865e-1ea322ec3b8f"
   },
   "outputs": [
    {
     "data": {
      "text/plain": [
       "(53766, 3)"
      ]
     },
     "execution_count": 70,
     "metadata": {},
     "output_type": "execute_result"
    }
   ],
   "source": [
    "y_test.shape"
   ]
  },
  {
   "cell_type": "code",
   "execution_count": 71,
   "metadata": {
    "colab": {
     "base_uri": "https://localhost:8080/"
    },
    "id": "NrT2ZM1Jg0zC",
    "outputId": "437310a5-56dd-4dc4-f750-52abd83e90ea"
   },
   "outputs": [
    {
     "name": "stdout",
     "output_type": "stream",
     "text": [
      "Epoch 1/5\n",
      "9935/9935 [==============================] - 8382s 843ms/step - loss: 0.4067 - accuracy: 0.7124 - val_loss: 0.4063 - val_accuracy: 0.7270\n",
      "Epoch 2/5\n",
      "9935/9935 [==============================] - 8571s 863ms/step - loss: 0.2675 - accuracy: 0.8291 - val_loss: 0.3946 - val_accuracy: 0.7478\n",
      "Epoch 3/5\n",
      "9935/9935 [==============================] - 8480s 854ms/step - loss: 0.2182 - accuracy: 0.8632 - val_loss: 0.3772 - val_accuracy: 0.7680\n",
      "Epoch 4/5\n",
      "9935/9935 [==============================] - 8348s 840ms/step - loss: 0.1958 - accuracy: 0.8788 - val_loss: 0.3882 - val_accuracy: 0.7767\n",
      "Epoch 5/5\n",
      "9935/9935 [==============================] - 8410s 847ms/step - loss: 0.1831 - accuracy: 0.8866 - val_loss: 0.3964 - val_accuracy: 0.7776\n"
     ]
    }
   ],
   "source": [
    "# training model\n",
    "history = model.fit(x_train,y_train, epochs=5, verbose=1, validation_data = (x_test,y_test))"
   ]
  },
  {
   "cell_type": "code",
   "execution_count": 72,
   "metadata": {
    "id": "MWf1JYs1Jnch"
   },
   "outputs": [
    {
     "name": "stdout",
     "output_type": "stream",
     "text": [
      "dict_keys(['loss', 'accuracy', 'val_loss', 'val_accuracy'])\n"
     ]
    }
   ],
   "source": [
    "# list all data in history\n",
    "print(history.history.keys())"
   ]
  },
  {
   "cell_type": "code",
   "execution_count": 73,
   "metadata": {
    "id": "OF1vn1LvhCrc"
   },
   "outputs": [
    {
     "data": {
      "image/png": "[encoded data removed]",
      "text/plain": [
       "<Figure size 640x480 with 1 Axes>"
      ]
     },
     "metadata": {},
     "output_type": "display_data"
    }
   ],
   "source": [
    "# summarize history for accuracy\n",
    "plt.plot(history.history['accuracy'])\n",
    "plt.plot(history.history['val_accuracy'])\n",
    "plt.title('model accuracy')\n",
    "plt.ylabel('accuracy')\n",
    "plt.xlabel('epoch')\n",
    "plt.legend(['train', 'test'], loc='upper left')\n",
    "plt.show()"
   ]
  },
  {
   "cell_type": "code",
   "execution_count": 74,
   "metadata": {
    "id": "Dm_ckVhZhFMz"
   },
   "outputs": [
    {
     "data": {
      "image/png": "[encoded data removed]",
      "text/plain": [
       "<Figure size 640x480 with 1 Axes>"
      ]
     },
     "metadata": {},
     "output_type": "display_data"
    }
   ],
   "source": [
    "# summarize history for loss\n",
    "plt.plot(history.history['loss'])\n",
    "plt.plot(history.history['val_loss'])\n",
    "plt.title('model loss')\n",
    "plt.ylabel('loss')\n",
    "plt.xlabel('epoch')\n",
    "plt.legend(['train', 'test'], loc='upper left')\n",
    "plt.show()"
   ]
  },
  {
   "cell_type": "markdown",
   "metadata": {},
   "source": [
    "### **7. Predicting sentences** ###"
   ]
  },
  {
   "cell_type": "code",
   "execution_count": 83,
   "metadata": {},
   "outputs": [
    {
     "name": "stdout",
     "output_type": "stream",
     "text": [
      "(1, 963)\n",
      "1/1 [==============================] - 0s 135ms/step\n",
      "1.0 0.0 0.0\n",
      "3\n"
     ]
    }
   ],
   "source": [
    "a = ['i love it very much']\n",
    "a = tk_review.texts_to_sequences(a)\n",
    "a = np.array(a)\n",
    "a = pad_sequences(a,padding='post',maxlen=max)\n",
    "print(a.shape)\n",
    "prediction = model.predict(np.array(a))\n",
    "print(prediction[0][0].round(), prediction[0][1].round(), prediction[0][2].round())\n",
    "\n",
    "if prediction[0][0].round() == 1:\n",
    "    print(3)\n",
    "elif prediction[0][1].round() == 1:\n",
    "    print(1)\n",
    "elif prediction[0][2].round() == 1:\n",
    "    print(2)"
   ]
  },
  {
   "cell_type": "code",
   "execution_count": 89,
   "metadata": {},
   "outputs": [
    {
     "name": "stdout",
     "output_type": "stream",
     "text": [
      "(1, 963)\n",
      "1/1 [==============================] - 0s 163ms/step\n",
      "0.0 1.0 0.0\n",
      "0.028523419 0.9582282 0.012090694\n",
      "1\n"
     ]
    }
   ],
   "source": [
    "b = ['it is terrible']\n",
    "b = tk_review.texts_to_sequences(b)\n",
    "b = np.array(b)\n",
    "b = pad_sequences(b,padding='post',maxlen=max)\n",
    "print(b.shape)\n",
    "prediction = model.predict(np.array(b))\n",
    "print(prediction[0][0].round(), prediction[0][1].round(), prediction[0][2].round())\n",
    "\n",
    "print(prediction[0][0], prediction[0][1], prediction[0][2])\n",
    "\n",
    "if prediction[0][0].round() == 1:\n",
    "    print(3)\n",
    "elif prediction[0][1].round() == 1:\n",
    "    print(1)\n",
    "elif prediction[0][2].round() == 1:\n",
    "    print(2)"
   ]
  },
  {
   "cell_type": "code",
   "execution_count": 84,
   "metadata": {},
   "outputs": [
    {
     "name": "stdout",
     "output_type": "stream",
     "text": [
      "(1, 963)\n",
      "1/1 [==============================] - 0s 143ms/step\n",
      "1.0 0.0 0.0\n",
      "3\n"
     ]
    }
   ],
   "source": [
    "c = ['i ate it with great pleasure']\n",
    "c = tk_review.texts_to_sequences(c)\n",
    "c = np.array(c)\n",
    "c = pad_sequences(c,padding='post',maxlen=max)\n",
    "print(c.shape)\n",
    "prediction = model.predict(np.array(c))\n",
    "print(prediction[0][0].round(), prediction[0][1].round(), prediction[0][2].round())\n",
    "\n",
    "if prediction[0][0].round() == 1:\n",
    "    print(3)\n",
    "elif prediction[0][1].round() == 1:\n",
    "    print(1)\n",
    "elif prediction[0][2].round() == 1:\n",
    "    print(2)"
   ]
  },
  {
   "cell_type": "code",
   "execution_count": 90,
   "metadata": {},
   "outputs": [
    {
     "name": "stdout",
     "output_type": "stream",
     "text": [
      "(1, 963)\n",
      "1/1 [==============================] - 0s 122ms/step\n",
      "0.0 1.0 0.0\n",
      "1\n"
     ]
    }
   ],
   "source": [
    "d = ['i dislike how bad the sofa feels']\n",
    "d = tk_review.texts_to_sequences(d)\n",
    "d = np.array(d)\n",
    "d = pad_sequences(d,padding='post',maxlen=max)\n",
    "print(d.shape)\n",
    "prediction = model.predict(np.array(d))\n",
    "print(prediction[0][0].round(), prediction[0][1].round(), prediction[0][2].round())\n",
    "\n",
    "if prediction[0][0].round() == 1:\n",
    "    print(3)\n",
    "elif prediction[0][1].round() == 1:\n",
    "    print(1)\n",
    "elif prediction[0][2].round() == 1:\n",
    "    print(2)"
   ]
  },
  {
   "cell_type": "markdown",
   "metadata": {},
   "source": [
    "### **7. Exporting model** ###"
   ]
  },
  {
   "cell_type": "code",
   "execution_count": 79,
   "metadata": {},
   "outputs": [],
   "source": [
    "model.save('Sentiment_analysis_Drug_test.h5')"
   ]
  },
  {
   "cell_type": "markdown",
   "metadata": {},
   "source": [
    "### **8. Model Indormation** ###"
   ]
  },
  {
   "cell_type": "code",
   "execution_count": 80,
   "metadata": {},
   "outputs": [
    {
     "name": "stdout",
     "output_type": "stream",
     "text": [
      "Accuracy: 0.829446\n",
      "Precision: 0.905213\n",
      "Recall: 0.800334\n",
      "F1 score: 0.849549\n",
      "[[18706  2711]\n",
      " [ 6459 25890]]\n"
     ]
    }
   ],
   "source": [
    "# x_test_dummy = tk_review.texts_to_sequences(x_test)\n",
    "# x_test_dummy = np.array(x_test_dummy)\n",
    "# x_test_dummy = pad_sequences(x_test_dummy,padding='post',maxlen=max)\n",
    "\n",
    "from sklearn.metrics import accuracy_score\n",
    "from sklearn.metrics import precision_score\n",
    "from sklearn.metrics import recall_score\n",
    "from sklearn.metrics import f1_score\n",
    "from sklearn.metrics import confusion_matrix\n",
    "\n",
    "# Predict probabilities for test set\n",
    "# yhat_probs = model.predict(x_test_dummy, verbose=0)\n",
    "yhat_probs = model.predict(x_test, verbose=0)\n",
    "yhat_probs\n",
    "\n",
    "yhat_classes = yhat_probs.round().astype(int)\n",
    "yhat_classes\n",
    "\n",
    "yhat_test = y_test\n",
    "\n",
    "# Reduce to 1d array\n",
    "yhat_test = yhat_test[:, 0]\n",
    "yhat_classes = yhat_classes[:, 0]\n",
    "\n",
    "# Accuracy: (tp + tn) / (p + n)\n",
    "accuracy = accuracy_score(yhat_test, yhat_classes)\n",
    "print('Accuracy: %f' % accuracy)\n",
    "\n",
    "# Precision tp / (tp + fp)\n",
    "precision = precision_score(yhat_test, yhat_classes)\n",
    "print('Precision: %f' % precision)\n",
    "\n",
    "# Recall: tp / (tp + fn)\n",
    "recall = recall_score(yhat_test, yhat_classes)\n",
    "print('Recall: %f' % recall)\n",
    "\n",
    "# F1 Score: 2 tp / (2 tp + fp + fn)\n",
    "f1 = f1_score(yhat_test, yhat_classes)\n",
    "print('F1 score: %f' % f1)\n",
    "\n",
    "# Confusion matrix\n",
    "matrix = confusion_matrix(yhat_test, yhat_classes)\n",
    "print(matrix)"
   ]
  },
  {
   "cell_type": "code",
   "execution_count": null,
   "metadata": {},
   "outputs": [],
   "source": []
  }
 ],
 "metadata": {
  "accelerator": "GPU",
  "colab": {
   "collapsed_sections": [
    "6FXkKERRhANT"
   ],
   "provenance": []
  },
  "gpuClass": "standard",
  "kernelspec": {
   "display_name": "Python 3 (ipykernel)",
   "language": "python",
   "name": "python3"
  },
  "language_info": {
   "codemirror_mode": {
    "name": "ipython",
    "version": 3
   },
   "file_extension": ".py",
   "mimetype": "text/x-python",
   "name": "python",
   "nbconvert_exporter": "python",
   "pygments_lexer": "ipython3",
   "version": "3.9.13"
  }
 },
 "nbformat": 4,
 "nbformat_minor": 1
}
