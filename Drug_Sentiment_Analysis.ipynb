{
 "cells": [
  {
   "cell_type": "markdown",
   "metadata": {
    "id": "6FXkKERRhANT"
   },
   "source": [
    "### **1. Importing dataset and libraries** ###"
   ]
  },
  {
   "cell_type": "code",
   "execution_count": 1,
   "metadata": {
    "colab": {
     "base_uri": "https://localhost:8080/"
    },
    "id": "bxC1IgunYAGc",
    "outputId": "b26b7f6b-956d-46a3-eeb6-68e0b8b2da2e"
   },
   "outputs": [],
   "source": [
    "# from google.colab import drive\n",
    "# drive.mount ('/content/drive')"
   ]
  },
  {
   "cell_type": "code",
   "execution_count": 3,
   "metadata": {
    "colab": {
     "base_uri": "https://localhost:8080/",
     "height": 0
    },
    "id": "fdEz-MA2YZwj",
    "outputId": "424229e8-5b2f-409a-b925-0207dec539c0"
   },
   "outputs": [
    {
     "data": {
      "text/html": [
       "<div>\n",
       "<style scoped>\n",
       "    .dataframe tbody tr th:only-of-type {\n",
       "        vertical-align: middle;\n",
       "    }\n",
       "\n",
       "    .dataframe tbody tr th {\n",
       "        vertical-align: top;\n",
       "    }\n",
       "\n",
       "    .dataframe thead th {\n",
       "        text-align: right;\n",
       "    }\n",
       "</style>\n",
       "<table border=\"1\" class=\"dataframe\">\n",
       "  <thead>\n",
       "    <tr style=\"text-align: right;\">\n",
       "      <th></th>\n",
       "      <th>uniqueID</th>\n",
       "      <th>drugName</th>\n",
       "      <th>condition</th>\n",
       "      <th>review</th>\n",
       "      <th>rating</th>\n",
       "      <th>date</th>\n",
       "      <th>usefulCount</th>\n",
       "    </tr>\n",
       "  </thead>\n",
       "  <tbody>\n",
       "    <tr>\n",
       "      <th>0</th>\n",
       "      <td>102654</td>\n",
       "      <td>Aripiprazole</td>\n",
       "      <td>Bipolar Disorde</td>\n",
       "      <td>\"Abilify changed my life. There is hope. I was...</td>\n",
       "      <td>3</td>\n",
       "      <td>2015-03-14</td>\n",
       "      <td>32</td>\n",
       "    </tr>\n",
       "    <tr>\n",
       "      <th>1</th>\n",
       "      <td>75612</td>\n",
       "      <td>L-methylfolate</td>\n",
       "      <td>Depression</td>\n",
       "      <td>\"I have taken anti-depressants for years, with...</td>\n",
       "      <td>3</td>\n",
       "      <td>2017-03-09</td>\n",
       "      <td>54</td>\n",
       "    </tr>\n",
       "    <tr>\n",
       "      <th>2</th>\n",
       "      <td>212077</td>\n",
       "      <td>Lamotrigine</td>\n",
       "      <td>Bipolar Disorde</td>\n",
       "      <td>\"I&amp;#039;ve been on every medicine under the su...</td>\n",
       "      <td>3</td>\n",
       "      <td>2014-11-09</td>\n",
       "      <td>18</td>\n",
       "    </tr>\n",
       "    <tr>\n",
       "      <th>3</th>\n",
       "      <td>119705</td>\n",
       "      <td>Nilotinib</td>\n",
       "      <td>Chronic Myelogenous Leukemia</td>\n",
       "      <td>\"I have been on Tasigna for just over 3 years ...</td>\n",
       "      <td>3</td>\n",
       "      <td>2015-09-01</td>\n",
       "      <td>11</td>\n",
       "    </tr>\n",
       "    <tr>\n",
       "      <th>4</th>\n",
       "      <td>231466</td>\n",
       "      <td>Trazodone</td>\n",
       "      <td>Insomnia</td>\n",
       "      <td>\"I have insomnia, it&amp;#039;s horrible. My story...</td>\n",
       "      <td>3</td>\n",
       "      <td>2016-04-03</td>\n",
       "      <td>43</td>\n",
       "    </tr>\n",
       "    <tr>\n",
       "      <th>5</th>\n",
       "      <td>41928</td>\n",
       "      <td>Etanercept</td>\n",
       "      <td>Rheumatoid Arthritis</td>\n",
       "      <td>\"I live in Western Australia and disturbed by ...</td>\n",
       "      <td>3</td>\n",
       "      <td>2017-09-16</td>\n",
       "      <td>4</td>\n",
       "    </tr>\n",
       "    <tr>\n",
       "      <th>6</th>\n",
       "      <td>206180</td>\n",
       "      <td>Eflornithine</td>\n",
       "      <td>Hirsutism</td>\n",
       "      <td>\"I&amp;#039;m writing a second review on Vaniqa.  ...</td>\n",
       "      <td>3</td>\n",
       "      <td>2014-05-11</td>\n",
       "      <td>99</td>\n",
       "    </tr>\n",
       "    <tr>\n",
       "      <th>7</th>\n",
       "      <td>78563</td>\n",
       "      <td>Daytrana</td>\n",
       "      <td>ADHD</td>\n",
       "      <td>\"Hi all, My son who is 12 was diagnosed when h...</td>\n",
       "      <td>3</td>\n",
       "      <td>2017-01-12</td>\n",
       "      <td>11</td>\n",
       "    </tr>\n",
       "    <tr>\n",
       "      <th>8</th>\n",
       "      <td>51452</td>\n",
       "      <td>Azithromycin</td>\n",
       "      <td>NaN</td>\n",
       "      <td>\"Very good response. It is so useful for me. \"</td>\n",
       "      <td>3</td>\n",
       "      <td>2010-08-18</td>\n",
       "      <td>1</td>\n",
       "    </tr>\n",
       "    <tr>\n",
       "      <th>9</th>\n",
       "      <td>204999</td>\n",
       "      <td>Toradol</td>\n",
       "      <td>Pain</td>\n",
       "      <td>\"I am 30 years old. I had a multiple composite...</td>\n",
       "      <td>3</td>\n",
       "      <td>2013-02-11</td>\n",
       "      <td>16</td>\n",
       "    </tr>\n",
       "  </tbody>\n",
       "</table>\n",
       "</div>"
      ],
      "text/plain": [
       "   uniqueID        drugName                     condition  \\\n",
       "0    102654    Aripiprazole               Bipolar Disorde   \n",
       "1     75612  L-methylfolate                    Depression   \n",
       "2    212077     Lamotrigine               Bipolar Disorde   \n",
       "3    119705       Nilotinib  Chronic Myelogenous Leukemia   \n",
       "4    231466       Trazodone                      Insomnia   \n",
       "5     41928      Etanercept          Rheumatoid Arthritis   \n",
       "6    206180    Eflornithine                     Hirsutism   \n",
       "7     78563        Daytrana                          ADHD   \n",
       "8     51452    Azithromycin                           NaN   \n",
       "9    204999         Toradol                          Pain   \n",
       "\n",
       "                                              review  rating       date  \\\n",
       "0  \"Abilify changed my life. There is hope. I was...       3 2015-03-14   \n",
       "1  \"I have taken anti-depressants for years, with...       3 2017-03-09   \n",
       "2  \"I&#039;ve been on every medicine under the su...       3 2014-11-09   \n",
       "3  \"I have been on Tasigna for just over 3 years ...       3 2015-09-01   \n",
       "4  \"I have insomnia, it&#039;s horrible. My story...       3 2016-04-03   \n",
       "5  \"I live in Western Australia and disturbed by ...       3 2017-09-16   \n",
       "6  \"I&#039;m writing a second review on Vaniqa.  ...       3 2014-05-11   \n",
       "7  \"Hi all, My son who is 12 was diagnosed when h...       3 2017-01-12   \n",
       "8     \"Very good response. It is so useful for me. \"       3 2010-08-18   \n",
       "9  \"I am 30 years old. I had a multiple composite...       3 2013-02-11   \n",
       "\n",
       "   usefulCount  \n",
       "0           32  \n",
       "1           54  \n",
       "2           18  \n",
       "3           11  \n",
       "4           43  \n",
       "5            4  \n",
       "6           99  \n",
       "7           11  \n",
       "8            1  \n",
       "9           16  "
      ]
     },
     "execution_count": 3,
     "metadata": {},
     "output_type": "execute_result"
    }
   ],
   "source": [
    "import pandas as pd\n",
    "# path = \"/content/drive/MyDrive/Drug Test - Deep Learning/drug-train new 2-8.xlsx\"\n",
    "path = \"drug-train new 2-8.xlsx\"\n",
    "df_train = pd.read_excel(path)\n",
    "df_train.head(10)"
   ]
  },
  {
   "cell_type": "code",
   "execution_count": 4,
   "metadata": {
    "colab": {
     "base_uri": "https://localhost:8080/",
     "height": 0
    },
    "id": "0C_C8Ljd1zQh",
    "outputId": "f02b29cf-657b-415b-f1e0-a4bfab9a6007"
   },
   "outputs": [
    {
     "data": {
      "text/html": [
       "<div>\n",
       "<style scoped>\n",
       "    .dataframe tbody tr th:only-of-type {\n",
       "        vertical-align: middle;\n",
       "    }\n",
       "\n",
       "    .dataframe tbody tr th {\n",
       "        vertical-align: top;\n",
       "    }\n",
       "\n",
       "    .dataframe thead th {\n",
       "        text-align: right;\n",
       "    }\n",
       "</style>\n",
       "<table border=\"1\" class=\"dataframe\">\n",
       "  <thead>\n",
       "    <tr style=\"text-align: right;\">\n",
       "      <th></th>\n",
       "      <th>uniqueID</th>\n",
       "      <th>drugName</th>\n",
       "      <th>condition</th>\n",
       "      <th>review</th>\n",
       "      <th>rating</th>\n",
       "      <th>date</th>\n",
       "      <th>usefulCount</th>\n",
       "    </tr>\n",
       "  </thead>\n",
       "  <tbody>\n",
       "    <tr>\n",
       "      <th>0</th>\n",
       "      <td>163740</td>\n",
       "      <td>Mirtazapine</td>\n",
       "      <td>Depression</td>\n",
       "      <td>\"I&amp;#039;ve tried a few antidepressants over th...</td>\n",
       "      <td>3</td>\n",
       "      <td>2012-02-28</td>\n",
       "      <td>22</td>\n",
       "    </tr>\n",
       "    <tr>\n",
       "      <th>1</th>\n",
       "      <td>206473</td>\n",
       "      <td>Mesalamine</td>\n",
       "      <td>Crohn's Disease, Maintenance</td>\n",
       "      <td>\"My son has Crohn&amp;#039;s disease and has done ...</td>\n",
       "      <td>3</td>\n",
       "      <td>2009-05-17</td>\n",
       "      <td>17</td>\n",
       "    </tr>\n",
       "    <tr>\n",
       "      <th>2</th>\n",
       "      <td>159672</td>\n",
       "      <td>Bactrim</td>\n",
       "      <td>Urinary Tract Infection</td>\n",
       "      <td>\"Quick reduction of symptoms\"</td>\n",
       "      <td>3</td>\n",
       "      <td>2017-09-29</td>\n",
       "      <td>3</td>\n",
       "    </tr>\n",
       "    <tr>\n",
       "      <th>3</th>\n",
       "      <td>39293</td>\n",
       "      <td>Contrave</td>\n",
       "      <td>Weight Loss</td>\n",
       "      <td>\"Contrave combines drugs that were used for al...</td>\n",
       "      <td>3</td>\n",
       "      <td>2017-03-05</td>\n",
       "      <td>35</td>\n",
       "    </tr>\n",
       "    <tr>\n",
       "      <th>4</th>\n",
       "      <td>97768</td>\n",
       "      <td>Cyclafem 1 / 35</td>\n",
       "      <td>Birth Control</td>\n",
       "      <td>\"I have been on this birth control for one cyc...</td>\n",
       "      <td>3</td>\n",
       "      <td>2015-10-22</td>\n",
       "      <td>4</td>\n",
       "    </tr>\n",
       "    <tr>\n",
       "      <th>5</th>\n",
       "      <td>208087</td>\n",
       "      <td>Zyclara</td>\n",
       "      <td>Keratosis</td>\n",
       "      <td>\"4 days in on first 2 weeks.  Using on arms an...</td>\n",
       "      <td>2</td>\n",
       "      <td>2014-07-03</td>\n",
       "      <td>13</td>\n",
       "    </tr>\n",
       "    <tr>\n",
       "      <th>6</th>\n",
       "      <td>215892</td>\n",
       "      <td>Copper</td>\n",
       "      <td>Birth Control</td>\n",
       "      <td>\"I&amp;#039;ve had the copper coil for about 3 mon...</td>\n",
       "      <td>2</td>\n",
       "      <td>2016-06-06</td>\n",
       "      <td>1</td>\n",
       "    </tr>\n",
       "    <tr>\n",
       "      <th>7</th>\n",
       "      <td>169852</td>\n",
       "      <td>Amitriptyline</td>\n",
       "      <td>Migraine Prevention</td>\n",
       "      <td>\"This has been great for me. I&amp;#039;ve been on...</td>\n",
       "      <td>3</td>\n",
       "      <td>2009-04-21</td>\n",
       "      <td>32</td>\n",
       "    </tr>\n",
       "    <tr>\n",
       "      <th>8</th>\n",
       "      <td>23295</td>\n",
       "      <td>Methadone</td>\n",
       "      <td>Opiate Withdrawal</td>\n",
       "      <td>\"Ive been on Methadone for over ten years and ...</td>\n",
       "      <td>2</td>\n",
       "      <td>2016-10-18</td>\n",
       "      <td>21</td>\n",
       "    </tr>\n",
       "    <tr>\n",
       "      <th>9</th>\n",
       "      <td>71428</td>\n",
       "      <td>Levora</td>\n",
       "      <td>Birth Control</td>\n",
       "      <td>\"I was on this pill for almost two years. It d...</td>\n",
       "      <td>1</td>\n",
       "      <td>2011-04-16</td>\n",
       "      <td>3</td>\n",
       "    </tr>\n",
       "  </tbody>\n",
       "</table>\n",
       "</div>"
      ],
      "text/plain": [
       "   uniqueID         drugName                     condition  \\\n",
       "0    163740      Mirtazapine                    Depression   \n",
       "1    206473       Mesalamine  Crohn's Disease, Maintenance   \n",
       "2    159672          Bactrim       Urinary Tract Infection   \n",
       "3     39293         Contrave                   Weight Loss   \n",
       "4     97768  Cyclafem 1 / 35                 Birth Control   \n",
       "5    208087          Zyclara                     Keratosis   \n",
       "6    215892           Copper                 Birth Control   \n",
       "7    169852    Amitriptyline           Migraine Prevention   \n",
       "8     23295        Methadone             Opiate Withdrawal   \n",
       "9     71428           Levora                 Birth Control   \n",
       "\n",
       "                                              review  rating       date  \\\n",
       "0  \"I&#039;ve tried a few antidepressants over th...       3 2012-02-28   \n",
       "1  \"My son has Crohn&#039;s disease and has done ...       3 2009-05-17   \n",
       "2                      \"Quick reduction of symptoms\"       3 2017-09-29   \n",
       "3  \"Contrave combines drugs that were used for al...       3 2017-03-05   \n",
       "4  \"I have been on this birth control for one cyc...       3 2015-10-22   \n",
       "5  \"4 days in on first 2 weeks.  Using on arms an...       2 2014-07-03   \n",
       "6  \"I&#039;ve had the copper coil for about 3 mon...       2 2016-06-06   \n",
       "7  \"This has been great for me. I&#039;ve been on...       3 2009-04-21   \n",
       "8  \"Ive been on Methadone for over ten years and ...       2 2016-10-18   \n",
       "9  \"I was on this pill for almost two years. It d...       1 2011-04-16   \n",
       "\n",
       "   usefulCount  \n",
       "0           22  \n",
       "1           17  \n",
       "2            3  \n",
       "3           35  \n",
       "4            4  \n",
       "5           13  \n",
       "6            1  \n",
       "7           32  \n",
       "8           21  \n",
       "9            3  "
      ]
     },
     "execution_count": 4,
     "metadata": {},
     "output_type": "execute_result"
    }
   ],
   "source": [
    "# path = \"/content/drive/MyDrive/Drug Test - Deep Learning/drug-test new 2-8.xlsx\"\n",
    "path = \"drug-test new 2-8.xlsx\"\n",
    "df_test = pd.read_excel(path)\n",
    "df_test.head(10)"
   ]
  },
  {
   "cell_type": "code",
   "execution_count": 6,
   "metadata": {
    "colab": {
     "base_uri": "https://localhost:8080/"
    },
    "id": "7sh-Y2IiY90Z",
    "outputId": "8a6fc343-9103-4ee4-c678-a7a1535e1ab2"
   },
   "outputs": [
    {
     "name": "stderr",
     "output_type": "stream",
     "text": [
      "[nltk_data] Downloading package punkt to\n",
      "[nltk_data]     C:\\Users\\tarpa\\AppData\\Roaming\\nltk_data...\n",
      "[nltk_data]   Unzipping tokenizers\\punkt.zip.\n",
      "[nltk_data] Downloading package stopwords to\n",
      "[nltk_data]     C:\\Users\\tarpa\\AppData\\Roaming\\nltk_data...\n",
      "[nltk_data]   Unzipping corpora\\stopwords.zip.\n",
      "[nltk_data] Downloading package wordnet to\n",
      "[nltk_data]     C:\\Users\\tarpa\\AppData\\Roaming\\nltk_data...\n"
     ]
    }
   ],
   "source": [
    "# Preprocessing packages\n",
    "import re\n",
    "import string\n",
    "import nltk\n",
    "from nltk.corpus import stopwords\n",
    "from nltk.tokenize import word_tokenize\n",
    "from nltk.stem import PorterStemmer\n",
    "from nltk.stem import WordNetLemmatizer\n",
    "import matplotlib.pyplot as plt\n",
    "import seaborn as sns\n",
    "nltk.download('punkt')\n",
    "nltk.download('stopwords')\n",
    "nltk.download('wordnet')\n",
    "from nltk.corpus import stopwords\n",
    "stopwords = stopwords.words('english')"
   ]
  },
  {
   "cell_type": "markdown",
   "metadata": {
    "id": "TWgyb5z8hR9R"
   },
   "source": [
    "### **2. Understanding the data** ###"
   ]
  },
  {
   "cell_type": "markdown",
   "metadata": {
    "id": "EOHUq5Zc27d1"
   },
   "source": [
    "#### **2.1. Training data** ####"
   ]
  },
  {
   "cell_type": "code",
   "execution_count": 7,
   "metadata": {
    "colab": {
     "base_uri": "https://localhost:8080/",
     "height": 0
    },
    "id": "r2-_84U7ZjLy",
    "outputId": "41bc11db-2514-43a1-f8d7-66f6217122c4"
   },
   "outputs": [
    {
     "data": {
      "text/html": [
       "<div>\n",
       "<style scoped>\n",
       "    .dataframe tbody tr th:only-of-type {\n",
       "        vertical-align: middle;\n",
       "    }\n",
       "\n",
       "    .dataframe tbody tr th {\n",
       "        vertical-align: top;\n",
       "    }\n",
       "\n",
       "    .dataframe thead th {\n",
       "        text-align: right;\n",
       "    }\n",
       "</style>\n",
       "<table border=\"1\" class=\"dataframe\">\n",
       "  <thead>\n",
       "    <tr style=\"text-align: right;\">\n",
       "      <th></th>\n",
       "      <th>uniqueID</th>\n",
       "      <th>drugName</th>\n",
       "      <th>condition</th>\n",
       "      <th>review</th>\n",
       "      <th>rating</th>\n",
       "      <th>date</th>\n",
       "      <th>usefulCount</th>\n",
       "    </tr>\n",
       "  </thead>\n",
       "  <tbody>\n",
       "    <tr>\n",
       "      <th>0</th>\n",
       "      <td>102654</td>\n",
       "      <td>Aripiprazole</td>\n",
       "      <td>Bipolar Disorde</td>\n",
       "      <td>\"Abilify changed my life. There is hope. I was...</td>\n",
       "      <td>3</td>\n",
       "      <td>2015-03-14</td>\n",
       "      <td>32</td>\n",
       "    </tr>\n",
       "    <tr>\n",
       "      <th>1</th>\n",
       "      <td>75612</td>\n",
       "      <td>L-methylfolate</td>\n",
       "      <td>Depression</td>\n",
       "      <td>\"I have taken anti-depressants for years, with...</td>\n",
       "      <td>3</td>\n",
       "      <td>2017-03-09</td>\n",
       "      <td>54</td>\n",
       "    </tr>\n",
       "    <tr>\n",
       "      <th>2</th>\n",
       "      <td>212077</td>\n",
       "      <td>Lamotrigine</td>\n",
       "      <td>Bipolar Disorde</td>\n",
       "      <td>\"I&amp;#039;ve been on every medicine under the su...</td>\n",
       "      <td>3</td>\n",
       "      <td>2014-11-09</td>\n",
       "      <td>18</td>\n",
       "    </tr>\n",
       "    <tr>\n",
       "      <th>3</th>\n",
       "      <td>119705</td>\n",
       "      <td>Nilotinib</td>\n",
       "      <td>Chronic Myelogenous Leukemia</td>\n",
       "      <td>\"I have been on Tasigna for just over 3 years ...</td>\n",
       "      <td>3</td>\n",
       "      <td>2015-09-01</td>\n",
       "      <td>11</td>\n",
       "    </tr>\n",
       "    <tr>\n",
       "      <th>4</th>\n",
       "      <td>231466</td>\n",
       "      <td>Trazodone</td>\n",
       "      <td>Insomnia</td>\n",
       "      <td>\"I have insomnia, it&amp;#039;s horrible. My story...</td>\n",
       "      <td>3</td>\n",
       "      <td>2016-04-03</td>\n",
       "      <td>43</td>\n",
       "    </tr>\n",
       "  </tbody>\n",
       "</table>\n",
       "</div>"
      ],
      "text/plain": [
       "   uniqueID        drugName                     condition  \\\n",
       "0    102654    Aripiprazole               Bipolar Disorde   \n",
       "1     75612  L-methylfolate                    Depression   \n",
       "2    212077     Lamotrigine               Bipolar Disorde   \n",
       "3    119705       Nilotinib  Chronic Myelogenous Leukemia   \n",
       "4    231466       Trazodone                      Insomnia   \n",
       "\n",
       "                                              review  rating       date  \\\n",
       "0  \"Abilify changed my life. There is hope. I was...       3 2015-03-14   \n",
       "1  \"I have taken anti-depressants for years, with...       3 2017-03-09   \n",
       "2  \"I&#039;ve been on every medicine under the su...       3 2014-11-09   \n",
       "3  \"I have been on Tasigna for just over 3 years ...       3 2015-09-01   \n",
       "4  \"I have insomnia, it&#039;s horrible. My story...       3 2016-04-03   \n",
       "\n",
       "   usefulCount  \n",
       "0           32  \n",
       "1           54  \n",
       "2           18  \n",
       "3           11  \n",
       "4           43  "
      ]
     },
     "execution_count": 7,
     "metadata": {},
     "output_type": "execute_result"
    }
   ],
   "source": [
    "df_train.head()"
   ]
  },
  {
   "cell_type": "code",
   "execution_count": 8,
   "metadata": {
    "colab": {
     "base_uri": "https://localhost:8080/",
     "height": 0
    },
    "id": "cQhQREmnZmqj",
    "outputId": "8f692081-e220-4521-b756-ceeece533065"
   },
   "outputs": [
    {
     "data": {
      "text/html": [
       "<div>\n",
       "<style scoped>\n",
       "    .dataframe tbody tr th:only-of-type {\n",
       "        vertical-align: middle;\n",
       "    }\n",
       "\n",
       "    .dataframe tbody tr th {\n",
       "        vertical-align: top;\n",
       "    }\n",
       "\n",
       "    .dataframe thead th {\n",
       "        text-align: right;\n",
       "    }\n",
       "</style>\n",
       "<table border=\"1\" class=\"dataframe\">\n",
       "  <thead>\n",
       "    <tr style=\"text-align: right;\">\n",
       "      <th></th>\n",
       "      <th>review</th>\n",
       "      <th>rating</th>\n",
       "    </tr>\n",
       "  </thead>\n",
       "  <tbody>\n",
       "    <tr>\n",
       "      <th>0</th>\n",
       "      <td>\"Abilify changed my life. There is hope. I was...</td>\n",
       "      <td>3</td>\n",
       "    </tr>\n",
       "  </tbody>\n",
       "</table>\n",
       "</div>"
      ],
      "text/plain": [
       "                                              review  rating\n",
       "0  \"Abilify changed my life. There is hope. I was...       3"
      ]
     },
     "execution_count": 8,
     "metadata": {},
     "output_type": "execute_result"
    }
   ],
   "source": [
    "df_train = df_train[['review','rating']]\n",
    "df_train.head(1)"
   ]
  },
  {
   "cell_type": "code",
   "execution_count": 9,
   "metadata": {
    "colab": {
     "base_uri": "https://localhost:8080/",
     "height": 0
    },
    "id": "lP6zWVWpZ55i",
    "outputId": "5db2329e-91b0-4894-ac6d-8851c8443bd1"
   },
   "outputs": [
    {
     "data": {
      "text/html": [
       "<div>\n",
       "<style scoped>\n",
       "    .dataframe tbody tr th:only-of-type {\n",
       "        vertical-align: middle;\n",
       "    }\n",
       "\n",
       "    .dataframe tbody tr th {\n",
       "        vertical-align: top;\n",
       "    }\n",
       "\n",
       "    .dataframe thead th {\n",
       "        text-align: right;\n",
       "    }\n",
       "</style>\n",
       "<table border=\"1\" class=\"dataframe\">\n",
       "  <thead>\n",
       "    <tr style=\"text-align: right;\">\n",
       "      <th></th>\n",
       "      <th>rating</th>\n",
       "    </tr>\n",
       "  </thead>\n",
       "  <tbody>\n",
       "    <tr>\n",
       "      <th>count</th>\n",
       "      <td>161297.000000</td>\n",
       "    </tr>\n",
       "    <tr>\n",
       "      <th>mean</th>\n",
       "      <td>2.386535</td>\n",
       "    </tr>\n",
       "    <tr>\n",
       "      <th>std</th>\n",
       "      <td>0.819691</td>\n",
       "    </tr>\n",
       "    <tr>\n",
       "      <th>min</th>\n",
       "      <td>1.000000</td>\n",
       "    </tr>\n",
       "    <tr>\n",
       "      <th>25%</th>\n",
       "      <td>2.000000</td>\n",
       "    </tr>\n",
       "    <tr>\n",
       "      <th>50%</th>\n",
       "      <td>3.000000</td>\n",
       "    </tr>\n",
       "    <tr>\n",
       "      <th>75%</th>\n",
       "      <td>3.000000</td>\n",
       "    </tr>\n",
       "    <tr>\n",
       "      <th>max</th>\n",
       "      <td>3.000000</td>\n",
       "    </tr>\n",
       "  </tbody>\n",
       "</table>\n",
       "</div>"
      ],
      "text/plain": [
       "              rating\n",
       "count  161297.000000\n",
       "mean        2.386535\n",
       "std         0.819691\n",
       "min         1.000000\n",
       "25%         2.000000\n",
       "50%         3.000000\n",
       "75%         3.000000\n",
       "max         3.000000"
      ]
     },
     "execution_count": 9,
     "metadata": {},
     "output_type": "execute_result"
    }
   ],
   "source": [
    "df_train.describe()"
   ]
  },
  {
   "cell_type": "code",
   "execution_count": 10,
   "metadata": {
    "colab": {
     "base_uri": "https://localhost:8080/"
    },
    "id": "J6ivClvAaLNE",
    "outputId": "75bced24-93aa-404e-e995-d65fc1463a05"
   },
   "outputs": [
    {
     "data": {
      "text/plain": [
       "array([3, 2, 1], dtype=int64)"
      ]
     },
     "execution_count": 10,
     "metadata": {},
     "output_type": "execute_result"
    }
   ],
   "source": [
    "df_train['rating'].unique()"
   ]
  },
  {
   "cell_type": "code",
   "execution_count": 11,
   "metadata": {
    "colab": {
     "base_uri": "https://localhost:8080/"
    },
    "id": "6GIPkCJyvjRs",
    "outputId": "10fb7ee1-0613-41f3-9835-aa024cd01d8d"
   },
   "outputs": [
    {
     "name": "stdout",
     "output_type": "stream",
     "text": [
      "review    97410\n",
      "rating    97410\n",
      "dtype: int64\n",
      "review    28824\n",
      "rating    28824\n",
      "dtype: int64\n",
      "review    35063\n",
      "rating    35063\n",
      "dtype: int64\n"
     ]
    }
   ],
   "source": [
    "print(df_train[df_train['rating'] == 3].count())\n",
    "print(df_train[df_train['rating'] == 2].count())\n",
    "print(df_train[df_train['rating'] == 1].count())"
   ]
  },
  {
   "cell_type": "code",
   "execution_count": 12,
   "metadata": {
    "colab": {
     "base_uri": "https://localhost:8080/",
     "height": 0
    },
    "id": "9hAk9hDHaWBp",
    "outputId": "ed37a107-22ea-4001-e9db-c3e42a9e838d"
   },
   "outputs": [
    {
     "data": {
      "text/plain": [
       "([<matplotlib.axis.XTick at 0x21df476b1c0>,\n",
       "  <matplotlib.axis.XTick at 0x21df476b190>,\n",
       "  <matplotlib.axis.XTick at 0x21df473adc0>],\n",
       " [Text(0, 0, '1'), Text(1, 0, '2'), Text(2, 0, '3')])"
      ]
     },
     "execution_count": 12,
     "metadata": {},
     "output_type": "execute_result"
    },
    {
     "data": {
      "image/png": "[encoded data removed]",
      "text/plain": [
       "<Figure size 640x480 with 1 Axes>"
      ]
     },
     "metadata": {},
     "output_type": "display_data"
    }
   ],
   "source": [
    "sns.countplot(data=df_train,x='rating')\n",
    "plt.xticks(ticks=[0,1,2],labels=['1','2','3'])"
   ]
  },
  {
   "cell_type": "code",
   "execution_count": 13,
   "metadata": {
    "id": "HcVgE1DecXuL"
   },
   "outputs": [],
   "source": [
    "X_train = df_train[['review']]\n",
    "Y_train = df_train[['rating']]"
   ]
  },
  {
   "cell_type": "markdown",
   "metadata": {
    "id": "GTwfeI3FheJI"
   },
   "source": [
    "*NOTE: The data is highly imbalanced. We need to convert the texts into vectors and balance it accordingly.*"
   ]
  },
  {
   "cell_type": "code",
   "execution_count": 14,
   "metadata": {
    "colab": {
     "base_uri": "https://localhost:8080/",
     "height": 0
    },
    "id": "cIfqrZ32NG_7",
    "outputId": "dffcdb2e-57b4-4588-e475-d6f86cf6cfc7"
   },
   "outputs": [
    {
     "data": {
      "text/html": [
       "<div>\n",
       "<style scoped>\n",
       "    .dataframe tbody tr th:only-of-type {\n",
       "        vertical-align: middle;\n",
       "    }\n",
       "\n",
       "    .dataframe tbody tr th {\n",
       "        vertical-align: top;\n",
       "    }\n",
       "\n",
       "    .dataframe thead th {\n",
       "        text-align: right;\n",
       "    }\n",
       "</style>\n",
       "<table border=\"1\" class=\"dataframe\">\n",
       "  <thead>\n",
       "    <tr style=\"text-align: right;\">\n",
       "      <th></th>\n",
       "      <th>review</th>\n",
       "    </tr>\n",
       "  </thead>\n",
       "  <tbody>\n",
       "    <tr>\n",
       "      <th>count</th>\n",
       "      <td>161297</td>\n",
       "    </tr>\n",
       "    <tr>\n",
       "      <th>unique</th>\n",
       "      <td>112329</td>\n",
       "    </tr>\n",
       "    <tr>\n",
       "      <th>top</th>\n",
       "      <td>\"Good\"</td>\n",
       "    </tr>\n",
       "    <tr>\n",
       "      <th>freq</th>\n",
       "      <td>33</td>\n",
       "    </tr>\n",
       "  </tbody>\n",
       "</table>\n",
       "</div>"
      ],
      "text/plain": [
       "        review\n",
       "count   161297\n",
       "unique  112329\n",
       "top     \"Good\"\n",
       "freq        33"
      ]
     },
     "execution_count": 14,
     "metadata": {},
     "output_type": "execute_result"
    }
   ],
   "source": [
    "X_train.describe()"
   ]
  },
  {
   "cell_type": "markdown",
   "metadata": {
    "id": "mKEvbb2f2Kxg"
   },
   "source": [
    "#### **2.2. Testing data** ####"
   ]
  },
  {
   "cell_type": "code",
   "execution_count": 15,
   "metadata": {
    "colab": {
     "base_uri": "https://localhost:8080/",
     "height": 0
    },
    "id": "pxnDPleC2Kxl",
    "outputId": "52b95d13-7daf-4c8e-8072-0e20982febb3"
   },
   "outputs": [
    {
     "data": {
      "text/html": [
       "<div>\n",
       "<style scoped>\n",
       "    .dataframe tbody tr th:only-of-type {\n",
       "        vertical-align: middle;\n",
       "    }\n",
       "\n",
       "    .dataframe tbody tr th {\n",
       "        vertical-align: top;\n",
       "    }\n",
       "\n",
       "    .dataframe thead th {\n",
       "        text-align: right;\n",
       "    }\n",
       "</style>\n",
       "<table border=\"1\" class=\"dataframe\">\n",
       "  <thead>\n",
       "    <tr style=\"text-align: right;\">\n",
       "      <th></th>\n",
       "      <th>uniqueID</th>\n",
       "      <th>drugName</th>\n",
       "      <th>condition</th>\n",
       "      <th>review</th>\n",
       "      <th>rating</th>\n",
       "      <th>date</th>\n",
       "      <th>usefulCount</th>\n",
       "    </tr>\n",
       "  </thead>\n",
       "  <tbody>\n",
       "    <tr>\n",
       "      <th>0</th>\n",
       "      <td>163740</td>\n",
       "      <td>Mirtazapine</td>\n",
       "      <td>Depression</td>\n",
       "      <td>\"I&amp;#039;ve tried a few antidepressants over th...</td>\n",
       "      <td>3</td>\n",
       "      <td>2012-02-28</td>\n",
       "      <td>22</td>\n",
       "    </tr>\n",
       "    <tr>\n",
       "      <th>1</th>\n",
       "      <td>206473</td>\n",
       "      <td>Mesalamine</td>\n",
       "      <td>Crohn's Disease, Maintenance</td>\n",
       "      <td>\"My son has Crohn&amp;#039;s disease and has done ...</td>\n",
       "      <td>3</td>\n",
       "      <td>2009-05-17</td>\n",
       "      <td>17</td>\n",
       "    </tr>\n",
       "    <tr>\n",
       "      <th>2</th>\n",
       "      <td>159672</td>\n",
       "      <td>Bactrim</td>\n",
       "      <td>Urinary Tract Infection</td>\n",
       "      <td>\"Quick reduction of symptoms\"</td>\n",
       "      <td>3</td>\n",
       "      <td>2017-09-29</td>\n",
       "      <td>3</td>\n",
       "    </tr>\n",
       "    <tr>\n",
       "      <th>3</th>\n",
       "      <td>39293</td>\n",
       "      <td>Contrave</td>\n",
       "      <td>Weight Loss</td>\n",
       "      <td>\"Contrave combines drugs that were used for al...</td>\n",
       "      <td>3</td>\n",
       "      <td>2017-03-05</td>\n",
       "      <td>35</td>\n",
       "    </tr>\n",
       "    <tr>\n",
       "      <th>4</th>\n",
       "      <td>97768</td>\n",
       "      <td>Cyclafem 1 / 35</td>\n",
       "      <td>Birth Control</td>\n",
       "      <td>\"I have been on this birth control for one cyc...</td>\n",
       "      <td>3</td>\n",
       "      <td>2015-10-22</td>\n",
       "      <td>4</td>\n",
       "    </tr>\n",
       "  </tbody>\n",
       "</table>\n",
       "</div>"
      ],
      "text/plain": [
       "   uniqueID         drugName                     condition  \\\n",
       "0    163740      Mirtazapine                    Depression   \n",
       "1    206473       Mesalamine  Crohn's Disease, Maintenance   \n",
       "2    159672          Bactrim       Urinary Tract Infection   \n",
       "3     39293         Contrave                   Weight Loss   \n",
       "4     97768  Cyclafem 1 / 35                 Birth Control   \n",
       "\n",
       "                                              review  rating       date  \\\n",
       "0  \"I&#039;ve tried a few antidepressants over th...       3 2012-02-28   \n",
       "1  \"My son has Crohn&#039;s disease and has done ...       3 2009-05-17   \n",
       "2                      \"Quick reduction of symptoms\"       3 2017-09-29   \n",
       "3  \"Contrave combines drugs that were used for al...       3 2017-03-05   \n",
       "4  \"I have been on this birth control for one cyc...       3 2015-10-22   \n",
       "\n",
       "   usefulCount  \n",
       "0           22  \n",
       "1           17  \n",
       "2            3  \n",
       "3           35  \n",
       "4            4  "
      ]
     },
     "execution_count": 15,
     "metadata": {},
     "output_type": "execute_result"
    }
   ],
   "source": [
    "df_test.head()"
   ]
  },
  {
   "cell_type": "code",
   "execution_count": 16,
   "metadata": {
    "colab": {
     "base_uri": "https://localhost:8080/",
     "height": 0
    },
    "id": "unNol40k2Kxp",
    "outputId": "9eceb569-7adc-42e9-a75e-18cfd766ecc0"
   },
   "outputs": [
    {
     "data": {
      "text/html": [
       "<div>\n",
       "<style scoped>\n",
       "    .dataframe tbody tr th:only-of-type {\n",
       "        vertical-align: middle;\n",
       "    }\n",
       "\n",
       "    .dataframe tbody tr th {\n",
       "        vertical-align: top;\n",
       "    }\n",
       "\n",
       "    .dataframe thead th {\n",
       "        text-align: right;\n",
       "    }\n",
       "</style>\n",
       "<table border=\"1\" class=\"dataframe\">\n",
       "  <thead>\n",
       "    <tr style=\"text-align: right;\">\n",
       "      <th></th>\n",
       "      <th>review</th>\n",
       "      <th>rating</th>\n",
       "    </tr>\n",
       "  </thead>\n",
       "  <tbody>\n",
       "    <tr>\n",
       "      <th>0</th>\n",
       "      <td>\"I&amp;#039;ve tried a few antidepressants over th...</td>\n",
       "      <td>3</td>\n",
       "    </tr>\n",
       "  </tbody>\n",
       "</table>\n",
       "</div>"
      ],
      "text/plain": [
       "                                              review  rating\n",
       "0  \"I&#039;ve tried a few antidepressants over th...       3"
      ]
     },
     "execution_count": 16,
     "metadata": {},
     "output_type": "execute_result"
    }
   ],
   "source": [
    "df_test = df_test[['review','rating']]\n",
    "df_test.head(1)"
   ]
  },
  {
   "cell_type": "code",
   "execution_count": 17,
   "metadata": {
    "colab": {
     "base_uri": "https://localhost:8080/",
     "height": 0
    },
    "id": "kNSbRqo72Kxt",
    "outputId": "3d1553fb-680f-4577-f828-1054ab2922ec"
   },
   "outputs": [
    {
     "data": {
      "text/html": [
       "<div>\n",
       "<style scoped>\n",
       "    .dataframe tbody tr th:only-of-type {\n",
       "        vertical-align: middle;\n",
       "    }\n",
       "\n",
       "    .dataframe tbody tr th {\n",
       "        vertical-align: top;\n",
       "    }\n",
       "\n",
       "    .dataframe thead th {\n",
       "        text-align: right;\n",
       "    }\n",
       "</style>\n",
       "<table border=\"1\" class=\"dataframe\">\n",
       "  <thead>\n",
       "    <tr style=\"text-align: right;\">\n",
       "      <th></th>\n",
       "      <th>rating</th>\n",
       "    </tr>\n",
       "  </thead>\n",
       "  <tbody>\n",
       "    <tr>\n",
       "      <th>count</th>\n",
       "      <td>53766.000000</td>\n",
       "    </tr>\n",
       "    <tr>\n",
       "      <th>mean</th>\n",
       "      <td>2.381486</td>\n",
       "    </tr>\n",
       "    <tr>\n",
       "      <th>std</th>\n",
       "      <td>0.822387</td>\n",
       "    </tr>\n",
       "    <tr>\n",
       "      <th>min</th>\n",
       "      <td>1.000000</td>\n",
       "    </tr>\n",
       "    <tr>\n",
       "      <th>25%</th>\n",
       "      <td>2.000000</td>\n",
       "    </tr>\n",
       "    <tr>\n",
       "      <th>50%</th>\n",
       "      <td>3.000000</td>\n",
       "    </tr>\n",
       "    <tr>\n",
       "      <th>75%</th>\n",
       "      <td>3.000000</td>\n",
       "    </tr>\n",
       "    <tr>\n",
       "      <th>max</th>\n",
       "      <td>3.000000</td>\n",
       "    </tr>\n",
       "  </tbody>\n",
       "</table>\n",
       "</div>"
      ],
      "text/plain": [
       "             rating\n",
       "count  53766.000000\n",
       "mean       2.381486\n",
       "std        0.822387\n",
       "min        1.000000\n",
       "25%        2.000000\n",
       "50%        3.000000\n",
       "75%        3.000000\n",
       "max        3.000000"
      ]
     },
     "execution_count": 17,
     "metadata": {},
     "output_type": "execute_result"
    }
   ],
   "source": [
    "df_test.describe()"
   ]
  },
  {
   "cell_type": "code",
   "execution_count": 18,
   "metadata": {
    "colab": {
     "base_uri": "https://localhost:8080/"
    },
    "id": "J2ILHy982Kxw",
    "outputId": "b76b1a9a-2b49-4b64-ce22-e507c2c45c67"
   },
   "outputs": [
    {
     "data": {
      "text/plain": [
       "array([3, 2, 1], dtype=int64)"
      ]
     },
     "execution_count": 18,
     "metadata": {},
     "output_type": "execute_result"
    }
   ],
   "source": [
    "df_test['rating'].unique()"
   ]
  },
  {
   "cell_type": "code",
   "execution_count": 19,
   "metadata": {
    "colab": {
     "base_uri": "https://localhost:8080/"
    },
    "id": "pmsjtLyv2Kx0",
    "outputId": "5c2a03cb-3ba0-4825-edf7-d9df9b917be0"
   },
   "outputs": [
    {
     "name": "stdout",
     "output_type": "stream",
     "text": [
      "review    32349\n",
      "rating    32349\n",
      "dtype: int64\n",
      "review    9579\n",
      "rating    9579\n",
      "dtype: int64\n",
      "review    11838\n",
      "rating    11838\n",
      "dtype: int64\n"
     ]
    }
   ],
   "source": [
    "print(df_test[df_test['rating'] == 3].count())\n",
    "print(df_test[df_test['rating'] == 2].count())\n",
    "print(df_test[df_test['rating'] == 1].count())"
   ]
  },
  {
   "cell_type": "code",
   "execution_count": 20,
   "metadata": {
    "colab": {
     "base_uri": "https://localhost:8080/",
     "height": 0
    },
    "id": "CaqtMDB_2Kx2",
    "outputId": "7c9dedee-99ca-4744-ab40-62c0ac917324"
   },
   "outputs": [
    {
     "data": {
      "text/plain": [
       "([<matplotlib.axis.XTick at 0x21df4a77b80>,\n",
       "  <matplotlib.axis.XTick at 0x21df4a77b50>,\n",
       "  <matplotlib.axis.XTick at 0x21df4a77280>],\n",
       " [Text(0, 0, '1'), Text(1, 0, '2'), Text(2, 0, '3')])"
      ]
     },
     "execution_count": 20,
     "metadata": {},
     "output_type": "execute_result"
    },
    {
     "data": {
      "image/png": "[encoded data removed]",
      "text/plain": [
       "<Figure size 640x480 with 1 Axes>"
      ]
     },
     "metadata": {},
     "output_type": "display_data"
    }
   ],
   "source": [
    "sns.countplot(data=df_test,x='rating')\n",
    "plt.xticks(ticks=[0,1,2],labels=['1','2','3'])"
   ]
  },
  {
   "cell_type": "code",
   "execution_count": 21,
   "metadata": {
    "id": "X4SAFYsS2Kx6"
   },
   "outputs": [],
   "source": [
    "X_test = df_test[['review']]\n",
    "Y_test = df_test[['rating']]"
   ]
  },
  {
   "cell_type": "markdown",
   "metadata": {
    "id": "7k0mjhu52Kx7"
   },
   "source": [
    "*NOTE: The data is highly imbalanced. We need to convert the texts into vectors and balance it accordingly.*"
   ]
  },
  {
   "cell_type": "markdown",
   "metadata": {
    "id": "nffj9Z8UhvYh"
   },
   "source": [
    "### **3. Text Preprocessing** ###"
   ]
  },
  {
   "cell_type": "code",
   "execution_count": 22,
   "metadata": {
    "colab": {
     "base_uri": "https://localhost:8080/"
    },
    "id": "HLnnpKCQirQS",
    "outputId": "bb7da7c0-1f8a-406c-e879-7d9d5ca89b0b"
   },
   "outputs": [
    {
     "name": "stderr",
     "output_type": "stream",
     "text": [
      "[nltk_data] Downloading package omw-1.4 to\n",
      "[nltk_data]     C:\\Users\\tarpa\\AppData\\Roaming\\nltk_data...\n"
     ]
    },
    {
     "data": {
      "text/plain": [
       "True"
      ]
     },
     "execution_count": 22,
     "metadata": {},
     "output_type": "execute_result"
    }
   ],
   "source": [
    "import nltk\n",
    "nltk.download('omw-1.4')"
   ]
  },
  {
   "cell_type": "code",
   "execution_count": 23,
   "metadata": {
    "id": "flbcQW4th4lr"
   },
   "outputs": [],
   "source": [
    "def clean_text(text):\n",
    "    \"\"\"\n",
    "    Data Preprocessing is done here.\n",
    "    \"\"\"\n",
    "\n",
    "    # Step 1 -  Lowering the cases\n",
    "    text = text.lower()\n",
    "\n",
    "    # Step 2 - remove urls and '\n",
    "    text = re.sub(r\"http\\S+|www\\S+|https\\S+\", \"URL\",text,flags = re.MULTILINE)\n",
    "    text = re.sub(r\"039\", \"\",text,flags = re.MULTILINE)\n",
    "\n",
    "    # Step 3 - remove punctuations\n",
    "    text = text.translate(str.maketrans(\"\", \"\", string.punctuation))\n",
    "\n",
    "    # Step 4 - remove @ and #\n",
    "    text = re.sub(r'\\@',\"USER\",text)\n",
    "    text = re.sub(r'\\#', \"\", text)\n",
    "\n",
    "    # Step 5 - remove extra charaters in each word (more than 2 continuous ones)\n",
    "    repeat_char = re.compile(r\"(.)\\1{1,}\", re.IGNORECASE)\n",
    "    text = repeat_char.sub(r\"\\1\\1\", text)\n",
    "    text = re.sub(\"(.)\\\\1{2,}\", \"\\\\1\", text)\n",
    "\n",
    "    # Step 6 - remove tokens\n",
    "    tokens = word_tokenize(text)\n",
    "    tokens = [t for t in tokens if t not in stopwords]\n",
    "\n",
    "    # Step 7 - Lemmatizing\n",
    "    lemmatizer = WordNetLemmatizer()\n",
    "    lemma_words = [lemmatizer.lemmatize(w, pos='a') for w in tokens]\n",
    "        \n",
    "    return \" \".join(lemma_words)\n",
    "\n",
    "df_train['review'] = [clean_text(text) for text in df_train['review']]\n",
    "df_test['review'] = [clean_text(text) for text in df_test['review']]"
   ]
  },
  {
   "cell_type": "code",
   "execution_count": 24,
   "metadata": {
    "colab": {
     "base_uri": "https://localhost:8080/",
     "height": 206
    },
    "id": "SC962JjzjpEW",
    "outputId": "3d007397-50de-4e05-ec8d-2868035b2167"
   },
   "outputs": [
    {
     "data": {
      "text/html": [
       "<div>\n",
       "<style scoped>\n",
       "    .dataframe tbody tr th:only-of-type {\n",
       "        vertical-align: middle;\n",
       "    }\n",
       "\n",
       "    .dataframe tbody tr th {\n",
       "        vertical-align: top;\n",
       "    }\n",
       "\n",
       "    .dataframe thead th {\n",
       "        text-align: right;\n",
       "    }\n",
       "</style>\n",
       "<table border=\"1\" class=\"dataframe\">\n",
       "  <thead>\n",
       "    <tr style=\"text-align: right;\">\n",
       "      <th></th>\n",
       "      <th>review</th>\n",
       "      <th>rating</th>\n",
       "    </tr>\n",
       "  </thead>\n",
       "  <tbody>\n",
       "    <tr>\n",
       "      <th>0</th>\n",
       "      <td>abilify changed life hope zoloft clonidine fir...</td>\n",
       "      <td>3</td>\n",
       "    </tr>\n",
       "    <tr>\n",
       "      <th>1</th>\n",
       "      <td>taken antidepressants years improvement mostly...</td>\n",
       "      <td>3</td>\n",
       "    </tr>\n",
       "    <tr>\n",
       "      <th>2</th>\n",
       "      <td>ive every medicine sun seems manage hypomania ...</td>\n",
       "      <td>3</td>\n",
       "    </tr>\n",
       "    <tr>\n",
       "      <th>3</th>\n",
       "      <td>tasigna 3 years 300mg x 2 times day tasigna wo...</td>\n",
       "      <td>3</td>\n",
       "    </tr>\n",
       "    <tr>\n",
       "      <th>4</th>\n",
       "      <td>insomnia horrible story begins pcp prescribing...</td>\n",
       "      <td>3</td>\n",
       "    </tr>\n",
       "  </tbody>\n",
       "</table>\n",
       "</div>"
      ],
      "text/plain": [
       "                                              review  rating\n",
       "0  abilify changed life hope zoloft clonidine fir...       3\n",
       "1  taken antidepressants years improvement mostly...       3\n",
       "2  ive every medicine sun seems manage hypomania ...       3\n",
       "3  tasigna 3 years 300mg x 2 times day tasigna wo...       3\n",
       "4  insomnia horrible story begins pcp prescribing...       3"
      ]
     },
     "execution_count": 24,
     "metadata": {},
     "output_type": "execute_result"
    }
   ],
   "source": [
    "df_train.head()"
   ]
  },
  {
   "cell_type": "code",
   "execution_count": 25,
   "metadata": {
    "colab": {
     "base_uri": "https://localhost:8080/",
     "height": 363
    },
    "id": "RHtFlLKPkTN4",
    "outputId": "43e1b63c-e5e8-4617-bebc-7248f9a60808"
   },
   "outputs": [
    {
     "data": {
      "text/html": [
       "<div>\n",
       "<style scoped>\n",
       "    .dataframe tbody tr th:only-of-type {\n",
       "        vertical-align: middle;\n",
       "    }\n",
       "\n",
       "    .dataframe tbody tr th {\n",
       "        vertical-align: top;\n",
       "    }\n",
       "\n",
       "    .dataframe thead th {\n",
       "        text-align: right;\n",
       "    }\n",
       "</style>\n",
       "<table border=\"1\" class=\"dataframe\">\n",
       "  <thead>\n",
       "    <tr style=\"text-align: right;\">\n",
       "      <th></th>\n",
       "      <th>review</th>\n",
       "      <th>rating</th>\n",
       "    </tr>\n",
       "  </thead>\n",
       "  <tbody>\n",
       "    <tr>\n",
       "      <th>161287</th>\n",
       "      <td>given spasms upper spine cervical region anaph...</td>\n",
       "      <td>1</td>\n",
       "    </tr>\n",
       "    <tr>\n",
       "      <th>161288</th>\n",
       "      <td>covered family pact california insertion painf...</td>\n",
       "      <td>1</td>\n",
       "    </tr>\n",
       "    <tr>\n",
       "      <th>161289</th>\n",
       "      <td>bystolic feet arms numb blood sugars became se...</td>\n",
       "      <td>1</td>\n",
       "    </tr>\n",
       "    <tr>\n",
       "      <th>161290</th>\n",
       "      <td>livalo two months change cholesterol levels st...</td>\n",
       "      <td>1</td>\n",
       "    </tr>\n",
       "    <tr>\n",
       "      <th>161291</th>\n",
       "      <td>switched portia 12 days ago started spotting a...</td>\n",
       "      <td>1</td>\n",
       "    </tr>\n",
       "    <tr>\n",
       "      <th>161292</th>\n",
       "      <td>poisontwo days med amp thought going die total...</td>\n",
       "      <td>1</td>\n",
       "    </tr>\n",
       "    <tr>\n",
       "      <th>161293</th>\n",
       "      <td>taken armour thyroid 20 years starting 2 years...</td>\n",
       "      <td>1</td>\n",
       "    </tr>\n",
       "    <tr>\n",
       "      <th>161294</th>\n",
       "      <td>used month ago allergic conjunctivitis thought...</td>\n",
       "      <td>1</td>\n",
       "    </tr>\n",
       "    <tr>\n",
       "      <th>161295</th>\n",
       "      <td>800mg seems work every 2nd day still excruciat...</td>\n",
       "      <td>1</td>\n",
       "    </tr>\n",
       "    <tr>\n",
       "      <th>161296</th>\n",
       "      <td>given iv surgey immediately became anxious cou...</td>\n",
       "      <td>1</td>\n",
       "    </tr>\n",
       "  </tbody>\n",
       "</table>\n",
       "</div>"
      ],
      "text/plain": [
       "                                                   review  rating\n",
       "161287  given spasms upper spine cervical region anaph...       1\n",
       "161288  covered family pact california insertion painf...       1\n",
       "161289  bystolic feet arms numb blood sugars became se...       1\n",
       "161290  livalo two months change cholesterol levels st...       1\n",
       "161291  switched portia 12 days ago started spotting a...       1\n",
       "161292  poisontwo days med amp thought going die total...       1\n",
       "161293  taken armour thyroid 20 years starting 2 years...       1\n",
       "161294  used month ago allergic conjunctivitis thought...       1\n",
       "161295  800mg seems work every 2nd day still excruciat...       1\n",
       "161296  given iv surgey immediately became anxious cou...       1"
      ]
     },
     "execution_count": 25,
     "metadata": {},
     "output_type": "execute_result"
    }
   ],
   "source": [
    "df_train.tail(10)"
   ]
  },
  {
   "cell_type": "code",
   "execution_count": 26,
   "metadata": {
    "colab": {
     "base_uri": "https://localhost:8080/",
     "height": 363
    },
    "id": "VmoktYD33q5y",
    "outputId": "11976946-23ed-4396-f75a-634a787f6c50"
   },
   "outputs": [
    {
     "data": {
      "text/html": [
       "<div>\n",
       "<style scoped>\n",
       "    .dataframe tbody tr th:only-of-type {\n",
       "        vertical-align: middle;\n",
       "    }\n",
       "\n",
       "    .dataframe tbody tr th {\n",
       "        vertical-align: top;\n",
       "    }\n",
       "\n",
       "    .dataframe thead th {\n",
       "        text-align: right;\n",
       "    }\n",
       "</style>\n",
       "<table border=\"1\" class=\"dataframe\">\n",
       "  <thead>\n",
       "    <tr style=\"text-align: right;\">\n",
       "      <th></th>\n",
       "      <th>review</th>\n",
       "      <th>rating</th>\n",
       "    </tr>\n",
       "  </thead>\n",
       "  <tbody>\n",
       "    <tr>\n",
       "      <th>53756</th>\n",
       "      <td>treatment adhd save life dont believe hype sti...</td>\n",
       "      <td>3</td>\n",
       "    </tr>\n",
       "    <tr>\n",
       "      <th>53757</th>\n",
       "      <td>3rd time taking medicine first 2 times shin bo...</td>\n",
       "      <td>3</td>\n",
       "    </tr>\n",
       "    <tr>\n",
       "      <th>53758</th>\n",
       "      <td>medicine kept sleeping whole 5 days body start...</td>\n",
       "      <td>1</td>\n",
       "    </tr>\n",
       "    <tr>\n",
       "      <th>53759</th>\n",
       "      <td>microgestin 3 years past year started get extr...</td>\n",
       "      <td>2</td>\n",
       "    </tr>\n",
       "    <tr>\n",
       "      <th>53760</th>\n",
       "      <td>started taking apri 7 months ago breats got no...</td>\n",
       "      <td>3</td>\n",
       "    </tr>\n",
       "    <tr>\n",
       "      <th>53761</th>\n",
       "      <td>taken tamoxifen 5 years side effects severe sw...</td>\n",
       "      <td>3</td>\n",
       "    </tr>\n",
       "    <tr>\n",
       "      <th>53762</th>\n",
       "      <td>ive taking lexapro escitaploprgram since febru...</td>\n",
       "      <td>3</td>\n",
       "    </tr>\n",
       "    <tr>\n",
       "      <th>53763</th>\n",
       "      <td>im married 34 years old kids taking pill hassl...</td>\n",
       "      <td>3</td>\n",
       "    </tr>\n",
       "    <tr>\n",
       "      <th>53764</th>\n",
       "      <td>prescribed nucynta severe neckshoulder pain ta...</td>\n",
       "      <td>1</td>\n",
       "    </tr>\n",
       "    <tr>\n",
       "      <th>53765</th>\n",
       "      <td>works</td>\n",
       "      <td>3</td>\n",
       "    </tr>\n",
       "  </tbody>\n",
       "</table>\n",
       "</div>"
      ],
      "text/plain": [
       "                                                  review  rating\n",
       "53756  treatment adhd save life dont believe hype sti...       3\n",
       "53757  3rd time taking medicine first 2 times shin bo...       3\n",
       "53758  medicine kept sleeping whole 5 days body start...       1\n",
       "53759  microgestin 3 years past year started get extr...       2\n",
       "53760  started taking apri 7 months ago breats got no...       3\n",
       "53761  taken tamoxifen 5 years side effects severe sw...       3\n",
       "53762  ive taking lexapro escitaploprgram since febru...       3\n",
       "53763  im married 34 years old kids taking pill hassl...       3\n",
       "53764  prescribed nucynta severe neckshoulder pain ta...       1\n",
       "53765                                              works       3"
      ]
     },
     "execution_count": 26,
     "metadata": {},
     "output_type": "execute_result"
    }
   ],
   "source": [
    "df_test.tail(10)"
   ]
  },
  {
   "cell_type": "code",
   "execution_count": 28,
   "metadata": {
    "id": "2F0a6K4PmADP"
   },
   "outputs": [],
   "source": [
    "# online (Google Colab)\n",
    "# df_train.to_csv('/content/drive/MyDrive/Drug Test - Deep Learning/train_text_preprocessed.csv')\n",
    "# df_test.to_csv('/content/drive/MyDrive/Drug Test - Deep Learning/test_text_preprocessed.csv')\n",
    "\n",
    "# offline\n",
    "df_train.to_csv('train_text_preprocessed.csv')\n",
    "df_train.to_csv('test_text_preprocessed.csv')"
   ]
  },
  {
   "cell_type": "markdown",
   "metadata": {
    "id": "9ZbqW4nFmQFm"
   },
   "source": [
    "### **4. --Checkpoint--** ###"
   ]
  },
  {
   "cell_type": "code",
   "execution_count": 29,
   "metadata": {
    "colab": {
     "base_uri": "https://localhost:8080/"
    },
    "id": "os4GOkiznGa7",
    "outputId": "74178984-eb14-4594-f4f7-a742260a1240"
   },
   "outputs": [],
   "source": [
    "# from google.colab import drive\n",
    "# drive.mount ('/content/drive')"
   ]
  },
  {
   "cell_type": "code",
   "execution_count": 30,
   "metadata": {
    "id": "ewuscQmHmPVO"
   },
   "outputs": [],
   "source": [
    "import pandas as pd\n",
    "# df_train = pd.read_csv(\"/content/drive/MyDrive/Drug Test - Deep Learning/train_text_preprocessed.csv\")\n",
    "# df_test = pd.read_csv(\"/content/drive/MyDrive/Drug Test - Deep Learning/test_text_preprocessed.csv\")\n",
    "\n",
    "df_train = pd.read_csv(\"train_text_preprocessed.csv\")\n",
    "df_test = pd.read_csv(\"test_text_preprocessed.csv\")"
   ]
  },
  {
   "cell_type": "code",
   "execution_count": 31,
   "metadata": {
    "id": "dXwl39IDnSE0"
   },
   "outputs": [],
   "source": [
    "# Model\n",
    "import tensorflow as tf\n",
    "from tensorflow.keras.preprocessing.text import Tokenizer\n",
    "from tensorflow.keras.preprocessing.sequence import pad_sequences\n",
    "import numpy as np\n",
    "from tensorflow.keras.utils import to_categorical\n",
    "from tensorflow.keras.models import Sequential, load_model\n",
    "from keras.layers import Dense, LSTM, Embedding, Dropout\n",
    "from tensorflow.keras.optimizers import Adam"
   ]
  },
  {
   "cell_type": "code",
   "execution_count": 32,
   "metadata": {
    "colab": {
     "base_uri": "https://localhost:8080/",
     "height": 206
    },
    "id": "tf2Ioxtsnbd9",
    "outputId": "41d3abf9-42bf-401f-c7de-fd1e64884c34"
   },
   "outputs": [
    {
     "data": {
      "text/html": [
       "<div>\n",
       "<style scoped>\n",
       "    .dataframe tbody tr th:only-of-type {\n",
       "        vertical-align: middle;\n",
       "    }\n",
       "\n",
       "    .dataframe tbody tr th {\n",
       "        vertical-align: top;\n",
       "    }\n",
       "\n",
       "    .dataframe thead th {\n",
       "        text-align: right;\n",
       "    }\n",
       "</style>\n",
       "<table border=\"1\" class=\"dataframe\">\n",
       "  <thead>\n",
       "    <tr style=\"text-align: right;\">\n",
       "      <th></th>\n",
       "      <th>Unnamed: 0</th>\n",
       "      <th>review</th>\n",
       "      <th>rating</th>\n",
       "    </tr>\n",
       "  </thead>\n",
       "  <tbody>\n",
       "    <tr>\n",
       "      <th>0</th>\n",
       "      <td>0</td>\n",
       "      <td>abilify changed life hope zoloft clonidine fir...</td>\n",
       "      <td>3</td>\n",
       "    </tr>\n",
       "    <tr>\n",
       "      <th>1</th>\n",
       "      <td>1</td>\n",
       "      <td>taken antidepressants years improvement mostly...</td>\n",
       "      <td>3</td>\n",
       "    </tr>\n",
       "    <tr>\n",
       "      <th>2</th>\n",
       "      <td>2</td>\n",
       "      <td>ive every medicine sun seems manage hypomania ...</td>\n",
       "      <td>3</td>\n",
       "    </tr>\n",
       "    <tr>\n",
       "      <th>3</th>\n",
       "      <td>3</td>\n",
       "      <td>tasigna 3 years 300mg x 2 times day tasigna wo...</td>\n",
       "      <td>3</td>\n",
       "    </tr>\n",
       "    <tr>\n",
       "      <th>4</th>\n",
       "      <td>4</td>\n",
       "      <td>insomnia horrible story begins pcp prescribing...</td>\n",
       "      <td>3</td>\n",
       "    </tr>\n",
       "  </tbody>\n",
       "</table>\n",
       "</div>"
      ],
      "text/plain": [
       "   Unnamed: 0                                             review  rating\n",
       "0           0  abilify changed life hope zoloft clonidine fir...       3\n",
       "1           1  taken antidepressants years improvement mostly...       3\n",
       "2           2  ive every medicine sun seems manage hypomania ...       3\n",
       "3           3  tasigna 3 years 300mg x 2 times day tasigna wo...       3\n",
       "4           4  insomnia horrible story begins pcp prescribing...       3"
      ]
     },
     "execution_count": 32,
     "metadata": {},
     "output_type": "execute_result"
    }
   ],
   "source": [
    "df_train.dropna(inplace=True)\n",
    "df_train.head()"
   ]
  },
  {
   "cell_type": "code",
   "execution_count": 33,
   "metadata": {
    "colab": {
     "base_uri": "https://localhost:8080/",
     "height": 206
    },
    "id": "1IfqTxac32Pc",
    "outputId": "b16e7f52-2542-4d51-eb88-eee0a3971bf9"
   },
   "outputs": [
    {
     "data": {
      "text/html": [
       "<div>\n",
       "<style scoped>\n",
       "    .dataframe tbody tr th:only-of-type {\n",
       "        vertical-align: middle;\n",
       "    }\n",
       "\n",
       "    .dataframe tbody tr th {\n",
       "        vertical-align: top;\n",
       "    }\n",
       "\n",
       "    .dataframe thead th {\n",
       "        text-align: right;\n",
       "    }\n",
       "</style>\n",
       "<table border=\"1\" class=\"dataframe\">\n",
       "  <thead>\n",
       "    <tr style=\"text-align: right;\">\n",
       "      <th></th>\n",
       "      <th>Unnamed: 0</th>\n",
       "      <th>review</th>\n",
       "      <th>rating</th>\n",
       "    </tr>\n",
       "  </thead>\n",
       "  <tbody>\n",
       "    <tr>\n",
       "      <th>0</th>\n",
       "      <td>0</td>\n",
       "      <td>abilify changed life hope zoloft clonidine fir...</td>\n",
       "      <td>3</td>\n",
       "    </tr>\n",
       "    <tr>\n",
       "      <th>1</th>\n",
       "      <td>1</td>\n",
       "      <td>taken antidepressants years improvement mostly...</td>\n",
       "      <td>3</td>\n",
       "    </tr>\n",
       "    <tr>\n",
       "      <th>2</th>\n",
       "      <td>2</td>\n",
       "      <td>ive every medicine sun seems manage hypomania ...</td>\n",
       "      <td>3</td>\n",
       "    </tr>\n",
       "    <tr>\n",
       "      <th>3</th>\n",
       "      <td>3</td>\n",
       "      <td>tasigna 3 years 300mg x 2 times day tasigna wo...</td>\n",
       "      <td>3</td>\n",
       "    </tr>\n",
       "    <tr>\n",
       "      <th>4</th>\n",
       "      <td>4</td>\n",
       "      <td>insomnia horrible story begins pcp prescribing...</td>\n",
       "      <td>3</td>\n",
       "    </tr>\n",
       "  </tbody>\n",
       "</table>\n",
       "</div>"
      ],
      "text/plain": [
       "   Unnamed: 0                                             review  rating\n",
       "0           0  abilify changed life hope zoloft clonidine fir...       3\n",
       "1           1  taken antidepressants years improvement mostly...       3\n",
       "2           2  ive every medicine sun seems manage hypomania ...       3\n",
       "3           3  tasigna 3 years 300mg x 2 times day tasigna wo...       3\n",
       "4           4  insomnia horrible story begins pcp prescribing...       3"
      ]
     },
     "execution_count": 33,
     "metadata": {},
     "output_type": "execute_result"
    }
   ],
   "source": [
    "df_test.dropna(inplace=True)\n",
    "df_test.head()"
   ]
  },
  {
   "cell_type": "code",
   "execution_count": 34,
   "metadata": {
    "colab": {
     "base_uri": "https://localhost:8080/"
    },
    "id": "7TaLi8BWHlzx",
    "outputId": "90d09f4d-a5dd-4e44-f265-aa55aa266bbf"
   },
   "outputs": [
    {
     "name": "stdout",
     "output_type": "stream",
     "text": [
      "df_train counts:  Unnamed: 0    161291\n",
      "review        161291\n",
      "rating        161291\n",
      "dtype: int64\n",
      "df_test counts:  Unnamed: 0    161291\n",
      "review        161291\n",
      "rating        161291\n",
      "dtype: int64\n"
     ]
    }
   ],
   "source": [
    "print(\"df_train counts: \", df_train.count())\n",
    "print(\"df_test counts: \", df_test.count())"
   ]
  },
  {
   "cell_type": "code",
   "execution_count": 35,
   "metadata": {
    "colab": {
     "base_uri": "https://localhost:8080/"
    },
    "id": "yxJ7uA9QNPV_",
    "outputId": "abe315b7-9f94-473a-fd24-9b605cada6ad"
   },
   "outputs": [
    {
     "data": {
      "text/plain": [
       "3    97404\n",
       "1    35063\n",
       "2    28824\n",
       "Name: rating, dtype: int64"
      ]
     },
     "execution_count": 35,
     "metadata": {},
     "output_type": "execute_result"
    }
   ],
   "source": [
    "df_train['rating'].value_counts()"
   ]
  },
  {
   "cell_type": "code",
   "execution_count": 36,
   "metadata": {
    "colab": {
     "base_uri": "https://localhost:8080/",
     "height": 143
    },
    "id": "r8Wp12V7nqtB",
    "outputId": "01f917ca-679f-4f89-b052-d7dfcf33ac46"
   },
   "outputs": [
    {
     "data": {
      "text/html": [
       "<div>\n",
       "<style scoped>\n",
       "    .dataframe tbody tr th:only-of-type {\n",
       "        vertical-align: middle;\n",
       "    }\n",
       "\n",
       "    .dataframe tbody tr th {\n",
       "        vertical-align: top;\n",
       "    }\n",
       "\n",
       "    .dataframe thead th {\n",
       "        text-align: right;\n",
       "    }\n",
       "</style>\n",
       "<table border=\"1\" class=\"dataframe\">\n",
       "  <thead>\n",
       "    <tr style=\"text-align: right;\">\n",
       "      <th></th>\n",
       "      <th>review</th>\n",
       "      <th>rating</th>\n",
       "    </tr>\n",
       "  </thead>\n",
       "  <tbody>\n",
       "    <tr>\n",
       "      <th>0</th>\n",
       "      <td>abilify changed life hope zoloft clonidine fir...</td>\n",
       "      <td>3</td>\n",
       "    </tr>\n",
       "    <tr>\n",
       "      <th>1</th>\n",
       "      <td>taken antidepressants years improvement mostly...</td>\n",
       "      <td>3</td>\n",
       "    </tr>\n",
       "    <tr>\n",
       "      <th>2</th>\n",
       "      <td>ive every medicine sun seems manage hypomania ...</td>\n",
       "      <td>3</td>\n",
       "    </tr>\n",
       "  </tbody>\n",
       "</table>\n",
       "</div>"
      ],
      "text/plain": [
       "                                              review  rating\n",
       "0  abilify changed life hope zoloft clonidine fir...       3\n",
       "1  taken antidepressants years improvement mostly...       3\n",
       "2  ive every medicine sun seems manage hypomania ...       3"
      ]
     },
     "execution_count": 36,
     "metadata": {},
     "output_type": "execute_result"
    }
   ],
   "source": [
    "df_train = df_train[['review','rating']]\n",
    "df_train.head(3)"
   ]
  },
  {
   "cell_type": "code",
   "execution_count": 37,
   "metadata": {
    "colab": {
     "base_uri": "https://localhost:8080/",
     "height": 143
    },
    "id": "_7wlCiNE4GMg",
    "outputId": "66db8a6c-6fcb-4393-93ca-4b0a4d9056cc"
   },
   "outputs": [
    {
     "data": {
      "text/html": [
       "<div>\n",
       "<style scoped>\n",
       "    .dataframe tbody tr th:only-of-type {\n",
       "        vertical-align: middle;\n",
       "    }\n",
       "\n",
       "    .dataframe tbody tr th {\n",
       "        vertical-align: top;\n",
       "    }\n",
       "\n",
       "    .dataframe thead th {\n",
       "        text-align: right;\n",
       "    }\n",
       "</style>\n",
       "<table border=\"1\" class=\"dataframe\">\n",
       "  <thead>\n",
       "    <tr style=\"text-align: right;\">\n",
       "      <th></th>\n",
       "      <th>review</th>\n",
       "      <th>rating</th>\n",
       "    </tr>\n",
       "  </thead>\n",
       "  <tbody>\n",
       "    <tr>\n",
       "      <th>0</th>\n",
       "      <td>abilify changed life hope zoloft clonidine fir...</td>\n",
       "      <td>3</td>\n",
       "    </tr>\n",
       "    <tr>\n",
       "      <th>1</th>\n",
       "      <td>taken antidepressants years improvement mostly...</td>\n",
       "      <td>3</td>\n",
       "    </tr>\n",
       "    <tr>\n",
       "      <th>2</th>\n",
       "      <td>ive every medicine sun seems manage hypomania ...</td>\n",
       "      <td>3</td>\n",
       "    </tr>\n",
       "  </tbody>\n",
       "</table>\n",
       "</div>"
      ],
      "text/plain": [
       "                                              review  rating\n",
       "0  abilify changed life hope zoloft clonidine fir...       3\n",
       "1  taken antidepressants years improvement mostly...       3\n",
       "2  ive every medicine sun seems manage hypomania ...       3"
      ]
     },
     "execution_count": 37,
     "metadata": {},
     "output_type": "execute_result"
    }
   ],
   "source": [
    "df_test = df_test[['review','rating']]\n",
    "df_test.head(3)"
   ]
  },
  {
   "cell_type": "code",
   "execution_count": 38,
   "metadata": {
    "colab": {
     "base_uri": "https://localhost:8080/"
    },
    "id": "mBEKxItCpPbi",
    "outputId": "4e05d19f-8743-4073-f207-755a0a968db3"
   },
   "outputs": [
    {
     "data": {
      "text/plain": [
       "0         False\n",
       "1         False\n",
       "2         False\n",
       "3         False\n",
       "4         False\n",
       "          ...  \n",
       "161292    False\n",
       "161293     True\n",
       "161294     True\n",
       "161295    False\n",
       "161296     True\n",
       "Length: 161291, dtype: bool"
      ]
     },
     "execution_count": 38,
     "metadata": {},
     "output_type": "execute_result"
    }
   ],
   "source": [
    "df_train.duplicated()"
   ]
  },
  {
   "cell_type": "code",
   "execution_count": 39,
   "metadata": {
    "id": "GFe_ab0wp2H8"
   },
   "outputs": [],
   "source": [
    "x_temp = df_train['review']\n",
    "y_temp = df_train['rating']"
   ]
  },
  {
   "cell_type": "code",
   "execution_count": 40,
   "metadata": {
    "id": "9CQSiXQVGMI6"
   },
   "outputs": [],
   "source": [
    "x_temp1 = df_test['review']\n",
    "y_temp1 = df_test['rating']"
   ]
  },
  {
   "cell_type": "markdown",
   "metadata": {
    "id": "1AH8egmnGXej"
   },
   "source": [
    "x_temp - train data texts<br>\n",
    "y_temp - train data values\n",
    "<br><br>\n",
    "x_temp1 - test data texts<br>\n",
    "y_temp1 - test data values"
   ]
  },
  {
   "cell_type": "code",
   "execution_count": 41,
   "metadata": {
    "colab": {
     "base_uri": "https://localhost:8080/"
    },
    "id": "Cht-otXgqPYQ",
    "outputId": "e844f3d8-16cc-4a4b-c2b2-9b69d31588cf"
   },
   "outputs": [
    {
     "data": {
      "text/plain": [
       "0         abilify changed life hope zoloft clonidine fir...\n",
       "1         taken antidepressants years improvement mostly...\n",
       "2         ive every medicine sun seems manage hypomania ...\n",
       "3         tasigna 3 years 300mg x 2 times day tasigna wo...\n",
       "4         insomnia horrible story begins pcp prescribing...\n",
       "                                ...                        \n",
       "161292    poisontwo days med amp thought going die total...\n",
       "161293    taken armour thyroid 20 years starting 2 years...\n",
       "161294    used month ago allergic conjunctivitis thought...\n",
       "161295    800mg seems work every 2nd day still excruciat...\n",
       "161296    given iv surgey immediately became anxious cou...\n",
       "Name: review, Length: 161291, dtype: object"
      ]
     },
     "execution_count": 41,
     "metadata": {},
     "output_type": "execute_result"
    }
   ],
   "source": [
    "x_temp"
   ]
  },
  {
   "cell_type": "code",
   "execution_count": 42,
   "metadata": {
    "colab": {
     "base_uri": "https://localhost:8080/"
    },
    "id": "BH5rtLcaqT8m",
    "outputId": "c5108a63-2699-420d-d34c-6dba236be5de"
   },
   "outputs": [
    {
     "data": {
      "text/plain": [
       "0         3\n",
       "1         3\n",
       "2         3\n",
       "3         3\n",
       "4         3\n",
       "         ..\n",
       "161292    1\n",
       "161293    1\n",
       "161294    1\n",
       "161295    1\n",
       "161296    1\n",
       "Name: rating, Length: 161291, dtype: int64"
      ]
     },
     "execution_count": 42,
     "metadata": {},
     "output_type": "execute_result"
    }
   ],
   "source": [
    "y_temp"
   ]
  },
  {
   "cell_type": "code",
   "execution_count": 43,
   "metadata": {
    "colab": {
     "base_uri": "https://localhost:8080/"
    },
    "id": "D6EMcTajGv39",
    "outputId": "e5a70ca4-824f-414b-b5cd-a2ef6b82df57"
   },
   "outputs": [
    {
     "data": {
      "text/plain": [
       "0         abilify changed life hope zoloft clonidine fir...\n",
       "1         taken antidepressants years improvement mostly...\n",
       "2         ive every medicine sun seems manage hypomania ...\n",
       "3         tasigna 3 years 300mg x 2 times day tasigna wo...\n",
       "4         insomnia horrible story begins pcp prescribing...\n",
       "                                ...                        \n",
       "161292    poisontwo days med amp thought going die total...\n",
       "161293    taken armour thyroid 20 years starting 2 years...\n",
       "161294    used month ago allergic conjunctivitis thought...\n",
       "161295    800mg seems work every 2nd day still excruciat...\n",
       "161296    given iv surgey immediately became anxious cou...\n",
       "Name: review, Length: 161291, dtype: object"
      ]
     },
     "execution_count": 43,
     "metadata": {},
     "output_type": "execute_result"
    }
   ],
   "source": [
    "x_temp1"
   ]
  },
  {
   "cell_type": "code",
   "execution_count": 44,
   "metadata": {
    "colab": {
     "base_uri": "https://localhost:8080/"
    },
    "id": "a121M6NIG1_m",
    "outputId": "1930b029-b2e9-4246-9be7-29070b1b398f"
   },
   "outputs": [
    {
     "data": {
      "text/plain": [
       "0         3\n",
       "1         3\n",
       "2         3\n",
       "3         3\n",
       "4         3\n",
       "         ..\n",
       "161292    1\n",
       "161293    1\n",
       "161294    1\n",
       "161295    1\n",
       "161296    1\n",
       "Name: rating, Length: 161291, dtype: int64"
      ]
     },
     "execution_count": 44,
     "metadata": {},
     "output_type": "execute_result"
    }
   ],
   "source": [
    "y_temp1"
   ]
  },
  {
   "cell_type": "markdown",
   "metadata": {
    "id": "pJFQOWl91h4V"
   },
   "source": [
    "### **5. Texts to numbers** ###"
   ]
  },
  {
   "cell_type": "markdown",
   "metadata": {
    "id": "HuGpM1V-JVo1"
   },
   "source": [
    "#### **5.1 Converting y_temp to y_train and y_temp1 to y_test**####"
   ]
  },
  {
   "cell_type": "code",
   "execution_count": 45,
   "metadata": {
    "id": "36wLzGtTrHZb"
   },
   "outputs": [],
   "source": [
    "y_temp = np.asarray(y_temp)\n",
    "\n",
    "y_temp1 = np.asarray(y_temp1)"
   ]
  },
  {
   "cell_type": "code",
   "execution_count": 46,
   "metadata": {
    "colab": {
     "base_uri": "https://localhost:8080/"
    },
    "id": "BQh8ZrHsqrlx",
    "outputId": "ed76571b-0abf-47e1-ea82-6761ac1c183a"
   },
   "outputs": [
    {
     "data": {
      "text/plain": [
       "array([0, 0, 0, ..., 1, 1, 1], dtype=int64)"
      ]
     },
     "execution_count": 46,
     "metadata": {},
     "output_type": "execute_result"
    }
   ],
   "source": [
    "import numpy as np\n",
    "y_temp = np.where(y_temp==3,0,y_temp)\n",
    "y_temp = np.asarray(y_temp)\n",
    "y_temp #After changing values"
   ]
  },
  {
   "cell_type": "code",
   "execution_count": 47,
   "metadata": {
    "colab": {
     "base_uri": "https://localhost:8080/"
    },
    "id": "vEG_g1JIIU7f",
    "outputId": "684fe943-4f8b-4de2-c4b8-7375b3a008ac"
   },
   "outputs": [
    {
     "data": {
      "text/plain": [
       "array([0, 0, 0, ..., 1, 1, 1], dtype=int64)"
      ]
     },
     "execution_count": 47,
     "metadata": {},
     "output_type": "execute_result"
    }
   ],
   "source": [
    "y_temp1 = np.where(y_temp1==3,0,y_temp1)\n",
    "y_temp1 = np.asarray(y_temp1)\n",
    "y_temp1 #After changing values"
   ]
  },
  {
   "cell_type": "markdown",
   "metadata": {
    "id": "rDVNo1_riv_R"
   },
   "source": [
    "<strong><h3>So, values 1, 2 and 3 in ratings have been changed to 1, 2 and 0 respectively, for simplicity.<h3></strong>"
   ]
  },
  {
   "cell_type": "code",
   "execution_count": 48,
   "metadata": {
    "colab": {
     "base_uri": "https://localhost:8080/"
    },
    "id": "VuXd5Rm3qY7h",
    "outputId": "200ede81-2072-4fb2-96dc-db35c9ad8bdf"
   },
   "outputs": [
    {
     "data": {
      "text/plain": [
       "array([[1., 0., 0.],\n",
       "       [1., 0., 0.],\n",
       "       [1., 0., 0.],\n",
       "       ...,\n",
       "       [0., 1., 0.],\n",
       "       [0., 1., 0.],\n",
       "       [0., 1., 0.]], dtype=float32)"
      ]
     },
     "execution_count": 48,
     "metadata": {},
     "output_type": "execute_result"
    }
   ],
   "source": [
    "num_classes = 3\n",
    "y_train = to_categorical(y_temp, num_classes)\n",
    "y_train"
   ]
  },
  {
   "cell_type": "code",
   "execution_count": 49,
   "metadata": {
    "colab": {
     "base_uri": "https://localhost:8080/"
    },
    "id": "KEnMyfH-Ii3i",
    "outputId": "ec5e6e4a-41b2-47f8-fa0d-87040341af7e"
   },
   "outputs": [
    {
     "data": {
      "text/plain": [
       "array([[1., 0., 0.],\n",
       "       [1., 0., 0.],\n",
       "       [1., 0., 0.],\n",
       "       ...,\n",
       "       [0., 1., 0.],\n",
       "       [0., 1., 0.],\n",
       "       [0., 1., 0.]], dtype=float32)"
      ]
     },
     "execution_count": 49,
     "metadata": {},
     "output_type": "execute_result"
    }
   ],
   "source": [
    "y_test = to_categorical(y_temp1, num_classes)\n",
    "y_test"
   ]
  },
  {
   "cell_type": "markdown",
   "metadata": {
    "id": "G4JE_qL8J9hQ"
   },
   "source": [
    "#### **6.2 Converting x_temp to x_train and x_temp1 to x_test**####"
   ]
  },
  {
   "cell_type": "code",
   "execution_count": 50,
   "metadata": {
    "id": "UgQqhLYXuYtE"
   },
   "outputs": [],
   "source": [
    "tk_review = Tokenizer(num_words=200000) #num_words says the number of top frequent words\n",
    "tk_review.fit_on_texts(x_temp)\n",
    "sequences_train = tk_review.texts_to_sequences(x_temp)\n",
    "word_index = tk_review.word_index"
   ]
  },
  {
   "cell_type": "code",
   "execution_count": 51,
   "metadata": {
    "colab": {
     "base_uri": "https://localhost:8080/"
    },
    "id": "bGUYZSuXl9uT",
    "outputId": "d01725de-eca5-43d3-aabd-fba06ecc0406"
   },
   "outputs": [
    {
     "data": {
      "text/plain": [
       "84317"
      ]
     },
     "execution_count": 51,
     "metadata": {},
     "output_type": "execute_result"
    }
   ],
   "source": [
    "V = len(word_index)\n",
    "V"
   ]
  },
  {
   "cell_type": "code",
   "execution_count": 52,
   "metadata": {
    "colab": {
     "base_uri": "https://localhost:8080/"
    },
    "id": "2dWukeqvyNGB",
    "outputId": "bad5d9e6-d4e8-4148-93a3-284a84e60217"
   },
   "outputs": [
    {
     "data": {
      "text/plain": [
       "[874,\n",
       " 240,\n",
       " 38,\n",
       " 224,\n",
       " 362,\n",
       " 2150,\n",
       " 7,\n",
       " 12,\n",
       " 874,\n",
       " 486,\n",
       " 241,\n",
       " 362,\n",
       " 74,\n",
       " 12199,\n",
       " 1337,\n",
       " 777,\n",
       " 2039,\n",
       " 898,\n",
       " 51,\n",
       " 261,\n",
       " 2347,\n",
       " 25,\n",
       " 175,\n",
       " 888,\n",
       " 3203,\n",
       " 253,\n",
       " 2039,\n",
       " 136,\n",
       " 225,\n",
       " 75,\n",
       " 1498,\n",
       " 874,\n",
       " 282,\n",
       " 19,\n",
       " 15,\n",
       " 1475,\n",
       " 166,\n",
       " 108,\n",
       " 2,\n",
       " 465,\n",
       " 338,\n",
       " 333,\n",
       " 2900,\n",
       " 108,\n",
       " 874,\n",
       " 63,\n",
       " 62,\n",
       " 16,\n",
       " 112,\n",
       " 777,\n",
       " 51,\n",
       " 928,\n",
       " 44,\n",
       " 22,\n",
       " 7986,\n",
       " 629,\n",
       " 1161,\n",
       " 171,\n",
       " 843,\n",
       " 14,\n",
       " 91,\n",
       " 215,\n",
       " 3,\n",
       " 121,\n",
       " 15,\n",
       " 158,\n",
       " 99]"
      ]
     },
     "execution_count": 52,
     "metadata": {},
     "output_type": "execute_result"
    }
   ],
   "source": [
    "sequences_train[0]"
   ]
  },
  {
   "cell_type": "code",
   "execution_count": 53,
   "metadata": {
    "colab": {
     "base_uri": "https://localhost:8080/"
    },
    "id": "2wvDuVeWypQp",
    "outputId": "4dae04e0-2f14-41b0-840d-b54abeeae5a0"
   },
   "outputs": [
    {
     "name": "stdout",
     "output_type": "stream",
     "text": [
      "963\n"
     ]
    }
   ],
   "source": [
    "#Check input length...should be in same size\n",
    "max = 0\n",
    "for i in range(len(sequences_train)):\n",
    "  word_number = len(sequences_train[i])\n",
    "  if (word_number) > (max):\n",
    "    max = word_number\n",
    "print(max)"
   ]
  },
  {
   "cell_type": "code",
   "execution_count": 54,
   "metadata": {
    "id": "i58gczxgkuIW"
   },
   "outputs": [],
   "source": [
    "T=max"
   ]
  },
  {
   "cell_type": "code",
   "execution_count": 55,
   "metadata": {
    "colab": {
     "base_uri": "https://localhost:8080/"
    },
    "id": "snKtTC9VzNah",
    "outputId": "eb485212-4a5f-47be-d6a5-787742755aa0"
   },
   "outputs": [
    {
     "data": {
      "text/plain": [
       "array([  874,   240,    38,   224,   362,  2150,     7,    12,   874,\n",
       "         486,   241,   362,    74, 12199,  1337,   777,  2039,   898,\n",
       "          51,   261,  2347,    25,   175,   888,  3203,   253,  2039,\n",
       "         136,   225,    75,  1498,   874,   282,    19,    15,  1475,\n",
       "         166,   108,     2,   465,   338,   333,  2900,   108,   874,\n",
       "          63,    62,    16,   112,   777,    51,   928,    44,    22,\n",
       "        7986,   629,  1161,   171,   843,    14,    91,   215,     3,\n",
       "         121,    15,   158,    99,     0,     0,     0,     0,     0,\n",
       "           0,     0,     0,     0,     0,     0,     0,     0,     0,\n",
       "           0,     0,     0,     0,     0,     0,     0,     0,     0,\n",
       "           0,     0,     0,     0,     0,     0,     0,     0,     0,\n",
       "           0,     0,     0,     0,     0,     0,     0,     0,     0,\n",
       "           0,     0,     0,     0,     0,     0,     0,     0,     0,\n",
       "           0,     0,     0,     0,     0,     0,     0,     0,     0,\n",
       "           0,     0,     0,     0,     0,     0,     0,     0,     0,\n",
       "           0,     0,     0,     0,     0,     0,     0,     0,     0,\n",
       "           0,     0,     0,     0,     0,     0,     0,     0,     0,\n",
       "           0,     0,     0,     0,     0,     0,     0,     0,     0,\n",
       "           0,     0,     0,     0,     0,     0,     0,     0,     0,\n",
       "           0,     0,     0,     0,     0,     0,     0,     0,     0,\n",
       "           0,     0,     0,     0,     0,     0,     0,     0,     0,\n",
       "           0,     0,     0,     0,     0,     0,     0,     0,     0,\n",
       "           0,     0,     0,     0,     0,     0,     0,     0,     0,\n",
       "           0,     0,     0,     0,     0,     0,     0,     0,     0,\n",
       "           0,     0,     0,     0,     0,     0,     0,     0,     0,\n",
       "           0,     0,     0,     0,     0,     0,     0,     0,     0,\n",
       "           0,     0,     0,     0,     0,     0,     0,     0,     0,\n",
       "           0,     0,     0,     0,     0,     0,     0,     0,     0,\n",
       "           0,     0,     0,     0,     0,     0,     0,     0,     0,\n",
       "           0,     0,     0,     0,     0,     0,     0,     0,     0,\n",
       "           0,     0,     0,     0,     0,     0,     0,     0,     0,\n",
       "           0,     0,     0,     0,     0,     0,     0,     0,     0,\n",
       "           0,     0,     0,     0,     0,     0,     0,     0,     0,\n",
       "           0,     0,     0,     0,     0,     0,     0,     0,     0,\n",
       "           0,     0,     0,     0,     0,     0,     0,     0,     0,\n",
       "           0,     0,     0,     0,     0,     0,     0,     0,     0,\n",
       "           0,     0,     0,     0,     0,     0,     0,     0,     0,\n",
       "           0,     0,     0,     0,     0,     0,     0,     0,     0,\n",
       "           0,     0,     0,     0,     0,     0,     0,     0,     0,\n",
       "           0,     0,     0,     0,     0,     0,     0,     0,     0,\n",
       "           0,     0,     0,     0,     0,     0,     0,     0,     0,\n",
       "           0,     0,     0,     0,     0,     0,     0,     0,     0,\n",
       "           0,     0,     0,     0,     0,     0,     0,     0,     0,\n",
       "           0,     0,     0,     0,     0,     0,     0,     0,     0,\n",
       "           0,     0,     0,     0,     0,     0,     0,     0,     0,\n",
       "           0,     0,     0,     0,     0,     0,     0,     0,     0,\n",
       "           0,     0,     0,     0,     0,     0,     0,     0,     0,\n",
       "           0,     0,     0,     0,     0,     0,     0,     0,     0,\n",
       "           0,     0,     0,     0,     0,     0,     0,     0,     0,\n",
       "           0,     0,     0,     0,     0,     0,     0,     0,     0,\n",
       "           0,     0,     0,     0,     0,     0,     0,     0,     0,\n",
       "           0,     0,     0,     0,     0,     0,     0,     0,     0,\n",
       "           0,     0,     0,     0,     0,     0,     0,     0,     0,\n",
       "           0,     0,     0,     0,     0,     0,     0,     0,     0,\n",
       "           0,     0,     0,     0,     0,     0,     0,     0,     0,\n",
       "           0,     0,     0,     0,     0,     0,     0,     0,     0,\n",
       "           0,     0,     0,     0,     0,     0,     0,     0,     0,\n",
       "           0,     0,     0,     0,     0,     0,     0,     0,     0,\n",
       "           0,     0,     0,     0,     0,     0,     0,     0,     0,\n",
       "           0,     0,     0,     0,     0,     0,     0,     0,     0,\n",
       "           0,     0,     0,     0,     0,     0,     0,     0,     0,\n",
       "           0,     0,     0,     0,     0,     0,     0,     0,     0,\n",
       "           0,     0,     0,     0,     0,     0,     0,     0,     0,\n",
       "           0,     0,     0,     0,     0,     0,     0,     0,     0,\n",
       "           0,     0,     0,     0,     0,     0,     0,     0,     0,\n",
       "           0,     0,     0,     0,     0,     0,     0,     0,     0,\n",
       "           0,     0,     0,     0,     0,     0,     0,     0,     0,\n",
       "           0,     0,     0,     0,     0,     0,     0,     0,     0,\n",
       "           0,     0,     0,     0,     0,     0,     0,     0,     0,\n",
       "           0,     0,     0,     0,     0,     0,     0,     0,     0,\n",
       "           0,     0,     0,     0,     0,     0,     0,     0,     0,\n",
       "           0,     0,     0,     0,     0,     0,     0,     0,     0,\n",
       "           0,     0,     0,     0,     0,     0,     0,     0,     0,\n",
       "           0,     0,     0,     0,     0,     0,     0,     0,     0,\n",
       "           0,     0,     0,     0,     0,     0,     0,     0,     0,\n",
       "           0,     0,     0,     0,     0,     0,     0,     0,     0,\n",
       "           0,     0,     0,     0,     0,     0,     0,     0,     0,\n",
       "           0,     0,     0,     0,     0,     0,     0,     0,     0,\n",
       "           0,     0,     0,     0,     0,     0,     0,     0,     0,\n",
       "           0,     0,     0,     0,     0,     0,     0,     0,     0,\n",
       "           0,     0,     0,     0,     0,     0,     0,     0,     0,\n",
       "           0,     0,     0,     0,     0,     0,     0,     0,     0,\n",
       "           0,     0,     0,     0,     0,     0,     0,     0,     0,\n",
       "           0,     0,     0,     0,     0,     0,     0,     0,     0,\n",
       "           0,     0,     0,     0,     0,     0,     0,     0,     0,\n",
       "           0,     0,     0,     0,     0,     0,     0,     0,     0,\n",
       "           0,     0,     0,     0,     0,     0,     0,     0,     0,\n",
       "           0,     0,     0,     0,     0,     0,     0,     0,     0,\n",
       "           0,     0,     0,     0,     0,     0,     0,     0,     0,\n",
       "           0,     0,     0,     0,     0,     0,     0,     0,     0,\n",
       "           0,     0,     0,     0,     0,     0,     0,     0,     0,\n",
       "           0,     0,     0,     0,     0,     0,     0,     0,     0,\n",
       "           0,     0,     0,     0,     0,     0,     0,     0,     0,\n",
       "           0,     0,     0,     0,     0,     0,     0,     0,     0,\n",
       "           0,     0,     0,     0,     0,     0,     0,     0,     0,\n",
       "           0,     0,     0,     0,     0,     0,     0,     0,     0,\n",
       "           0,     0,     0,     0,     0,     0,     0,     0,     0,\n",
       "           0,     0,     0,     0,     0,     0,     0,     0,     0,\n",
       "           0,     0,     0,     0,     0,     0,     0,     0,     0,\n",
       "           0,     0,     0,     0,     0,     0,     0,     0,     0,\n",
       "           0,     0,     0,     0,     0,     0,     0,     0,     0,\n",
       "           0,     0,     0,     0,     0,     0,     0,     0,     0,\n",
       "           0,     0,     0,     0,     0,     0,     0,     0,     0,\n",
       "           0,     0,     0,     0,     0,     0,     0,     0,     0,\n",
       "           0,     0,     0,     0,     0,     0,     0,     0,     0,\n",
       "           0,     0,     0,     0,     0,     0,     0,     0,     0,\n",
       "           0,     0,     0,     0,     0,     0,     0,     0,     0])"
      ]
     },
     "execution_count": 55,
     "metadata": {},
     "output_type": "execute_result"
    }
   ],
   "source": [
    "x_train = pad_sequences(sequences_train, padding = 'post', maxlen = max)\n",
    "x_train[0]"
   ]
  },
  {
   "cell_type": "code",
   "execution_count": 56,
   "metadata": {
    "id": "EWORN43S1Hdi"
   },
   "outputs": [],
   "source": [
    "sequences_test = tk_review.texts_to_sequences(x_temp1)\n",
    "word_index = tk_review.word_index"
   ]
  },
  {
   "cell_type": "code",
   "execution_count": 57,
   "metadata": {
    "colab": {
     "base_uri": "https://localhost:8080/"
    },
    "id": "Lii1gx4IJMso",
    "outputId": "25f4f93c-bae5-499e-f9bb-f6bc1c74e987"
   },
   "outputs": [
    {
     "data": {
      "text/plain": [
       "array([  874,   240,    38,   224,   362,  2150,     7,    12,   874,\n",
       "         486,   241,   362,    74, 12199,  1337,   777,  2039,   898,\n",
       "          51,   261,  2347,    25,   175,   888,  3203,   253,  2039,\n",
       "         136,   225,    75,  1498,   874,   282,    19,    15,  1475,\n",
       "         166,   108,     2,   465,   338,   333,  2900,   108,   874,\n",
       "          63,    62,    16,   112,   777,    51,   928,    44,    22,\n",
       "        7986,   629,  1161,   171,   843,    14,    91,   215,     3,\n",
       "         121,    15,   158,    99,     0,     0,     0,     0,     0,\n",
       "           0,     0,     0,     0,     0,     0,     0,     0,     0,\n",
       "           0,     0,     0,     0,     0,     0,     0,     0,     0,\n",
       "           0,     0,     0,     0,     0,     0,     0,     0,     0,\n",
       "           0,     0,     0,     0,     0,     0,     0,     0,     0,\n",
       "           0,     0,     0,     0,     0,     0,     0,     0,     0,\n",
       "           0,     0,     0,     0,     0,     0,     0,     0,     0,\n",
       "           0,     0,     0,     0,     0,     0,     0,     0,     0,\n",
       "           0,     0,     0,     0,     0,     0,     0,     0,     0,\n",
       "           0,     0,     0,     0,     0,     0,     0,     0,     0,\n",
       "           0,     0,     0,     0,     0,     0,     0,     0,     0,\n",
       "           0,     0,     0,     0,     0,     0,     0,     0,     0,\n",
       "           0,     0,     0,     0,     0,     0,     0,     0,     0,\n",
       "           0,     0,     0,     0,     0,     0,     0,     0,     0,\n",
       "           0,     0,     0,     0,     0,     0,     0,     0,     0,\n",
       "           0,     0,     0,     0,     0,     0,     0,     0,     0,\n",
       "           0,     0,     0,     0,     0,     0,     0,     0,     0,\n",
       "           0,     0,     0,     0,     0,     0,     0,     0,     0,\n",
       "           0,     0,     0,     0,     0,     0,     0,     0,     0,\n",
       "           0,     0,     0,     0,     0,     0,     0,     0,     0,\n",
       "           0,     0,     0,     0,     0,     0,     0,     0,     0,\n",
       "           0,     0,     0,     0,     0,     0,     0,     0,     0,\n",
       "           0,     0,     0,     0,     0,     0,     0,     0,     0,\n",
       "           0,     0,     0,     0,     0,     0,     0,     0,     0,\n",
       "           0,     0,     0,     0,     0,     0,     0,     0,     0,\n",
       "           0,     0,     0,     0,     0,     0,     0,     0,     0,\n",
       "           0,     0,     0,     0,     0,     0,     0,     0,     0,\n",
       "           0,     0,     0,     0,     0,     0,     0,     0,     0,\n",
       "           0,     0,     0,     0,     0,     0,     0,     0,     0,\n",
       "           0,     0,     0,     0,     0,     0,     0,     0,     0,\n",
       "           0,     0,     0,     0,     0,     0,     0,     0,     0,\n",
       "           0,     0,     0,     0,     0,     0,     0,     0,     0,\n",
       "           0,     0,     0,     0,     0,     0,     0,     0,     0,\n",
       "           0,     0,     0,     0,     0,     0,     0,     0,     0,\n",
       "           0,     0,     0,     0,     0,     0,     0,     0,     0,\n",
       "           0,     0,     0,     0,     0,     0,     0,     0,     0,\n",
       "           0,     0,     0,     0,     0,     0,     0,     0,     0,\n",
       "           0,     0,     0,     0,     0,     0,     0,     0,     0,\n",
       "           0,     0,     0,     0,     0,     0,     0,     0,     0,\n",
       "           0,     0,     0,     0,     0,     0,     0,     0,     0,\n",
       "           0,     0,     0,     0,     0,     0,     0,     0,     0,\n",
       "           0,     0,     0,     0,     0,     0,     0,     0,     0,\n",
       "           0,     0,     0,     0,     0,     0,     0,     0,     0,\n",
       "           0,     0,     0,     0,     0,     0,     0,     0,     0,\n",
       "           0,     0,     0,     0,     0,     0,     0,     0,     0,\n",
       "           0,     0,     0,     0,     0,     0,     0,     0,     0,\n",
       "           0,     0,     0,     0,     0,     0,     0,     0,     0,\n",
       "           0,     0,     0,     0,     0,     0,     0,     0,     0,\n",
       "           0,     0,     0,     0,     0,     0,     0,     0,     0,\n",
       "           0,     0,     0,     0,     0,     0,     0,     0,     0,\n",
       "           0,     0,     0,     0,     0,     0,     0,     0,     0,\n",
       "           0,     0,     0,     0,     0,     0,     0,     0,     0,\n",
       "           0,     0,     0,     0,     0,     0,     0,     0,     0,\n",
       "           0,     0,     0,     0,     0,     0,     0,     0,     0,\n",
       "           0,     0,     0,     0,     0,     0,     0,     0,     0,\n",
       "           0,     0,     0,     0,     0,     0,     0,     0,     0,\n",
       "           0,     0,     0,     0,     0,     0,     0,     0,     0,\n",
       "           0,     0,     0,     0,     0,     0,     0,     0,     0,\n",
       "           0,     0,     0,     0,     0,     0,     0,     0,     0,\n",
       "           0,     0,     0,     0,     0,     0,     0,     0,     0,\n",
       "           0,     0,     0,     0,     0,     0,     0,     0,     0,\n",
       "           0,     0,     0,     0,     0,     0,     0,     0,     0,\n",
       "           0,     0,     0,     0,     0,     0,     0,     0,     0,\n",
       "           0,     0,     0,     0,     0,     0,     0,     0,     0,\n",
       "           0,     0,     0,     0,     0,     0,     0,     0,     0,\n",
       "           0,     0,     0,     0,     0,     0,     0,     0,     0,\n",
       "           0,     0,     0,     0,     0,     0,     0,     0,     0,\n",
       "           0,     0,     0,     0,     0,     0,     0,     0,     0,\n",
       "           0,     0,     0,     0,     0,     0,     0,     0,     0,\n",
       "           0,     0,     0,     0,     0,     0,     0,     0,     0,\n",
       "           0,     0,     0,     0,     0,     0,     0,     0,     0,\n",
       "           0,     0,     0,     0,     0,     0,     0,     0,     0,\n",
       "           0,     0,     0,     0,     0,     0,     0,     0,     0,\n",
       "           0,     0,     0,     0,     0,     0,     0,     0,     0,\n",
       "           0,     0,     0,     0,     0,     0,     0,     0,     0,\n",
       "           0,     0,     0,     0,     0,     0,     0,     0,     0,\n",
       "           0,     0,     0,     0,     0,     0,     0,     0,     0,\n",
       "           0,     0,     0,     0,     0,     0,     0,     0,     0,\n",
       "           0,     0,     0,     0,     0,     0,     0,     0,     0,\n",
       "           0,     0,     0,     0,     0,     0,     0,     0,     0,\n",
       "           0,     0,     0,     0,     0,     0,     0,     0,     0,\n",
       "           0,     0,     0,     0,     0,     0,     0,     0,     0,\n",
       "           0,     0,     0,     0,     0,     0,     0,     0,     0,\n",
       "           0,     0,     0,     0,     0,     0,     0,     0,     0,\n",
       "           0,     0,     0,     0,     0,     0,     0,     0,     0,\n",
       "           0,     0,     0,     0,     0,     0,     0,     0,     0,\n",
       "           0,     0,     0,     0,     0,     0,     0,     0,     0,\n",
       "           0,     0,     0,     0,     0,     0,     0,     0,     0,\n",
       "           0,     0,     0,     0,     0,     0,     0,     0,     0,\n",
       "           0,     0,     0,     0,     0,     0,     0,     0,     0,\n",
       "           0,     0,     0,     0,     0,     0,     0,     0,     0,\n",
       "           0,     0,     0,     0,     0,     0,     0,     0,     0,\n",
       "           0,     0,     0,     0,     0,     0,     0,     0,     0,\n",
       "           0,     0,     0,     0,     0,     0,     0,     0,     0,\n",
       "           0,     0,     0,     0,     0,     0,     0,     0,     0,\n",
       "           0,     0,     0,     0,     0,     0,     0,     0,     0,\n",
       "           0,     0,     0,     0,     0,     0,     0,     0,     0,\n",
       "           0,     0,     0,     0,     0,     0,     0,     0,     0,\n",
       "           0,     0,     0,     0,     0,     0,     0,     0,     0,\n",
       "           0,     0,     0,     0,     0,     0,     0,     0,     0])"
      ]
     },
     "execution_count": 57,
     "metadata": {},
     "output_type": "execute_result"
    }
   ],
   "source": [
    "x_test = pad_sequences(sequences_test, padding = 'post', maxlen = max)\n",
    "x_test[0]"
   ]
  },
  {
   "cell_type": "code",
   "execution_count": 58,
   "metadata": {
    "colab": {
     "base_uri": "https://localhost:8080/"
    },
    "id": "EPF1ki0hNFbx",
    "outputId": "c717aad7-20c5-4417-bcef-c9b4100405a5"
   },
   "outputs": [
    {
     "data": {
      "text/plain": [
       "(161291, 963)"
      ]
     },
     "execution_count": 58,
     "metadata": {},
     "output_type": "execute_result"
    }
   ],
   "source": [
    "x_train.shape"
   ]
  },
  {
   "cell_type": "code",
   "execution_count": 59,
   "metadata": {
    "colab": {
     "base_uri": "https://localhost:8080/"
    },
    "id": "B6irD_izNIuA",
    "outputId": "0f2ef00d-ce7a-4512-dadf-e3279ef7e2c6"
   },
   "outputs": [
    {
     "data": {
      "text/plain": [
       "(161291, 3)"
      ]
     },
     "execution_count": 59,
     "metadata": {},
     "output_type": "execute_result"
    }
   ],
   "source": [
    "y_train.shape"
   ]
  },
  {
   "cell_type": "code",
   "execution_count": 60,
   "metadata": {
    "colab": {
     "base_uri": "https://localhost:8080/"
    },
    "id": "9fTyemrSNLon",
    "outputId": "a8578552-9e18-4d2a-b244-3c5e75de19a7"
   },
   "outputs": [
    {
     "data": {
      "text/plain": [
       "(161291, 963)"
      ]
     },
     "execution_count": 60,
     "metadata": {},
     "output_type": "execute_result"
    }
   ],
   "source": [
    "x_test.shape"
   ]
  },
  {
   "cell_type": "code",
   "execution_count": 61,
   "metadata": {
    "colab": {
     "base_uri": "https://localhost:8080/"
    },
    "id": "e2Msmp2ZNO2L",
    "outputId": "33b0c59c-16ee-4f44-b77b-1ea125b8723e"
   },
   "outputs": [
    {
     "data": {
      "text/plain": [
       "(161291, 3)"
      ]
     },
     "execution_count": 61,
     "metadata": {},
     "output_type": "execute_result"
    }
   ],
   "source": [
    "y_test.shape"
   ]
  },
  {
   "cell_type": "markdown",
   "metadata": {
    "id": "rIelXn9x3nG5"
   },
   "source": [
    "### **6. Preparing the model** ###"
   ]
  },
  {
   "cell_type": "code",
   "execution_count": 76,
   "metadata": {
    "colab": {
     "base_uri": "https://localhost:8080/"
    },
    "id": "sc9MfwTIJeuC",
    "outputId": "0c3483a9-bdb0-4fb6-d7b5-9fd77dc7599a"
   },
   "outputs": [],
   "source": [
    "from keras.layers.pooling import GlobalMaxPooling1D\n",
    "#Creating model\n",
    "\n",
    "D = 20 # Dimension of Embedding layer\n",
    "M = 15 # Dimension of LSTM layer\n",
    "\n",
    "model = Sequential()\n",
    "model.add(Embedding(V+1, D, input_length = x_train.shape[1]))\n",
    "model.add(LSTM(M, return_sequences=True, recurrent_dropout=0.2))\n",
    "model.add(GlobalMaxPooling1D())\n",
    "model.add(Dense(32, activation='relu'))\n",
    "model.add(Dense(3, activation='sigmoid'))"
   ]
  },
  {
   "cell_type": "code",
   "execution_count": 77,
   "metadata": {
    "colab": {
     "base_uri": "https://localhost:8080/"
    },
    "id": "Y5evreRBeYSw",
    "outputId": "ffd92b34-4ee8-486c-c480-a29b77b0c41f"
   },
   "outputs": [
    {
     "name": "stdout",
     "output_type": "stream",
     "text": [
      "Model: \"sequential_1\"\n",
      "_________________________________________________________________\n",
      " Layer (type)                Output Shape              Param #   \n",
      "=================================================================\n",
      " embedding_1 (Embedding)     (None, 963, 20)           1686360   \n",
      "                                                                 \n",
      " lstm_1 (LSTM)               (None, 963, 15)           2160      \n",
      "                                                                 \n",
      " global_max_pooling1d_1 (Glo  (None, 15)               0         \n",
      " balMaxPooling1D)                                                \n",
      "                                                                 \n",
      " dense_2 (Dense)             (None, 32)                512       \n",
      "                                                                 \n",
      " dense_3 (Dense)             (None, 3)                 99        \n",
      "                                                                 \n",
      "=================================================================\n",
      "Total params: 1,689,131\n",
      "Trainable params: 1,689,131\n",
      "Non-trainable params: 0\n",
      "_________________________________________________________________\n"
     ]
    }
   ],
   "source": [
    "model.compile(loss='binary_crossentropy', optimizer=Adam(learning_rate=0.01), metrics=['accuracy'])\n",
    "model.summary()"
   ]
  },
  {
   "cell_type": "code",
   "execution_count": 78,
   "metadata": {
    "colab": {
     "base_uri": "https://localhost:8080/",
     "height": 644
    },
    "id": "DwNPo7E3bly3",
    "outputId": "0ea89c24-e274-4b0a-e714-c9971bca70ea"
   },
   "outputs": [],
   "source": [
    "# tf.keras.utils.plot_model(model, show_shapes = True)"
   ]
  },
  {
   "cell_type": "code",
   "execution_count": 79,
   "metadata": {
    "colab": {
     "base_uri": "https://localhost:8080/"
    },
    "id": "h7ghMSFmd8j-",
    "outputId": "88369766-6aab-4d80-865e-1ea322ec3b8f"
   },
   "outputs": [
    {
     "data": {
      "text/plain": [
       "(161291, 3)"
      ]
     },
     "execution_count": 79,
     "metadata": {},
     "output_type": "execute_result"
    }
   ],
   "source": [
    "y_test.shape"
   ]
  },
  {
   "cell_type": "code",
   "execution_count": 80,
   "metadata": {
    "colab": {
     "base_uri": "https://localhost:8080/"
    },
    "id": "NrT2ZM1Jg0zC",
    "outputId": "437310a5-56dd-4dc4-f750-52abd83e90ea"
   },
   "outputs": [
    {
     "name": "stdout",
     "output_type": "stream",
     "text": [
      "Epoch 1/5\n",
      "5041/5041 [==============================] - 5041s 999ms/step - loss: 0.4017 - accuracy: 0.7209 - val_loss: 0.3222 - val_accuracy: 0.7797\n",
      "Epoch 2/5\n",
      "5041/5041 [==============================] - 5054s 1s/step - loss: 0.3265 - accuracy: 0.7784 - val_loss: 0.2722 - val_accuracy: 0.8227\n",
      "Epoch 3/5\n",
      "5041/5041 [==============================] - 5041s 1s/step - loss: 0.2859 - accuracy: 0.8114 - val_loss: 0.2442 - val_accuracy: 0.8471\n",
      "Epoch 4/5\n",
      "5041/5041 [==============================] - 4989s 990ms/step - loss: 0.2563 - accuracy: 0.8353 - val_loss: 0.2174 - val_accuracy: 0.8616\n",
      "Epoch 5/5\n",
      "5041/5041 [==============================] - 5051s 1s/step - loss: 0.2337 - accuracy: 0.8505 - val_loss: 0.2032 - val_accuracy: 0.8709\n"
     ]
    }
   ],
   "source": [
    "# training model\n",
    "history = model.fit(x_train,y_train, epochs=5, verbose=1, validation_data = (x_test,y_test))"
   ]
  },
  {
   "cell_type": "code",
   "execution_count": 81,
   "metadata": {
    "id": "MWf1JYs1Jnch"
   },
   "outputs": [
    {
     "name": "stdout",
     "output_type": "stream",
     "text": [
      "dict_keys(['loss', 'accuracy', 'val_loss', 'val_accuracy'])\n"
     ]
    }
   ],
   "source": [
    "# list all data in history\n",
    "print(history.history.keys())"
   ]
  },
  {
   "cell_type": "code",
   "execution_count": 82,
   "metadata": {
    "id": "OF1vn1LvhCrc"
   },
   "outputs": [
    {
     "data": {
      "image/png": "[encoded data removed]",
      "text/plain": [
       "<Figure size 640x480 with 1 Axes>"
      ]
     },
     "metadata": {},
     "output_type": "display_data"
    }
   ],
   "source": [
    "# summarize history for accuracy\n",
    "plt.plot(history.history['accuracy'])\n",
    "plt.plot(history.history['val_accuracy'])\n",
    "plt.title('model accuracy')\n",
    "plt.ylabel('accuracy')\n",
    "plt.xlabel('epoch')\n",
    "plt.legend(['train', 'test'], loc='upper left')\n",
    "plt.show()"
   ]
  },
  {
   "cell_type": "code",
   "execution_count": 83,
   "metadata": {
    "id": "Dm_ckVhZhFMz"
   },
   "outputs": [
    {
     "data": {
      "image/png": "[encoded data removed]",
      "text/plain": [
       "<Figure size 640x480 with 1 Axes>"
      ]
     },
     "metadata": {},
     "output_type": "display_data"
    }
   ],
   "source": [
    "# summarize history for loss\n",
    "plt.plot(history.history['loss'])\n",
    "plt.plot(history.history['val_loss'])\n",
    "plt.title('model loss')\n",
    "plt.ylabel('loss')\n",
    "plt.xlabel('epoch')\n",
    "plt.legend(['train', 'test'], loc='upper left')\n",
    "plt.show()"
   ]
  },
  {
   "cell_type": "markdown",
   "metadata": {},
   "source": [
    "### **7. Predicting sentences** ###"
   ]
  },
  {
   "cell_type": "code",
   "execution_count": 105,
   "metadata": {},
   "outputs": [
    {
     "name": "stdout",
     "output_type": "stream",
     "text": [
      "(1, 963)\n",
      "1/1 [==============================] - 0s 141ms/step\n",
      "1.0 0.0 0.0\n"
     ]
    }
   ],
   "source": [
    "a = ['i love it very much']\n",
    "a = tk_review.texts_to_sequences(a)\n",
    "a = np.array(a)\n",
    "a = pad_sequences(a,padding='post',maxlen=max)\n",
    "print(a.shape)\n",
    "prediction = model.predict(np.array(a))\n",
    "print(prediction[0][0].round(), prediction[0][1].round(), prediction[0][2].round())"
   ]
  },
  {
   "cell_type": "code",
   "execution_count": 106,
   "metadata": {},
   "outputs": [
    {
     "name": "stdout",
     "output_type": "stream",
     "text": [
      "(1, 963)\n",
      "1/1 [==============================] - 0s 141ms/step\n",
      "0.0 1.0 0.0\n"
     ]
    }
   ],
   "source": [
    "b = ['i detest it']\n",
    "b = tk_review.texts_to_sequences(b)\n",
    "b = np.array(b)\n",
    "b = pad_sequences(b,padding='post',maxlen=max)\n",
    "print(b.shape)\n",
    "prediction = model.predict(np.array(b))\n",
    "print(prediction[0][0].round(), prediction[0][1].round(), prediction[0][2].round())"
   ]
  },
  {
   "cell_type": "code",
   "execution_count": 107,
   "metadata": {},
   "outputs": [
    {
     "name": "stdout",
     "output_type": "stream",
     "text": [
      "(1, 963)\n",
      "1/1 [==============================] - 0s 141ms/step\n",
      "1.0 0.0 0.0\n"
     ]
    }
   ],
   "source": [
    "c = ['i ate it with great pleasure']\n",
    "c = tk_review.texts_to_sequences(c)\n",
    "c = np.array(c)\n",
    "c = pad_sequences(c,padding='post',maxlen=max)\n",
    "print(c.shape)\n",
    "prediction = model.predict(np.array(c))\n",
    "print(prediction[0][0].round(), prediction[0][1].round(), prediction[0][2].round())"
   ]
  },
  {
   "cell_type": "code",
   "execution_count": 110,
   "metadata": {},
   "outputs": [
    {
     "name": "stdout",
     "output_type": "stream",
     "text": [
      "(1, 963)\n",
      "1/1 [==============================] - 0s 187ms/step\n",
      "0.0 1.0 0.0\n",
      "0.12944452 0.764981 0.11588001\n"
     ]
    }
   ],
   "source": [
    "d = ['i dislike how bad the sofa feels but i like the design']\n",
    "d = tk_review.texts_to_sequences(d)\n",
    "d = np.array(d)\n",
    "d = pad_sequences(d,padding='post',maxlen=max)\n",
    "print(d.shape)\n",
    "prediction = model.predict(np.array(d))\n",
    "print(prediction[0][0].round(), prediction[0][1].round(), prediction[0][2].round())\n",
    "print(prediction[0][0], prediction[0][1], prediction[0][2])"
   ]
  },
  {
   "cell_type": "markdown",
   "metadata": {},
   "source": [
    "### **7. Exporting model** ###"
   ]
  },
  {
   "cell_type": "code",
   "execution_count": 117,
   "metadata": {},
   "outputs": [],
   "source": [
    "model.save('Sentiment_analysis_Drug_test.h5')"
   ]
  },
  {
   "cell_type": "markdown",
   "metadata": {},
   "source": [
    "### **8. Model Indormation** ###"
   ]
  },
  {
   "cell_type": "code",
   "execution_count": 122,
   "metadata": {},
   "outputs": [
    {
     "name": "stdout",
     "output_type": "stream",
     "text": [
      "Accuracy: 0.917491\n",
      "Precision: 0.919197\n",
      "Recall: 0.946583\n",
      "F1 score: 0.932689\n",
      "[[55782  8105]\n",
      " [ 5203 92201]]\n"
     ]
    }
   ],
   "source": [
    "# x_test_dummy = tk_review.texts_to_sequences(x_test)\n",
    "# x_test_dummy = np.array(x_test_dummy)\n",
    "# x_test_dummy = pad_sequences(x_test_dummy,padding='post',maxlen=max)\n",
    "\n",
    "from sklearn.metrics import accuracy_score\n",
    "from sklearn.metrics import precision_score\n",
    "from sklearn.metrics import recall_score\n",
    "from sklearn.metrics import f1_score\n",
    "from sklearn.metrics import confusion_matrix\n",
    "\n",
    "# Predict probabilities for test set\n",
    "# yhat_probs = model.predict(x_test_dummy, verbose=0)\n",
    "yhat_probs = model.predict(x_test, verbose=0)\n",
    "yhat_probs\n",
    "\n",
    "yhat_classes = yhat_probs.round().astype(int)\n",
    "yhat_classes\n",
    "\n",
    "yhat_test = y_test\n",
    "\n",
    "# Reduce to 1d array\n",
    "yhat_test = yhat_test[:, 0]\n",
    "yhat_classes = yhat_classes[:, 0]\n",
    "\n",
    "# Accuracy: (tp + tn) / (p + n)\n",
    "accuracy = accuracy_score(yhat_test, yhat_classes)\n",
    "print('Accuracy: %f' % accuracy)\n",
    "\n",
    "# Precision tp / (tp + fp)\n",
    "precision = precision_score(yhat_test, yhat_classes)\n",
    "print('Precision: %f' % precision)\n",
    "\n",
    "# Recall: tp / (tp + fn)\n",
    "recall = recall_score(yhat_test, yhat_classes)\n",
    "print('Recall: %f' % recall)\n",
    "\n",
    "# F1 Score: 2 tp / (2 tp + fp + fn)\n",
    "f1 = f1_score(yhat_test, yhat_classes)\n",
    "print('F1 score: %f' % f1)\n",
    "\n",
    "# Confusion matrix\n",
    "matrix = confusion_matrix(yhat_test, yhat_classes)\n",
    "print(matrix)"
   ]
  },
  {
   "cell_type": "code",
   "execution_count": null,
   "metadata": {},
   "outputs": [],
   "source": []
  }
 ],
 "metadata": {
  "accelerator": "GPU",
  "colab": {
   "collapsed_sections": [
    "6FXkKERRhANT"
   ],
   "provenance": []
  },
  "gpuClass": "standard",
  "kernelspec": {
   "display_name": "Python 3 (ipykernel)",
   "language": "python",
   "name": "python3"
  },
  "language_info": {
   "codemirror_mode": {
    "name": "ipython",
    "version": 3
   },
   "file_extension": ".py",
   "mimetype": "text/x-python",
   "name": "python",
   "nbconvert_exporter": "python",
   "pygments_lexer": "ipython3",
   "version": "3.9.13"
  }
 },
 "nbformat": 4,
 "nbformat_minor": 1
}
